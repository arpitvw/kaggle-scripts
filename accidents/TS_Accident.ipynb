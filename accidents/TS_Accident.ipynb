{
 "cells": [
  {
   "cell_type": "markdown",
   "metadata": {},
   "source": [
    "Accidents in traffic lead to associated fatalities and economic losses every year worldwide and thus is an area of primary concern to society from loss prevention point of view. Modeling accident severity prediction and improving the model are critical to the effective performance of road traffic systems for improved safety. In accident severity modeling, the input vectors are the characteristics of the accident, such as driver behavior and attributes of vehicle, highway and environment characteristics while the output vector is the corresponding class of accident severity.\n",
    "\n",
    "There are two main engineering approaches for dealing with traffic safety problems: the reactive approach and the proactive approach. The reactive approach, or retrofit approach, consists of making the necessary improvements to variable, for instance, existing hazardous sites in order to reduce collision frequency and severity at these sites. The proactive approach, on the other hand, includes a collision prevention approach, like, preventing a potential unsafe road conditions from occurring in the first place. We focus on proactive approach which involves prediction of accident severity and working backwards, the concerned entity implements appropriate remedial measures to improve road safety. By recognizing the key factors that influence accident severity, the solution may be of great utility to various Government Departments/Authorities like Police, R&B and Transport from public policy point of view. The results of analysis and modeling can be used by these Departments to take appropriate measures to reduce accident impact and thereby improve traffic safety. It is also useful to the Insurers in terms of reduced claims and better underwriting as well as rate making."
   ]
  },
  {
   "cell_type": "markdown",
   "metadata": {},
   "source": [
    "importing the libraries"
   ]
  },
  {
   "cell_type": "code",
   "execution_count": 2,
   "metadata": {
    "collapsed": true
   },
   "outputs": [],
   "source": [
    "import pandas as pd\n",
    "import sklearn as sk\n",
    "from sklearn.preprocessing import LabelEncoder\n",
    "import numpy as np\n",
    "from scipy import stats as st\n",
    "import matplotlib.pyplot as plt\n",
    "import seaborn as sns\n",
    "from sklearn.neural_network import MLPClassifier\n",
    "from sklearn.utils import shuffle\n",
    "from imblearn.over_sampling import RandomOverSampler"
   ]
  },
  {
   "cell_type": "markdown",
   "metadata": {},
   "source": [
    "loading of file using pandas"
   ]
  },
  {
   "cell_type": "code",
   "execution_count": 4,
   "metadata": {},
   "outputs": [],
   "source": [
    "data_test = pd.read_csv(\"C:\\\\Users\\\\ARPIT\\\\Desktop\\\\Talentsprit\\\\practice_code\\\\Kaggle\\\\Accident\\\\Accident_train.csv\")\n",
    "data_test=shuffle(data_test)\n",
    "#data_test[\"Policing_Area\"]"
   ]
  },
  {
   "cell_type": "markdown",
   "metadata": {},
   "source": [
    "Predictive variable=y=colliosion_severity"
   ]
  },
  {
   "cell_type": "markdown",
   "metadata": {},
   "source": [
    "checking file properties(shape,columns)"
   ]
  },
  {
   "cell_type": "code",
   "execution_count": 5,
   "metadata": {},
   "outputs": [
    {
     "name": "stdout",
     "output_type": "stream",
     "text": [
      "shape of data: (10043, 17)\n",
      "no. of sample : 10043\n",
      "no. of features including label: 17\n",
      "columns: ['Collision_Severity' 'Collision_Ref_No' 'Policing_Area'\n",
      " 'Weekday_of_Collision' 'Day_of_Collision' 'Month_of_Collision'\n",
      " 'Hour_of_Collision' 'Carriageway_Type' 'Speed_Limit' 'Junction_Detail'\n",
      " 'Junction_Control' 'Ped_Crossing_HC' 'Ped_Crossing_PC' 'Light_Conditions'\n",
      " 'Weather_Conditions' 'Road_Surface_Conditions'\n",
      " 'Special_Conditions_at_Site']\n"
     ]
    }
   ],
   "source": [
    "print ('shape of data:',data_test.shape)\n",
    "print ('no. of sample :',data_test.shape[0])\n",
    "print ('no. of features including label:',data_test.shape[1])\n",
    "print ('columns:', data_test.columns.values)"
   ]
  },
  {
   "cell_type": "code",
   "execution_count": 4,
   "metadata": {
    "collapsed": true
   },
   "outputs": [],
   "source": [
    "# data_test.head()"
   ]
  },
  {
   "cell_type": "markdown",
   "metadata": {},
   "source": [
    "data that we have is categorical in nature so we need to do preprocessing of the data and covert string into some interger categories"
   ]
  },
  {
   "cell_type": "code",
   "execution_count": 5,
   "metadata": {
    "collapsed": true
   },
   "outputs": [],
   "source": [
    "#we will use label encode from sklearn to change categorical data into numeric format"
   ]
  },
  {
   "cell_type": "code",
   "execution_count": 6,
   "metadata": {
    "collapsed": true
   },
   "outputs": [],
   "source": [
    "lb_make = LabelEncoder()\n",
    "# def encode(column_name):\n",
    "#     for i in column_name:\n",
    "#         data_test[i]=lb_make.fit_transform(data_test[\"Policing_Area\"].astype(str))\n",
    "data_test[\"Policing_Area_new\"] = lb_make.fit_transform(data_test[\"Policing_Area\"].astype(str))\n",
    "data_test[\"Weekday_of_Collision_new\"] = lb_make.fit_transform(data_test[\"Weekday_of_Collision\"].astype(str))\n",
    "data_test[\"Day_of_Collision_new\"] = lb_make.fit_transform(data_test[\"Day_of_Collision\"].astype(str))\n",
    "data_test[\"Month_of_Collision_new\"] = lb_make.fit_transform(data_test[\"Month_of_Collision\"].astype(str))\n",
    "data_test[\"Hour_of_Collision_new\"] = lb_make.fit_transform(data_test[\"Hour_of_Collision\"].astype(str))\n",
    "data_test[\"Carriageway_Type_new\"] = lb_make.fit_transform(data_test[\"Carriageway_Type\"].astype(str))\n",
    "data_test[\"Speed_Limit_new\"] = lb_make.fit_transform(data_test[\"Speed_Limit\"].astype(str))\n",
    "data_test[\"Junction_Detail_new\"] = lb_make.fit_transform(data_test[\"Junction_Detail\"].astype(str))\n",
    "data_test[\"Junction_Control_new\"] = lb_make.fit_transform(data_test[\"Junction_Control\"].astype(str))\n",
    "data_test[\"Ped_Crossing_HC_new\"] = lb_make.fit_transform(data_test[\"Ped_Crossing_HC\"].astype(str))\n",
    "data_test[\"Ped_Crossing_PC_new\"] = lb_make.fit_transform(data_test[\"Ped_Crossing_PC\"].astype(str))\n",
    "data_test[\"Light_Conditions_new\"] = lb_make.fit_transform(data_test[\"Light_Conditions\"].astype(str))\n",
    "data_test[\"Weather_Conditions_new\"] = lb_make.fit_transform(data_test[\"Weather_Conditions\"].astype(str))\n",
    "data_test[\"Road_Surface_Conditions_new\"] = lb_make.fit_transform(data_test[\"Road_Surface_Conditions\"].astype(str))\n",
    "data_test[\"Special_Conditions_at_Site_new\"] = lb_make.fit_transform(data_test[\"Special_Conditions_at_Site\"].astype(str))\n"
   ]
  },
  {
   "cell_type": "code",
   "execution_count": 11,
   "metadata": {},
   "outputs": [
    {
     "name": "stdout",
     "output_type": "stream",
     "text": [
      "['Collision_Severity' 'Collision_Ref_No' 'Policing_Area'\n",
      " 'Weekday_of_Collision' 'Day_of_Collision' 'Month_of_Collision'\n",
      " 'Hour_of_Collision' 'Carriageway_Type' 'Speed_Limit' 'Junction_Detail'\n",
      " 'Junction_Control' 'Ped_Crossing_HC' 'Ped_Crossing_PC' 'Light_Conditions'\n",
      " 'Weather_Conditions' 'Road_Surface_Conditions'\n",
      " 'Special_Conditions_at_Site' 'Policing_Area_new'\n",
      " 'Weekday_of_Collision_new' 'Day_of_Collision_new'\n",
      " 'Month_of_Collision_new' 'Hour_of_Collision_new' 'Carriageway_Type_new'\n",
      " 'Speed_Limit_new' 'Junction_Detail_new' 'Junction_Control_new'\n",
      " 'Ped_Crossing_HC_new' 'Ped_Crossing_PC_new' 'Light_Conditions_new'\n",
      " 'Weather_Conditions_new' 'Road_Surface_Conditions_new'\n",
      " 'Special_Conditions_at_Site_new']\n"
     ]
    },
    {
     "data": {
      "text/plain": [
       "array(['Collision_Severity', 'Policing_Area_new',\n",
       "       'Weekday_of_Collision_new', 'Day_of_Collision_new',\n",
       "       'Month_of_Collision_new', 'Hour_of_Collision_new',\n",
       "       'Carriageway_Type_new', 'Speed_Limit_new', 'Junction_Detail_new',\n",
       "       'Junction_Control_new', 'Ped_Crossing_HC_new',\n",
       "       'Ped_Crossing_PC_new', 'Light_Conditions_new',\n",
       "       'Weather_Conditions_new', 'Road_Surface_Conditions_new',\n",
       "       'Special_Conditions_at_Site_new'], dtype=object)"
      ]
     },
     "execution_count": 11,
     "metadata": {},
     "output_type": "execute_result"
    }
   ],
   "source": [
    "#print (data_test.head(10))\n",
    "print (data_test.columns.values)\n",
    "data_test=data_test.drop(['Collision_Ref_No', 'Policing_Area','Weekday_of_Collision', 'Day_of_Collision' ,'Month_of_Collision','Hour_of_Collision', 'Carriageway_Type', 'Speed_Limit', 'Junction_Detail','Junction_Control', 'Ped_Crossing_HC', 'Ped_Crossing_PC', 'Light_Conditions','Weather_Conditions', 'Road_Surface_Conditions','Special_Conditions_at_Site'],axis=1)\n",
    "data_test.columns.values #we added new columns using encoder"
   ]
  },
  {
   "cell_type": "code",
   "execution_count": 8,
   "metadata": {
    "collapsed": true
   },
   "outputs": [],
   "source": [
    "#data_test.head(25)"
   ]
  },
  {
   "cell_type": "markdown",
   "metadata": {},
   "source": [
    "checking for missing values in the given dataset"
   ]
  },
  {
   "cell_type": "code",
   "execution_count": 12,
   "metadata": {},
   "outputs": [
    {
     "name": "stdout",
     "output_type": "stream",
     "text": [
      "columns which are having missing values: ['Collision_Severity' 'Policing_Area_new' 'Weekday_of_Collision_new'\n",
      " 'Day_of_Collision_new' 'Month_of_Collision_new' 'Hour_of_Collision_new'\n",
      " 'Carriageway_Type_new' 'Speed_Limit_new' 'Junction_Detail_new'\n",
      " 'Junction_Control_new' 'Ped_Crossing_HC_new' 'Ped_Crossing_PC_new'\n",
      " 'Light_Conditions_new' 'Weather_Conditions_new'\n",
      " 'Road_Surface_Conditions_new' 'Special_Conditions_at_Site_new']\n"
     ]
    }
   ],
   "source": [
    "null_columns=data_test.columns[data_test.isnull().any()]\n",
    "data_test[null_columns].isnull().sum()\n",
    "print ('columns which are having missing values:',data_test.columns.values)"
   ]
  },
  {
   "cell_type": "markdown",
   "metadata": {},
   "source": [
    "#to make our dataset more appropriate we we have many options\n",
    "1) drop the rows which are having null(NA) values\n",
    "2) apply KNN and get the value \n",
    "3)calculte missing value as per mean\n",
    "4)according to max among all the values etc...."
   ]
  },
  {
   "cell_type": "code",
   "execution_count": 10,
   "metadata": {
    "collapsed": true
   },
   "outputs": [],
   "source": [
    "#here we are using mean of all the values across the column and taking its floor"
   ]
  },
  {
   "cell_type": "code",
   "execution_count": 13,
   "metadata": {
    "collapsed": true
   },
   "outputs": [],
   "source": [
    "for i in null_columns:\n",
    "    data_test.loc[:][i]= data_test.loc[:][i].fillna(value = np.floor(np.mean(data_test.loc[:][i])))"
   ]
  },
  {
   "cell_type": "markdown",
   "metadata": {},
   "source": [
    "checking data and correlation between variables\n"
   ]
  },
  {
   "cell_type": "code",
   "execution_count": 14,
   "metadata": {
    "scrolled": true
   },
   "outputs": [
    {
     "data": {
      "image/png": "[encoded data removed]",
      "text/plain": [
       "<matplotlib.figure.Figure at 0x20feac2f390>"
      ]
     },
     "metadata": {},
     "output_type": "display_data"
    }
   ],
   "source": [
    "plt.subplots(figsize=(10,7))\n",
    "data_corr=data_test.corr()\n",
    "sns.heatmap(data_corr,xticklabels=data_corr.columns.values,yticklabels=data_corr.columns.values, cmap=\"Reds\")\n",
    "plt.show()"
   ]
  },
  {
   "cell_type": "markdown",
   "metadata": {},
   "source": [
    "clearly visible from heatmap junction Details and junction_control is higly corrleated\n",
    "as well as collision_ref_no and month of collision are correlated "
   ]
  },
  {
   "cell_type": "markdown",
   "metadata": {},
   "source": [
    "#we will drop month of collision and collision_ref_no as these featues are correlated and byt dropping this will not effect much in our prediction"
   ]
  },
  {
   "cell_type": "code",
   "execution_count": 15,
   "metadata": {
    "collapsed": true
   },
   "outputs": [],
   "source": [
    "data_test=data_test.drop(['Junction_Detail_new','Ped_Crossing_HC_new','Light_Conditions_new'],axis=1)"
   ]
  },
  {
   "cell_type": "code",
   "execution_count": 16,
   "metadata": {
    "scrolled": true
   },
   "outputs": [
    {
     "data": {
      "text/plain": [
       "array(['Collision_Severity', 'Policing_Area_new',\n",
       "       'Weekday_of_Collision_new', 'Day_of_Collision_new',\n",
       "       'Month_of_Collision_new', 'Hour_of_Collision_new',\n",
       "       'Carriageway_Type_new', 'Speed_Limit_new', 'Junction_Control_new',\n",
       "       'Ped_Crossing_PC_new', 'Weather_Conditions_new',\n",
       "       'Road_Surface_Conditions_new', 'Special_Conditions_at_Site_new'],\n",
       "      dtype=object)"
      ]
     },
     "execution_count": 16,
     "metadata": {},
     "output_type": "execute_result"
    }
   ],
   "source": [
    "data_test.columns.values #checking available columns"
   ]
  },
  {
   "cell_type": "code",
   "execution_count": 17,
   "metadata": {},
   "outputs": [
    {
     "data": {
      "text/html": [
       "<div>\n",
       "<style>\n",
       "    .dataframe thead tr:only-child th {\n",
       "        text-align: right;\n",
       "    }\n",
       "\n",
       "    .dataframe thead th {\n",
       "        text-align: left;\n",
       "    }\n",
       "\n",
       "    .dataframe tbody tr th {\n",
       "        vertical-align: top;\n",
       "    }\n",
       "</style>\n",
       "<table border=\"1\" class=\"dataframe\">\n",
       "  <thead>\n",
       "    <tr style=\"text-align: right;\">\n",
       "      <th></th>\n",
       "      <th>count</th>\n",
       "    </tr>\n",
       "    <tr>\n",
       "      <th>Collision_Severity</th>\n",
       "      <th></th>\n",
       "    </tr>\n",
       "  </thead>\n",
       "  <tbody>\n",
       "    <tr>\n",
       "      <th>1</th>\n",
       "      <td>120</td>\n",
       "    </tr>\n",
       "    <tr>\n",
       "      <th>2</th>\n",
       "      <td>959</td>\n",
       "    </tr>\n",
       "    <tr>\n",
       "      <th>3</th>\n",
       "      <td>8964</td>\n",
       "    </tr>\n",
       "  </tbody>\n",
       "</table>\n",
       "</div>"
      ],
      "text/plain": [
       "                    count\n",
       "Collision_Severity       \n",
       "1                     120\n",
       "2                     959\n",
       "3                    8964"
      ]
     },
     "execution_count": 17,
     "metadata": {},
     "output_type": "execute_result"
    }
   ],
   "source": [
    "#checking severity count\n",
    "data_test.groupby(['Collision_Severity'])['Collision_Severity'].agg(['count'])"
   ]
  },
  {
   "cell_type": "markdown",
   "metadata": {},
   "source": [
    "checking features importance with respect to output\n"
   ]
  },
  {
   "cell_type": "code",
   "execution_count": 16,
   "metadata": {
    "collapsed": true,
    "scrolled": false
   },
   "outputs": [],
   "source": [
    "# print (data_test.groupby(['Collision_Severity','Junction_Control'])['Junction_Control'].agg(['count'])) # data not evenly distributed\n",
    "# print (data_test.groupby(['Collision_Severity','Carriageway_Type'])['Carriageway_Type'].agg(['count']))#not evenly distributed\n",
    "# print (data_test.groupby(['Collision_Severity','Hour_of_Collision'])['Hour_of_Collision'].agg(['count']))#not evenly distributed\n",
    "# print (data_test.groupby(['Collision_Severity','Speed_Limit'])['Speed_Limit'].agg(['count']))#not distributed\n",
    "# print (data_test.groupby(['Collision_Severity','Light_Conditions'])['Light_Conditions'].agg(['count']))#not evenly distributed\n",
    "# print (data_test.groupby(['Collision_Severity','Weather_Conditions'])['Weather_Conditions'].agg(['count']))#not evenly distributed\n",
    "# print (data_test.groupby(['Collision_Severity','Road_Surface_Conditions'])['Road_Surface_Conditions'].agg(['count']))#not evenly distributed\n",
    "# print (data_test.groupby(['Collision_Severity','Special_Conditions_at_Site'])['Special_Conditions_at_Site'].agg(['count']))#not evenly distributed"
   ]
  },
  {
   "cell_type": "markdown",
   "metadata": {},
   "source": [
    "all features are equally important for predicting the severity of collision\n"
   ]
  },
  {
   "cell_type": "code",
   "execution_count": 24,
   "metadata": {},
   "outputs": [
    {
     "name": "stdout",
     "output_type": "stream",
     "text": [
      "['Collision_Severity' 'Collision_Ref_No' 'Policing_Area'\n",
      " 'Weekday_of_Collision' 'Day_of_Collision' 'Month_of_Collision'\n",
      " 'Hour_of_Collision' 'Carriageway_Type' 'Speed_Limit' 'Junction_Detail'\n",
      " 'Junction_Control' 'Ped_Crossing_HC' 'Ped_Crossing_PC' 'Light_Conditions'\n",
      " 'Weather_Conditions' 'Road_Surface_Conditions'\n",
      " 'Special_Conditions_at_Site' 'Policing_Area_new'\n",
      " 'Weekday_of_Collision_new' 'Day_of_Collision_new'\n",
      " 'Month_of_Collision_new' 'Hour_of_Collision_new' 'Carriageway_Type_new'\n",
      " 'Speed_Limit_new' 'Junction_Detail_new' 'Junction_Control_new'\n",
      " 'Ped_Crossing_HC_new' 'Ped_Crossing_PC_new' 'Light_Conditions_new'\n",
      " 'Weather_Conditions_new' 'Road_Surface_Conditions_new'\n",
      " 'Special_Conditions_at_Site_new']\n",
      "columns which are having missing values: ['Collision_Severity' 'Policing_Area_new' 'Weekday_of_Collision_new'\n",
      " 'Day_of_Collision_new' 'Month_of_Collision_new' 'Hour_of_Collision_new'\n",
      " 'Carriageway_Type_new' 'Speed_Limit_new' 'Junction_Detail_new'\n",
      " 'Junction_Control_new' 'Ped_Crossing_HC_new' 'Ped_Crossing_PC_new'\n",
      " 'Light_Conditions_new' 'Weather_Conditions_new'\n",
      " 'Road_Surface_Conditions_new' 'Special_Conditions_at_Site_new']\n"
     ]
    },
    {
     "data": {
      "image/png": "[encoded data removed]",
      "text/plain": [
       "<matplotlib.figure.Figure at 0x20ff0943d68>"
      ]
     },
     "metadata": {},
     "output_type": "display_data"
    },
    {
     "data": {
      "text/plain": [
       "array(['Collision_Severity', 'Policing_Area_new',\n",
       "       'Weekday_of_Collision_new', 'Day_of_Collision_new',\n",
       "       'Month_of_Collision_new', 'Hour_of_Collision_new',\n",
       "       'Carriageway_Type_new', 'Speed_Limit_new', 'Junction_Control_new',\n",
       "       'Ped_Crossing_PC_new', 'Weather_Conditions_new',\n",
       "       'Road_Surface_Conditions_new', 'Special_Conditions_at_Site_new'],\n",
       "      dtype=object)"
      ]
     },
     "execution_count": 24,
     "metadata": {},
     "output_type": "execute_result"
    }
   ],
   "source": [
    "data_t = pd.read_csv(\"C:\\\\Users\\\\ARPIT\\\\Desktop\\\\Talentsprit\\\\practice_code\\\\Kaggle\\\\Accident\\\\Accident_test.csv\")\n",
    "lb_make = LabelEncoder()\n",
    "\n",
    "data_t[\"Policing_Area_new\"] = lb_make.fit_transform(data_t[\"Policing_Area\"].astype(str))\n",
    "data_t[\"Weekday_of_Collision_new\"] = lb_make.fit_transform(data_t[\"Weekday_of_Collision\"].astype(str))\n",
    "data_t[\"Day_of_Collision_new\"] = lb_make.fit_transform(data_t[\"Day_of_Collision\"].astype(str))\n",
    "data_t[\"Month_of_Collision_new\"] = lb_make.fit_transform(data_t[\"Month_of_Collision\"].astype(str))\n",
    "data_t[\"Hour_of_Collision_new\"] = lb_make.fit_transform(data_t[\"Hour_of_Collision\"].astype(str))\n",
    "data_t[\"Carriageway_Type_new\"] = lb_make.fit_transform(data_t[\"Carriageway_Type\"].astype(str))\n",
    "data_t[\"Speed_Limit_new\"] = lb_make.fit_transform(data_t[\"Speed_Limit\"].astype(str))\n",
    "data_t[\"Junction_Detail_new\"] = lb_make.fit_transform(data_t[\"Junction_Detail\"].astype(str))\n",
    "data_t[\"Junction_Control_new\"] = lb_make.fit_transform(data_t[\"Junction_Control\"].astype(str))\n",
    "data_t[\"Ped_Crossing_HC_new\"] = lb_make.fit_transform(data_t[\"Ped_Crossing_HC\"].astype(str))\n",
    "data_t[\"Ped_Crossing_PC_new\"] = lb_make.fit_transform(data_t[\"Ped_Crossing_PC\"].astype(str))\n",
    "data_t[\"Light_Conditions_new\"] = lb_make.fit_transform(data_t[\"Light_Conditions\"].astype(str))\n",
    "data_t[\"Weather_Conditions_new\"] = lb_make.fit_transform(data_t[\"Weather_Conditions\"].astype(str))\n",
    "data_t[\"Road_Surface_Conditions_new\"] = lb_make.fit_transform(data_t[\"Road_Surface_Conditions\"].astype(str))\n",
    "data_t[\"Special_Conditions_at_Site_new\"] = lb_make.fit_transform(data_t[\"Special_Conditions_at_Site\"].astype(str))\n",
    "\n",
    "print(data_t.columns.values)\n",
    "data_t=data_t.drop(['Collision_Ref_No', 'Policing_Area','Weekday_of_Collision', 'Day_of_Collision' ,'Month_of_Collision','Hour_of_Collision', 'Carriageway_Type', 'Speed_Limit', 'Junction_Detail','Junction_Control', 'Ped_Crossing_HC', 'Ped_Crossing_PC', 'Light_Conditions','Weather_Conditions', 'Road_Surface_Conditions','Special_Conditions_at_Site'],axis=1)\n",
    "data_t.columns.values #we added new columns using encoder\n",
    "null_columns=data_t.columns[data_t.isnull().any()]\n",
    "data_t[null_columns].isnull().sum()\n",
    "print ('columns which are having missing values:',data_t.columns.values)\n",
    "for i in null_columns:\n",
    "    data_t.loc[:][i]= data_t.loc[:][i].fillna(value = np.floor(np.mean(data_t.loc[:][i])))\n",
    "\n",
    "plt.subplots(figsize=(10,7))\n",
    "data_corr=data_t.corr()\n",
    "sns.heatmap(data_corr,xticklabels=data_corr.columns.values,yticklabels=data_corr.columns.values, cmap=\"Reds\")\n",
    "plt.show()\n",
    "data_t=data_t.drop(['Junction_Detail_new','Ped_Crossing_HC_new','Light_Conditions_new'],axis=1)\n",
    "\n",
    "data_t.columns.values\n"
   ]
  },
  {
   "cell_type": "code",
   "execution_count": 32,
   "metadata": {},
   "outputs": [],
   "source": [
    "import keras\n",
    "from keras.models import Sequential\n",
    "from keras.layers import Dense, Dropout, Activation\n",
    "from keras.optimizers import SGD\n",
    "# x_train=data_test.values[:9000,1:]\n",
    "# x_test=data_test.values[9000:,1:]\n",
    "ros = RandomOverSampler(random_state=0)\n",
    "x_train, y_train = ros.fit_sample(data_test.values[:9000,1:], data_test.values[:9000,0])\n",
    "#x_test, y_test = ros.fit_sample(data_test.values[9000:,1:], data_test.values[9000:,0])\n",
    "x_test=data_test.values[9000:,1:]\n",
    "y_test=data_test.values[9000:,0]\n",
    "\n",
    "\n",
    "y_train = keras.utils.to_categorical(y_train, num_classes=4)\n",
    "y_test = keras.utils.to_categorical(y_test, num_classes=4)\n",
    "model10 = Sequential()\n",
    "# Dense(64) is a fully-connected layer with 64 hidden units.\n",
    "# in the first layer, you must specify the expected input data shape:\n",
    "# here, 20-dimensional vectors.\n",
    "model10.add(Dense(100, activation='relu', input_dim=12))\n",
    "model10.add(Dropout(0.5))\n",
    "model10.add(Dense(80, activation='relu'))\n",
    "model10.add(Dropout(0.5))\n",
    "model10.add(Dense(60, activation='relu'))\n",
    "model10.add(Dropout(0.5))\n",
    "model10.add(Dense(30, activation='relu'))\n",
    "model10.add(Dropout(0.5))\n",
    "model10.add(Dense(15, activation='relu'))\n",
    "model10.add(Dropout(0.5))\n",
    "model10.add(Dropout(0.5))\n",
    "model10.add(Dense(10, activation='relu'))\n",
    "model10.add(Dropout(0.5))\n",
    "model10.add(Dense(8, activation='relu'))\n",
    "model10.add(Dropout(0.5))\n",
    "model10.add(Dense(4, activation='softmax'))\n"
   ]
  },
  {
   "cell_type": "code",
   "execution_count": 33,
   "metadata": {
    "scrolled": true
   },
   "outputs": [
    {
     "name": "stdout",
     "output_type": "stream",
     "text": [
      "Epoch 1/100\n",
      "24054/24054 [==============================] - 5s 218us/step - loss: 1.5052 - acc: 0.3281\n",
      "Epoch 2/100\n",
      "24054/24054 [==============================] - 2s 73us/step - loss: 1.2054 - acc: 0.3304\n",
      "Epoch 3/100\n",
      "24054/24054 [==============================] - 2s 77us/step - loss: 1.1629 - acc: 0.3318\n",
      "Epoch 4/100\n",
      "24054/24054 [==============================] - 2s 67us/step - loss: 1.1421 - acc: 0.3315\n",
      "Epoch 5/100\n",
      "24054/24054 [==============================] - 1s 59us/step - loss: 1.1308 - acc: 0.3310\n",
      "Epoch 6/100\n",
      "24054/24054 [==============================] - 1s 55us/step - loss: 1.1235 - acc: 0.3303\n",
      "Epoch 7/100\n",
      "24054/24054 [==============================] - 1s 51us/step - loss: 1.1186 - acc: 0.3315\n",
      "Epoch 8/100\n",
      "24054/24054 [==============================] - 1s 49us/step - loss: 1.1152 - acc: 0.3325\n",
      "Epoch 9/100\n",
      "24054/24054 [==============================] - 1s 49us/step - loss: 1.1124 - acc: 0.3308\n",
      "Epoch 10/100\n",
      "24054/24054 [==============================] - 1s 51us/step - loss: 1.1106 - acc: 0.3299\n",
      "Epoch 11/100\n",
      "24054/24054 [==============================] - 1s 52us/step - loss: 1.1091 - acc: 0.3289\n",
      "Epoch 12/100\n",
      "24054/24054 [==============================] - 1s 46us/step - loss: 1.1079 - acc: 0.3349\n",
      "Epoch 13/100\n",
      "24054/24054 [==============================] - 1s 42us/step - loss: 1.1069 - acc: 0.3277\n",
      "Epoch 14/100\n",
      "24054/24054 [==============================] - 1s 41us/step - loss: 1.1061 - acc: 0.3299\n",
      "Epoch 15/100\n",
      "24054/24054 [==============================] - 1s 48us/step - loss: 1.1052 - acc: 0.3292\n",
      "Epoch 16/100\n",
      "24054/24054 [==============================] - 1s 30us/step - loss: 1.1048 - acc: 0.3280\n",
      "Epoch 17/100\n",
      "24054/24054 [==============================] - 1s 34us/step - loss: 1.1041 - acc: 0.3336\n",
      "Epoch 18/100\n",
      "24054/24054 [==============================] - 1s 39us/step - loss: 1.1036 - acc: 0.3307\n",
      "Epoch 19/100\n",
      "24054/24054 [==============================] - 1s 38us/step - loss: 1.1033 - acc: 0.3293\n",
      "Epoch 20/100\n",
      "24054/24054 [==============================] - 1s 31us/step - loss: 1.1030 - acc: 0.3318\n",
      "Epoch 21/100\n",
      "24054/24054 [==============================] - 1s 33us/step - loss: 1.1027 - acc: 0.3303\n",
      "Epoch 22/100\n",
      "24054/24054 [==============================] - 1s 39us/step - loss: 1.1025 - acc: 0.3270\n",
      "Epoch 23/100\n",
      "24054/24054 [==============================] - 1s 42us/step - loss: 1.1023 - acc: 0.3284\n",
      "Epoch 24/100\n",
      "24054/24054 [==============================] - 1s 38us/step - loss: 1.1020 - acc: 0.3301\n",
      "Epoch 25/100\n",
      "24054/24054 [==============================] - 1s 44us/step - loss: 1.1018 - acc: 0.3303\n",
      "Epoch 26/100\n",
      "24054/24054 [==============================] - 1s 35us/step - loss: 1.1016 - acc: 0.3290\n",
      "Epoch 27/100\n",
      "24054/24054 [==============================] - 1s 37us/step - loss: 1.1015 - acc: 0.3311\n",
      "Epoch 28/100\n",
      "24054/24054 [==============================] - 1s 37us/step - loss: 1.1012 - acc: 0.3303\n",
      "Epoch 29/100\n",
      "24054/24054 [==============================] - 1s 35us/step - loss: 1.1011 - acc: 0.3350\n",
      "Epoch 30/100\n",
      "24054/24054 [==============================] - 1s 32us/step - loss: 1.1010 - acc: 0.3306\n",
      "Epoch 31/100\n",
      "24054/24054 [==============================] - 1s 36us/step - loss: 1.1012 - acc: 0.3315\n",
      "Epoch 32/100\n",
      "24054/24054 [==============================] - 1s 40us/step - loss: 1.1008 - acc: 0.3328\n",
      "Epoch 33/100\n",
      "24054/24054 [==============================] - 1s 37us/step - loss: 1.1007 - acc: 0.3318\n",
      "Epoch 34/100\n",
      "24054/24054 [==============================] - 1s 33us/step - loss: 1.1005 - acc: 0.3333\n",
      "Epoch 35/100\n",
      "24054/24054 [==============================] - 1s 38us/step - loss: 1.1007 - acc: 0.3326\n",
      "Epoch 36/100\n",
      "24054/24054 [==============================] - 1s 38us/step - loss: 1.1005 - acc: 0.3359\n",
      "Epoch 37/100\n",
      "24054/24054 [==============================] - 1s 39us/step - loss: 1.1009 - acc: 0.3312\n",
      "Epoch 38/100\n",
      "24054/24054 [==============================] - 1s 36us/step - loss: 1.1005 - acc: 0.3351\n",
      "Epoch 39/100\n",
      "24054/24054 [==============================] - 1s 31us/step - loss: 1.1003 - acc: 0.3298\n",
      "Epoch 40/100\n",
      "24054/24054 [==============================] - 1s 33us/step - loss: 1.1001 - acc: 0.3303\n",
      "Epoch 41/100\n",
      "24054/24054 [==============================] - 1s 34us/step - loss: 1.1001 - acc: 0.3337\n",
      "Epoch 42/100\n",
      "24054/24054 [==============================] - 1s 40us/step - loss: 1.1001 - acc: 0.3324\n",
      "Epoch 43/100\n",
      "24054/24054 [==============================] - 1s 37us/step - loss: 1.1001 - acc: 0.3251\n",
      "Epoch 44/100\n",
      "24054/24054 [==============================] - 1s 37us/step - loss: 1.1003 - acc: 0.3332\n",
      "Epoch 45/100\n",
      "24054/24054 [==============================] - 1s 38us/step - loss: 1.1000 - acc: 0.3305\n",
      "Epoch 46/100\n",
      "24054/24054 [==============================] - 1s 39us/step - loss: 1.0999 - acc: 0.3340\n",
      "Epoch 47/100\n",
      "24054/24054 [==============================] - 1s 38us/step - loss: 1.1002 - acc: 0.3318\n",
      "Epoch 48/100\n",
      "24054/24054 [==============================] - 1s 32us/step - loss: 1.0999 - acc: 0.3291\n",
      "Epoch 49/100\n",
      "24054/24054 [==============================] - 1s 38us/step - loss: 1.0999 - acc: 0.3305\n",
      "Epoch 50/100\n",
      "24054/24054 [==============================] - 1s 38us/step - loss: 1.0998 - acc: 0.3260\n",
      "Epoch 51/100\n",
      "24054/24054 [==============================] - 1s 38us/step - loss: 1.0997 - acc: 0.3300\n",
      "Epoch 52/100\n",
      "24054/24054 [==============================] - 1s 40us/step - loss: 1.0996 - acc: 0.3290\n",
      "Epoch 53/100\n",
      "24054/24054 [==============================] - 1s 39us/step - loss: 1.0997 - acc: 0.3320: 0s - loss: 1.0996 \n",
      "Epoch 54/100\n",
      "24054/24054 [==============================] - 1s 39us/step - loss: 1.0996 - acc: 0.3319\n",
      "Epoch 55/100\n",
      "24054/24054 [==============================] - 1s 37us/step - loss: 1.0996 - acc: 0.3361\n",
      "Epoch 56/100\n",
      "24054/24054 [==============================] - 1s 37us/step - loss: 1.0997 - acc: 0.3314\n",
      "Epoch 57/100\n",
      "24054/24054 [==============================] - 1s 38us/step - loss: 1.0996 - acc: 0.3252\n",
      "Epoch 58/100\n",
      "24054/24054 [==============================] - 1s 31us/step - loss: 1.0995 - acc: 0.3293\n",
      "Epoch 59/100\n",
      "24054/24054 [==============================] - 1s 34us/step - loss: 1.0995 - acc: 0.3222\n",
      "Epoch 60/100\n",
      "24054/24054 [==============================] - 1s 31us/step - loss: 1.0994 - acc: 0.3360\n",
      "Epoch 61/100\n",
      "24054/24054 [==============================] - 1s 33us/step - loss: 1.0994 - acc: 0.3374\n",
      "Epoch 62/100\n",
      "24054/24054 [==============================] - 1s 31us/step - loss: 1.0995 - acc: 0.3320\n",
      "Epoch 63/100\n",
      "24054/24054 [==============================] - 1s 33us/step - loss: 1.0995 - acc: 0.3310\n",
      "Epoch 64/100\n",
      "24054/24054 [==============================] - 1s 30us/step - loss: 1.0994 - acc: 0.3273\n",
      "Epoch 65/100\n",
      "24054/24054 [==============================] - 1s 32us/step - loss: 1.0994 - acc: 0.3289\n",
      "Epoch 66/100\n",
      "24054/24054 [==============================] - 1s 32us/step - loss: 1.0994 - acc: 0.3340\n",
      "Epoch 67/100\n",
      "24054/24054 [==============================] - 1s 31us/step - loss: 1.0993 - acc: 0.3310: 0s - loss: 1.0992 - a\n",
      "Epoch 68/100\n",
      "24054/24054 [==============================] - 1s 31us/step - loss: 1.0992 - acc: 0.3339\n",
      "Epoch 69/100\n",
      "24054/24054 [==============================] - 1s 31us/step - loss: 1.0995 - acc: 0.3308\n",
      "Epoch 70/100\n",
      "24054/24054 [==============================] - 1s 38us/step - loss: 1.0995 - acc: 0.3286\n",
      "Epoch 71/100\n",
      "24054/24054 [==============================] - 1s 31us/step - loss: 1.0993 - acc: 0.3284\n",
      "Epoch 72/100\n",
      "24054/24054 [==============================] - 1s 38us/step - loss: 1.0992 - acc: 0.3359\n",
      "Epoch 73/100\n",
      "24054/24054 [==============================] - 1s 33us/step - loss: 1.0992 - acc: 0.3318\n",
      "Epoch 74/100\n",
      "24054/24054 [==============================] - 1s 37us/step - loss: 1.0992 - acc: 0.3281\n",
      "Epoch 75/100\n",
      "24054/24054 [==============================] - 1s 32us/step - loss: 1.0992 - acc: 0.3326\n",
      "Epoch 76/100\n",
      "24054/24054 [==============================] - 1s 41us/step - loss: 1.0993 - acc: 0.3290\n",
      "Epoch 77/100\n",
      "24054/24054 [==============================] - 1s 33us/step - loss: 1.0991 - acc: 0.3345\n",
      "Epoch 78/100\n",
      "24054/24054 [==============================] - 1s 35us/step - loss: 1.0992 - acc: 0.3345\n",
      "Epoch 79/100\n",
      "24054/24054 [==============================] - 1s 32us/step - loss: 1.0992 - acc: 0.3272\n",
      "Epoch 80/100\n",
      "24054/24054 [==============================] - 1s 40us/step - loss: 1.0992 - acc: 0.3311\n"
     ]
    },
    {
     "name": "stdout",
     "output_type": "stream",
     "text": [
      "Epoch 81/100\n",
      "24054/24054 [==============================] - 1s 30us/step - loss: 1.0991 - acc: 0.3365\n",
      "Epoch 82/100\n",
      "24054/24054 [==============================] - 1s 29us/step - loss: 1.0993 - acc: 0.3325\n",
      "Epoch 83/100\n",
      "24054/24054 [==============================] - 1s 29us/step - loss: 1.0991 - acc: 0.3334\n",
      "Epoch 84/100\n",
      "24054/24054 [==============================] - 1s 29us/step - loss: 1.0994 - acc: 0.3325\n",
      "Epoch 85/100\n",
      "24054/24054 [==============================] - 1s 29us/step - loss: 1.0991 - acc: 0.3339\n",
      "Epoch 86/100\n",
      "24054/24054 [==============================] - 1s 29us/step - loss: 1.0992 - acc: 0.3318: 0s - loss: 1.0991 - acc: 0.3\n",
      "Epoch 87/100\n",
      "24054/24054 [==============================] - 1s 29us/step - loss: 1.0992 - acc: 0.3340\n",
      "Epoch 88/100\n",
      "24054/24054 [==============================] - 1s 29us/step - loss: 1.0990 - acc: 0.3318\n",
      "Epoch 89/100\n",
      "24054/24054 [==============================] - 1s 28us/step - loss: 1.0992 - acc: 0.3301\n",
      "Epoch 90/100\n",
      "24054/24054 [==============================] - 1s 32us/step - loss: 1.0991 - acc: 0.3344\n",
      "Epoch 91/100\n",
      "24054/24054 [==============================] - 1s 35us/step - loss: 1.0993 - acc: 0.3326\n",
      "Epoch 92/100\n",
      "24054/24054 [==============================] - 1s 30us/step - loss: 1.0990 - acc: 0.3316\n",
      "Epoch 93/100\n",
      "24054/24054 [==============================] - 1s 31us/step - loss: 1.0990 - acc: 0.3329\n",
      "Epoch 94/100\n",
      "24054/24054 [==============================] - 1s 30us/step - loss: 1.0991 - acc: 0.3327\n",
      "Epoch 95/100\n",
      "24054/24054 [==============================] - 1s 30us/step - loss: 1.0989 - acc: 0.3348\n",
      "Epoch 96/100\n",
      "24054/24054 [==============================] - 1s 29us/step - loss: 1.0990 - acc: 0.3326\n",
      "Epoch 97/100\n",
      "24054/24054 [==============================] - 1s 29us/step - loss: 1.0990 - acc: 0.3268\n",
      "Epoch 98/100\n",
      "24054/24054 [==============================] - 1s 29us/step - loss: 1.0990 - acc: 0.3337\n",
      "Epoch 99/100\n",
      "24054/24054 [==============================] - 1s 30us/step - loss: 1.0990 - acc: 0.3299\n",
      "Epoch 100/100\n",
      "24054/24054 [==============================] - 1s 29us/step - loss: 1.0989 - acc: 0.3366\n"
     ]
    },
    {
     "data": {
      "text/plain": [
       "<keras.callbacks.History at 0x20ff1e47ac8>"
      ]
     },
     "execution_count": 33,
     "metadata": {},
     "output_type": "execute_result"
    }
   ],
   "source": [
    "adam=keras.optimizers.Adam(lr=0.01, beta_1=0.9, beta_2=0.999, epsilon=None, decay=0.0, amsgrad=False)\n",
    "model10.compile(loss='categorical_crossentropy',\n",
    "              optimizer=adam,\n",
    "              metrics=['accuracy'])\n",
    "\n",
    "model10.fit(x_train, y_train,epochs=100,batch_size=500)"
   ]
  },
  {
   "cell_type": "code",
   "execution_count": 34,
   "metadata": {},
   "outputs": [
    {
     "name": "stdout",
     "output_type": "stream",
     "text": [
      "(1043, 12)\n",
      "(1043, 4)\n",
      "(24054, 12)\n",
      "(24054, 4)\n"
     ]
    }
   ],
   "source": [
    "print (x_test.shape)\n",
    "print (y_test.shape)\n",
    "print (x_train.shape)\n",
    "print (y_train.shape)\n",
    "\n",
    "a=model10.predict(x_test)\n",
    "a=np.max(a,axis=1)\n",
    "#pd.DataFrame(a).to_csv('op.csv')\n",
    "#pd.DataFrame(x_train).to_csv('skew_train.csv')"
   ]
  },
  {
   "cell_type": "code",
   "execution_count": 35,
   "metadata": {},
   "outputs": [
    {
     "data": {
      "text/plain": [
       "MLPClassifier(activation='relu', alpha=0.0001, batch_size='auto', beta_1=0.9,\n",
       "       beta_2=0.999, early_stopping=False, epsilon=1e-08,\n",
       "       hidden_layer_sizes=(30, 15, 10, 8, 4), learning_rate='constant',\n",
       "       learning_rate_init=0.001, max_iter=200, momentum=0.9,\n",
       "       nesterovs_momentum=True, power_t=0.5, random_state=None,\n",
       "       shuffle=True, solver='adam', tol=0.0001, validation_fraction=0.1,\n",
       "       verbose=False, warm_start=False)"
      ]
     },
     "execution_count": 35,
     "metadata": {},
     "output_type": "execute_result"
    }
   ],
   "source": [
    "\n",
    "mlp = MLPClassifier(hidden_layer_sizes=(30,15,10,8,4))\n",
    "mlp.fit(x_train,y_train)"
   ]
  },
  {
   "cell_type": "code",
   "execution_count": 36,
   "metadata": {},
   "outputs": [
    {
     "name": "stdout",
     "output_type": "stream",
     "text": [
      "             precision    recall  f1-score   support\n",
      "\n",
      "          0       0.00      0.00      0.00         0\n",
      "          1       0.07      0.31      0.11        13\n",
      "          2       0.09      0.37      0.15        84\n",
      "          3       0.96      0.58      0.72       946\n",
      "\n",
      "avg / total       0.88      0.56      0.67      1043\n",
      "\n"
     ]
    },
    {
     "name": "stderr",
     "output_type": "stream",
     "text": [
      "C:\\tools\\Anaconda3\\lib\\site-packages\\sklearn\\metrics\\classification.py:1135: UndefinedMetricWarning: Precision and F-score are ill-defined and being set to 0.0 in labels with no predicted samples.\n",
      "  'precision', 'predicted', average, warn_for)\n",
      "C:\\tools\\Anaconda3\\lib\\site-packages\\sklearn\\metrics\\classification.py:1137: UndefinedMetricWarning: Recall and F-score are ill-defined and being set to 0.0 in labels with no true samples.\n",
      "  'recall', 'true', average, warn_for)\n"
     ]
    }
   ],
   "source": [
    "from sklearn.metrics import classification_report,confusion_matrix\n",
    "predictions = mlp.predict(x_test)\n",
    "print(classification_report(y_test,predictions))"
   ]
  },
  {
   "cell_type": "code",
   "execution_count": 37,
   "metadata": {},
   "outputs": [],
   "source": [
    "from sklearn.metrics import classification_report,confusion_matrix\n",
    "predictions = mlp.predict(data_t.values[:,1:])\n"
   ]
  },
  {
   "cell_type": "code",
   "execution_count": 38,
   "metadata": {
    "scrolled": false
   },
   "outputs": [
    {
     "data": {
      "text/plain": [
       "array([[0, 0, 0, 1],\n",
       "       [0, 0, 0, 1],\n",
       "       [0, 0, 0, 1],\n",
       "       ...,\n",
       "       [0, 0, 0, 1],\n",
       "       [0, 0, 0, 1],\n",
       "       [0, 0, 0, 1]])"
      ]
     },
     "execution_count": 38,
     "metadata": {},
     "output_type": "execute_result"
    }
   ],
   "source": [
    "predictions"
   ]
  },
  {
   "cell_type": "code",
   "execution_count": 41,
   "metadata": {},
   "outputs": [
    {
     "data": {
      "text/plain": [
       "array([3, 3, 3, ..., 3, 3, 3], dtype=int64)"
      ]
     },
     "execution_count": 41,
     "metadata": {},
     "output_type": "execute_result"
    }
   ],
   "source": [
    "from sklearn import svm\n",
    "x_train, y_train = ros.fit_sample(data_test.values[:9000,1:], data_test.values[:9000,0])\n",
    "clf = svm.SVC()\n",
    "clf.fit(x_train, y_train)\n",
    "clf.predict(x_test)"
   ]
  },
  {
   "cell_type": "code",
   "execution_count": 42,
   "metadata": {
    "collapsed": true
   },
   "outputs": [],
   "source": [
    "a=clf.predict(data_t.values[:,1:])"
   ]
  },
  {
   "cell_type": "code",
   "execution_count": 29,
   "metadata": {
    "collapsed": true
   },
   "outputs": [],
   "source": [
    "pd.DataFrame(a).to_csv('sub46.csv', index=False)"
   ]
  },
  {
   "cell_type": "code",
   "execution_count": null,
   "metadata": {
    "collapsed": true
   },
   "outputs": [],
   "source": [
    "pd.DataFrame()"
   ]
  },
  {
   "cell_type": "code",
   "execution_count": 45,
   "metadata": {
    "collapsed": true
   },
   "outputs": [],
   "source": [
    "from sklearn.ensemble import RandomForestClassifier\n",
    "clf = RandomForestClassifier(max_depth=5, random_state=0)\n",
    "clf.fit(x_train, y_train)\n",
    "b=clf.predict(data_t.values[:,1:])\n",
    "pd.DataFrame(b).to_csv('team46.csv')"
   ]
  },
  {
   "cell_type": "code",
   "execution_count": 43,
   "metadata": {},
   "outputs": [
    {
     "name": "stdout",
     "output_type": "stream",
     "text": [
      "354\n",
      "3\n"
     ]
    }
   ],
   "source": [
    "d=0\n",
    "print (len(a))\n",
    "for i in a:\n",
    "    if i!=3:\n",
    "        d+=1\n",
    "print (d)"
   ]
  },
  {
   "cell_type": "code",
   "execution_count": null,
   "metadata": {
    "collapsed": true
   },
   "outputs": [],
   "source": []
  },
  {
   "cell_type": "code",
   "execution_count": null,
   "metadata": {
    "collapsed": true
   },
   "outputs": [],
   "source": []
  },
  {
   "cell_type": "code",
   "execution_count": null,
   "metadata": {
    "collapsed": true
   },
   "outputs": [],
   "source": []
  },
  {
   "cell_type": "code",
   "execution_count": null,
   "metadata": {
    "collapsed": true
   },
   "outputs": [],
   "source": []
  },
  {
   "cell_type": "code",
   "execution_count": null,
   "metadata": {
    "collapsed": true
   },
   "outputs": [],
   "source": []
  },
  {
   "cell_type": "code",
   "execution_count": null,
   "metadata": {
    "collapsed": true
   },
   "outputs": [],
   "source": []
  },
  {
   "cell_type": "code",
   "execution_count": null,
   "metadata": {
    "collapsed": true
   },
   "outputs": [],
   "source": []
  }
 ],
 "metadata": {
  "kernelspec": {
   "display_name": "Python 3",
   "language": "python",
   "name": "python3"
  },
  "language_info": {
   "codemirror_mode": {
    "name": "ipython",
    "version": 3
   },
   "file_extension": ".py",
   "mimetype": "text/x-python",
   "name": "python",
   "nbconvert_exporter": "python",
   "pygments_lexer": "ipython3",
   "version": "3.6.3"
  }
 },
 "nbformat": 4,
 "nbformat_minor": 2
}
