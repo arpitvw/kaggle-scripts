{
 "cells": [
  {
   "cell_type": "code",
   "execution_count": 152,
   "metadata": {
    "collapsed": true
   },
   "outputs": [],
   "source": [
    "import pandas as pd"
   ]
  },
  {
   "cell_type": "code",
   "execution_count": 257,
   "metadata": {},
   "outputs": [],
   "source": [
    "data=pd.read_csv('F:/Kaggle_version2/addtracking fraud detection/mnt/ssd/kaggle-talkingdata2/competition_files/train.csv',nrows=100000)"
   ]
  },
  {
   "cell_type": "code",
   "execution_count": 258,
   "metadata": {},
   "outputs": [
    {
     "data": {
      "text/plain": [
       "ip                 100000\n",
       "app                100000\n",
       "device             100000\n",
       "os                 100000\n",
       "channel            100000\n",
       "click_time         100000\n",
       "attributed_time       169\n",
       "is_attributed      100000\n",
       "dtype: int64"
      ]
     },
     "execution_count": 258,
     "metadata": {},
     "output_type": "execute_result"
    }
   ],
   "source": [
    "data.count()"
   ]
  },
  {
   "cell_type": "code",
   "execution_count": 155,
   "metadata": {},
   "outputs": [],
   "source": [
    "data['day']=pd.DatetimeIndex(data['click_time']).day"
   ]
  },
  {
   "cell_type": "code",
   "execution_count": 156,
   "metadata": {
    "collapsed": true
   },
   "outputs": [],
   "source": [
    "data['month']=pd.DatetimeIndex(data['click_time']).month\n",
    "data['year']=pd.DatetimeIndex(data['click_time']).year\n",
    "data['hour']=pd.DatetimeIndex(data['click_time']).hour\n",
    "data['minute']=pd.DatetimeIndex(data['click_time']).minute\n",
    "data['second']=pd.DatetimeIndex(data['click_time']).second"
   ]
  },
  {
   "cell_type": "code",
   "execution_count": 157,
   "metadata": {},
   "outputs": [],
   "source": [
    "data=data.drop(['click_time'],axis=1)"
   ]
  },
  {
   "cell_type": "code",
   "execution_count": 158,
   "metadata": {},
   "outputs": [
    {
     "data": {
      "text/html": [
       "<div>\n",
       "<style>\n",
       "    .dataframe thead tr:only-child th {\n",
       "        text-align: right;\n",
       "    }\n",
       "\n",
       "    .dataframe thead th {\n",
       "        text-align: left;\n",
       "    }\n",
       "\n",
       "    .dataframe tbody tr th {\n",
       "        vertical-align: top;\n",
       "    }\n",
       "</style>\n",
       "<table border=\"1\" class=\"dataframe\">\n",
       "  <thead>\n",
       "    <tr style=\"text-align: right;\">\n",
       "      <th></th>\n",
       "      <th>ip</th>\n",
       "      <th>app</th>\n",
       "      <th>device</th>\n",
       "      <th>os</th>\n",
       "      <th>channel</th>\n",
       "      <th>attributed_time</th>\n",
       "      <th>is_attributed</th>\n",
       "      <th>day</th>\n",
       "      <th>month</th>\n",
       "      <th>year</th>\n",
       "      <th>hour</th>\n",
       "      <th>minute</th>\n",
       "      <th>second</th>\n",
       "    </tr>\n",
       "  </thead>\n",
       "  <tbody>\n",
       "    <tr>\n",
       "      <th>0</th>\n",
       "      <td>83230</td>\n",
       "      <td>3</td>\n",
       "      <td>1</td>\n",
       "      <td>13</td>\n",
       "      <td>379</td>\n",
       "      <td>0</td>\n",
       "      <td>0</td>\n",
       "      <td>6</td>\n",
       "      <td>11</td>\n",
       "      <td>2017</td>\n",
       "      <td>14</td>\n",
       "      <td>32</td>\n",
       "      <td>21</td>\n",
       "    </tr>\n",
       "    <tr>\n",
       "      <th>1</th>\n",
       "      <td>17357</td>\n",
       "      <td>3</td>\n",
       "      <td>1</td>\n",
       "      <td>19</td>\n",
       "      <td>379</td>\n",
       "      <td>0</td>\n",
       "      <td>0</td>\n",
       "      <td>6</td>\n",
       "      <td>11</td>\n",
       "      <td>2017</td>\n",
       "      <td>14</td>\n",
       "      <td>33</td>\n",
       "      <td>34</td>\n",
       "    </tr>\n",
       "    <tr>\n",
       "      <th>2</th>\n",
       "      <td>35810</td>\n",
       "      <td>3</td>\n",
       "      <td>1</td>\n",
       "      <td>13</td>\n",
       "      <td>379</td>\n",
       "      <td>0</td>\n",
       "      <td>0</td>\n",
       "      <td>6</td>\n",
       "      <td>11</td>\n",
       "      <td>2017</td>\n",
       "      <td>14</td>\n",
       "      <td>34</td>\n",
       "      <td>12</td>\n",
       "    </tr>\n",
       "    <tr>\n",
       "      <th>3</th>\n",
       "      <td>45745</td>\n",
       "      <td>14</td>\n",
       "      <td>1</td>\n",
       "      <td>13</td>\n",
       "      <td>478</td>\n",
       "      <td>0</td>\n",
       "      <td>0</td>\n",
       "      <td>6</td>\n",
       "      <td>11</td>\n",
       "      <td>2017</td>\n",
       "      <td>14</td>\n",
       "      <td>34</td>\n",
       "      <td>52</td>\n",
       "    </tr>\n",
       "    <tr>\n",
       "      <th>4</th>\n",
       "      <td>161007</td>\n",
       "      <td>3</td>\n",
       "      <td>1</td>\n",
       "      <td>13</td>\n",
       "      <td>379</td>\n",
       "      <td>0</td>\n",
       "      <td>0</td>\n",
       "      <td>6</td>\n",
       "      <td>11</td>\n",
       "      <td>2017</td>\n",
       "      <td>14</td>\n",
       "      <td>35</td>\n",
       "      <td>8</td>\n",
       "    </tr>\n",
       "  </tbody>\n",
       "</table>\n",
       "</div>"
      ],
      "text/plain": [
       "       ip  app  device  os  channel attributed_time  is_attributed  day  \\\n",
       "0   83230    3       1  13      379               0              0    6   \n",
       "1   17357    3       1  19      379               0              0    6   \n",
       "2   35810    3       1  13      379               0              0    6   \n",
       "3   45745   14       1  13      478               0              0    6   \n",
       "4  161007    3       1  13      379               0              0    6   \n",
       "\n",
       "   month  year  hour  minute  second  \n",
       "0     11  2017    14      32      21  \n",
       "1     11  2017    14      33      34  \n",
       "2     11  2017    14      34      12  \n",
       "3     11  2017    14      34      52  \n",
       "4     11  2017    14      35       8  "
      ]
     },
     "execution_count": 158,
     "metadata": {},
     "output_type": "execute_result"
    }
   ],
   "source": [
    "data['attributed_time'].fillna(0,inplace=True)\n",
    "data.columns\n",
    "data.head()"
   ]
  },
  {
   "cell_type": "code",
   "execution_count": 253,
   "metadata": {},
   "outputs": [
    {
     "name": "stdout",
     "output_type": "stream",
     "text": [
      "['ip' 'app' 'device' 'os' 'channel' 'attributed_time' 'is_attributed'\n",
      " 'minute' 'second']\n",
      "(8, 8)\n"
     ]
    },
    {
     "data": {
      "text/plain": [
       "array([0, '2017-11-07 08:17:19', '2017-11-07 10:05:22',\n",
       "       '2017-11-06 23:40:50', '2017-11-07 00:55:29',\n",
       "       '2017-11-06 23:04:54', '2017-11-07 00:21:50',\n",
       "       '2017-11-06 16:01:18', '2017-11-06 16:03:51',\n",
       "       '2017-11-06 23:37:17', '2017-11-07 04:18:51',\n",
       "       '2017-11-06 16:01:22', '2017-11-06 16:01:27',\n",
       "       '2017-11-06 16:02:23', '2017-11-07 11:55:44',\n",
       "       '2017-11-07 03:28:19', '2017-11-06 16:41:13',\n",
       "       '2017-11-06 16:02:59', '2017-11-06 16:02:02',\n",
       "       '2017-11-07 04:33:48', '2017-11-07 11:54:34',\n",
       "       '2017-11-06 17:53:42', '2017-11-06 16:47:49',\n",
       "       '2017-11-07 11:40:55', '2017-11-06 16:05:09',\n",
       "       '2017-11-06 16:01:31', '2017-11-06 23:23:58',\n",
       "       '2017-11-06 16:09:04', '2017-11-06 16:01:43',\n",
       "       '2017-11-06 16:03:03', '2017-11-06 16:00:47',\n",
       "       '2017-11-06 16:01:05', '2017-11-06 16:05:15',\n",
       "       '2017-11-06 16:07:46', '2017-11-07 15:53:02',\n",
       "       '2017-11-07 04:23:14'], dtype=object)"
      ]
     },
     "execution_count": 253,
     "metadata": {},
     "output_type": "execute_result"
    }
   ],
   "source": [
    "print (data.columns.values)\n",
    "print (data.corr().shape)\n",
    "data['attributed_time'].unique()"
   ]
  },
  {
   "cell_type": "code",
   "execution_count": 159,
   "metadata": {},
   "outputs": [
    {
     "data": {
      "image/png": "[encoded data removed]",
      "text/plain": [
       "<matplotlib.figure.Figure at 0x17deb3f4dd8>"
      ]
     },
     "metadata": {},
     "output_type": "display_data"
    }
   ],
   "source": [
    "import matplotlib.pyplot as plt\n",
    "import seaborn as sns\n",
    "sns.heatmap(data.corr())\n",
    "plt.show()"
   ]
  },
  {
   "cell_type": "markdown",
   "metadata": {},
   "source": [
    "as seen above day month and year are highly +ve correlated with all features and hour is -ve correlated with minute .we need to drop correlated data "
   ]
  },
  {
   "cell_type": "code",
   "execution_count": 160,
   "metadata": {
    "collapsed": true
   },
   "outputs": [],
   "source": [
    "#removing above column from dataframe\n",
    "data=data.drop(['day','month','year','hour'],axis=1)\n",
    "\n"
   ]
  },
  {
   "cell_type": "code",
   "execution_count": 161,
   "metadata": {},
   "outputs": [
    {
     "data": {
      "text/plain": [
       "array([ 0,  5,  3,  1,  2, 13], dtype=int64)"
      ]
     },
     "execution_count": 161,
     "metadata": {},
     "output_type": "execute_result"
    }
   ],
   "source": [
    "a=data.groupby(['channel'])['is_attributed'].agg('sum')\n",
    "a.unique()"
   ]
  },
  {
   "cell_type": "code",
   "execution_count": 225,
   "metadata": {},
   "outputs": [],
   "source": [
    "b=a.reset_index().sort_values(['is_attributed'],ascending=False)"
   ]
  },
  {
   "cell_type": "code",
   "execution_count": 246,
   "metadata": {
    "scrolled": true
   },
   "outputs": [
    {
     "data": {
      "image/png": "[encoded data removed]",
      "text/plain": [
       "<matplotlib.figure.Figure at 0x17de590eb38>"
      ]
     },
     "metadata": {},
     "output_type": "display_data"
    }
   ],
   "source": [
    "import matplotlib.pyplot as plt\n",
    "plt.scatter(b['channel'],b['is_attributed'])\n",
    "plt.show()\n"
   ]
  },
  {
   "cell_type": "code",
   "execution_count": null,
   "metadata": {
    "collapsed": true
   },
   "outputs": [],
   "source": []
  }
 ],
 "metadata": {
  "kernelspec": {
   "display_name": "Python 3",
   "language": "python",
   "name": "python3"
  },
  "language_info": {
   "codemirror_mode": {
    "name": "ipython",
    "version": 3
   },
   "file_extension": ".py",
   "mimetype": "text/x-python",
   "name": "python",
   "nbconvert_exporter": "python",
   "pygments_lexer": "ipython3",
   "version": "3.6.3"
  }
 },
 "nbformat": 4,
 "nbformat_minor": 2
}
