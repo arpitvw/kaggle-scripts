{
 "cells": [
  {
   "cell_type": "code",
   "execution_count": 1,
   "metadata": {},
   "outputs": [
    {
     "name": "stdout",
     "output_type": "stream",
     "text": [
      "# of keypoints: 4361\n"
     ]
    },
    {
     "data": {
      "text/plain": [
       "111"
      ]
     },
     "execution_count": 1,
     "metadata": {},
     "output_type": "execute_result"
    }
   ],
   "source": [
    "# import the necessary packages\n",
    "from __future__ import print_function\n",
    "import numpy as np\n",
    "import cv2\n",
    "import imutils\n",
    "\n",
    "def gftt(gray, maxCorners=0, qualityLevel=0.01, minDistance=1,\n",
    "    mask=None, blockSize=3, useHarrisDetector=False, k=0.04):\n",
    "    # compute GFTT keypoints using the supplied parameters (OpenCV 3 only)\n",
    "    kps = cv2.goodFeaturesToTrack(gray, maxCorners, qualityLevel,\n",
    "        minDistance, mask=mask, blockSize=blockSize,\n",
    "        useHarrisDetector=useHarrisDetector, k=k)\n",
    "\n",
    "    # create and return `KeyPoint` objects\n",
    "    return [cv2.KeyPoint(pt[0][0], pt[0][1], 3) for pt in kps]\n",
    "\n",
    "# load the image and convert it to grayscale\n",
    "image = cv2.imread(r'C:\\Users\\arpit14276\\Desktop\\pyimagesearch\\grand_central_terminal.png')\n",
    "orig = image.copy()\n",
    "gray = cv2.cvtColor(image, cv2.COLOR_BGR2GRAY)\n",
    "\n",
    "# handle if we're detecting and drawing GFTT keypoints using OpenCV 2.4\n",
    "if imutils.is_cv2():\n",
    "    detector = cv2.FeatureDetector_create(\"GFTT\")\n",
    "    kps = detector.detect(gray)\n",
    "\n",
    "# handle if we're detecting and drawing GFTT keypoints using OpenCV 3+\n",
    "else:\n",
    "    kps = gftt(gray)\n",
    "\n",
    "# loop over the keypoints and draw them\n",
    "for kp in kps:\n",
    "    r = int(0.5 * kp.size)\n",
    "    (x, y) = np.int0(kp.pt)\n",
    "    cv2.circle(image, (x, y), r, (0, 255, 255), 2)\n",
    "\n",
    "print(\"# of keypoints: {}\".format(len(kps)))\n",
    "\n",
    "# show the image\n",
    "cv2.imshow(\"Images\", np.hstack([orig, image]))\n",
    "cv2.waitKey(0)"
   ]
  },
  {
   "cell_type": "code",
   "execution_count": 2,
   "metadata": {},
   "outputs": [],
   "source": [
    "cv2.destroyAllWindows()"
   ]
  },
  {
   "cell_type": "code",
   "execution_count": null,
   "metadata": {},
   "outputs": [],
   "source": []
  }
 ],
 "metadata": {
  "kernelspec": {
   "display_name": "Python 3",
   "language": "python",
   "name": "python3"
  },
  "language_info": {
   "codemirror_mode": {
    "name": "ipython",
    "version": 3
   },
   "file_extension": ".py",
   "mimetype": "text/x-python",
   "name": "python",
   "nbconvert_exporter": "python",
   "pygments_lexer": "ipython3",
   "version": "3.6.5"
  }
 },
 "nbformat": 4,
 "nbformat_minor": 2
}
