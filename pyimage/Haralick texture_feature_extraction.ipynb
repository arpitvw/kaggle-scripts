{
 "cells": [
  {
   "cell_type": "code",
   "execution_count": 1,
   "metadata": {},
   "outputs": [],
   "source": [
    "import imutils\n",
    "import cv2\n",
    "import numpy as np"
   ]
  },
  {
   "cell_type": "code",
   "execution_count": 2,
   "metadata": {},
   "outputs": [
    {
     "data": {
      "text/plain": [
       "'\\n Haralick texture features are used to describe the “texture” of an image.\\n If you are trying to quantify and represent the feel, appearance, or consistency of a surface, \\n then Haralick texture features are a good starting point.\\n \\n Haralick texture features can be used to distinguish between rough and smooth surfaces.\\n They can also be used to distinguish between rocks, sand, and bricks.\\n I’ve even used Haralick texture features to quantify and represent the texture of fabrics.\\n '"
      ]
     },
     "execution_count": 2,
     "metadata": {},
     "output_type": "execute_result"
    }
   ],
   "source": [
    "'''\n",
    " Haralick texture features are used to describe the “texture” of an image.\n",
    " If you are trying to quantify and represent the feel, appearance, or consistency of a surface, \n",
    " then Haralick texture features are a good starting point.\n",
    " \n",
    " Haralick texture features can be used to distinguish between rough and smooth surfaces.\n",
    " They can also be used to distinguish between rocks, sand, and bricks.\n",
    " I’ve even used Haralick texture features to quantify and represent the texture of fabrics.\n",
    " '''"
   ]
  },
  {
   "cell_type": "code",
   "execution_count": 3,
   "metadata": {},
   "outputs": [
    {
     "data": {
      "text/plain": [
       "'\\n\\nHaralick feautres are derived from the Gray Level Co-occurrence Matrix (GLCM).\\nThis matrix records how many times two gray-level pixels adjacent to each other appear in an image.\\nThen based on this matrix, Haralick proposes 13 values that can be extracted from the GLCM to quantify texture.\\nAn additional 14 values can be computed; however, they are not often used due to computational instability.\\n\\nusage\\nimport mah0tas as mh\\nmh.features.haralick(image).mean(axis=0)\\n\\nhttps://gurus.pyimagesearch.com/lessons/haralick-texture/\\n'"
      ]
     },
     "execution_count": 3,
     "metadata": {},
     "output_type": "execute_result"
    }
   ],
   "source": [
    "'''\n",
    "\n",
    "Haralick feautres are derived from the Gray Level Co-occurrence Matrix (GLCM).\n",
    "This matrix records how many times two gray-level pixels adjacent to each other appear in an image.\n",
    "Then based on this matrix, Haralick proposes 13 values that can be extracted from the GLCM to quantify texture.\n",
    "An additional 14 values can be computed; however, they are not often used due to computational instability.\n",
    "\n",
    "usage\n",
    "import mah0tas as mh\n",
    "mh.features.haralick(image).mean(axis=0)\n",
    "\n",
    "https://gurus.pyimagesearch.com/lessons/haralick-texture/\n",
    "'''"
   ]
  },
  {
   "cell_type": "code",
   "execution_count": null,
   "metadata": {},
   "outputs": [],
   "source": [
    "image = cv2.imread(imagePath)\n",
    "image = cv2.cvtColor(image, cv2.COLOR_BGR2GRAY)\n",
    "features = mahotas.features.haralick(image).mean(axis=0)"
   ]
  }
 ],
 "metadata": {
  "kernelspec": {
   "display_name": "Python 3",
   "language": "python",
   "name": "python3"
  },
  "language_info": {
   "codemirror_mode": {
    "name": "ipython",
    "version": 3
   },
   "file_extension": ".py",
   "mimetype": "text/x-python",
   "name": "python",
   "nbconvert_exporter": "python",
   "pygments_lexer": "ipython3",
   "version": "3.6.5"
  }
 },
 "nbformat": 4,
 "nbformat_minor": 2
}
