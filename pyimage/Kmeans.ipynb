{
 "cells": [
  {
   "cell_type": "code",
   "execution_count": 1,
   "metadata": {},
   "outputs": [],
   "source": [
    "import numpy as np\n",
    "import cv2\n",
    "import pandas as pd"
   ]
  },
  {
   "cell_type": "code",
   "execution_count": 25,
   "metadata": {},
   "outputs": [],
   "source": [
    "# import the necessary packages\n",
    "from sklearn.cluster import KMeans\n",
    "import numpy as np\n",
    "import random\n",
    "import cv2\n",
    "import imutils\n",
    " \n",
    "# initialize the list of color choices\n",
    "colors = [\n",
    "    # shades of red, green, and blue\n",
    "    (138, 8, 8), (180, 4, 4), (223, 1, 1), (255, 0, 0), (250, 88, 88),\n",
    "    (8, 138, 8), (4, 180, 4), (1, 223, 1), (0, 255, 0), (46, 254, 46),\n",
    "    (11, 11, 97), (8, 8, 138), (4, 4, 180), (0, 0, 255), (46, 46, 254)]\n",
    " \n",
    "# initialize the canvas\n",
    "canvas = np.ones((400, 600, 3), dtype=\"uint8\") * 255\n",
    " \n",
    "# loop over the canvas\n",
    "for y in range(0, 400, 20):\n",
    "    for x in range(0, 600, 20):\n",
    "        # generate a random (x, y) coordinate, radius, and color for\n",
    "        # the circle\n",
    "        (dX, dY) = np.random.randint(5, 10, size=(2,))\n",
    "        r = np.random.randint(5, 8)\n",
    "        color = random.choice(colors)[::-1]\n",
    "        #print (color)\n",
    " \n",
    "        # draw the circle on the canvas\n",
    "        cv2.circle(canvas, (x + dX, y + dY), r, color, -1)\n",
    " \n",
    "# pad the border of the image\n",
    "canvas = cv2.copyMakeBorder(canvas, 5, 5, 5, 5, cv2.BORDER_CONSTANT,\n",
    "    value=(255, 255, 255))"
   ]
  },
  {
   "cell_type": "code",
   "execution_count": 26,
   "metadata": {},
   "outputs": [],
   "source": [
    "cv2.imshow('image',gray)\n",
    "cv2.waitKey(0)\n",
    "cv2.destroyAllWindows()"
   ]
  },
  {
   "cell_type": "code",
   "execution_count": 21,
   "metadata": {},
   "outputs": [
    {
     "name": "stdout",
     "output_type": "stream",
     "text": [
      "600\n"
     ]
    },
    {
     "data": {
      "text/plain": [
       "(410, 610, 3)"
      ]
     },
     "execution_count": 21,
     "metadata": {},
     "output_type": "execute_result"
    }
   ],
   "source": [
    "gray = cv2.cvtColor(canvas, cv2.COLOR_BGR2GRAY)\n",
    "gray = cv2.bitwise_not(gray)\n",
    "thresh = cv2.threshold(gray, 10, 255, cv2.THRESH_BINARY)[1]\n",
    "cnts = cv2.findContours(gray.copy(), cv2.RETR_LIST, cv2.CHAIN_APPROX_SIMPLE)\n",
    "cnts = cnts[0] if imutils.is_cv2() else cnts[1]\n",
    "data = []\n",
    " \n",
    "# loop over the contours\n",
    "for c in cnts:\n",
    "    # construct a mask from the contour\n",
    "    mask = np.zeros(canvas.shape[:2], dtype=\"uint8\")\n",
    "    cv2.drawContours(mask, [c], -1, 255, -1)\n",
    "    features = cv2.mean(canvas, mask=mask)[:3]\n",
    "    #print (features)\n",
    "    data.append(features)\n",
    "    \n",
    "print (len(data))\n",
    "canvas.shape"
   ]
  },
  {
   "cell_type": "code",
   "execution_count": 14,
   "metadata": {},
   "outputs": [],
   "source": [
    "clt = KMeans(n_clusters=3)\n",
    "clt.fit(data)\n",
    "cv2.imshow(\"Canvas\", canvas)\n",
    " \n",
    "# loop over the unique cluster identifiers\n",
    "for i in np.unique(clt.labels_):\n",
    "    # construct a mask for the current cluster\n",
    "    mask = np.zeros(canvas.shape[:2], dtype=\"uint8\")\n",
    " \n",
    "    # loop over the indexes of the current cluster and draw them\n",
    "    for j in np.where(clt.labels_ == i)[0]:\n",
    "        cv2.drawContours(mask, [cnts[j]], -1, 255, -1)\n",
    " \n",
    "    # show the output image for the cluster\n",
    "    cv2.imshow(\"Cluster\", cv2.bitwise_and(canvas, canvas, mask=mask))\n",
    "    cv2.waitKey(0)"
   ]
  },
  {
   "cell_type": "code",
   "execution_count": 15,
   "metadata": {},
   "outputs": [],
   "source": [
    "cv2.destroyAllWindows()"
   ]
  },
  {
   "cell_type": "code",
   "execution_count": 24,
   "metadata": {},
   "outputs": [
    {
     "data": {
      "text/plain": [
       "(180.0, 4.0, 4.0)"
      ]
     },
     "execution_count": 24,
     "metadata": {},
     "output_type": "execute_result"
    }
   ],
   "source": [
    "cv2.mean(canvas,mask=mask)[:3]"
   ]
  },
  {
   "cell_type": "code",
   "execution_count": null,
   "metadata": {},
   "outputs": [],
   "source": []
  },
  {
   "cell_type": "code",
   "execution_count": null,
   "metadata": {},
   "outputs": [],
   "source": []
  }
 ],
 "metadata": {
  "kernelspec": {
   "display_name": "Python 3",
   "language": "python",
   "name": "python3"
  },
  "language_info": {
   "codemirror_mode": {
    "name": "ipython",
    "version": 3
   },
   "file_extension": ".py",
   "mimetype": "text/x-python",
   "name": "python",
   "nbconvert_exporter": "python",
   "pygments_lexer": "ipython3",
   "version": "3.6.5"
  }
 },
 "nbformat": 4,
 "nbformat_minor": 2
}
