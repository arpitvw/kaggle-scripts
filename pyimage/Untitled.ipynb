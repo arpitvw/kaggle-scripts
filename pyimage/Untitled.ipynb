{
 "cells": [
  {
   "cell_type": "code",
   "execution_count": null,
   "metadata": {},
   "outputs": [],
   "source": [
    "def target(l,target_value):\n",
    "    max_index=len(l)-1\n",
    "    min_index=0\n",
    "    #print (max_index)\n",
    "    if target_value>l[max_index]:\n",
    "        #print ('not exist')\n",
    "        exit\n",
    "    if max_index==min_index:\n",
    "        print ('not match')\n",
    "        exit\n",
    "    elif l[min_index]+l[max_index]==target_value:\n",
    "        print ('match',min_index,max_index,l[min_index]+l[max_index])\n",
    "        exit\n",
    "        \n",
    "    elif l[min_index]+l[max_index]<target_value:\n",
    "        min_index +=1\n",
    "        return target(l[min_index:max_index+1],target_value)\n",
    "    elif l[min_index]+l[max_index]>target_value:\n",
    "        max_index -=1\n",
    "        return target(l[min_index:max_index+1],target_value)\n",
    "    \n",
    "        \n",
    "        \n",
    "        "
   ]
  },
  {
   "cell_type": "code",
   "execution_count": null,
   "metadata": {
    "scrolled": true
   },
   "outputs": [],
   "source": [
    "target([1,2,3,4,9],25)"
   ]
  },
  {
   "cell_type": "code",
   "execution_count": null,
   "metadata": {},
   "outputs": [],
   "source": [
    "def add_1(input_list):\n",
    "    print (input_list.index(input_list[-1]))\n",
    "    max_index=input_list.index(input_list[-1])\n",
    "    min_index=0\n",
    "    carry=0\n",
    "    count=0\n",
    "    if input_list[max_index]==9 and max_index!=min_index:\n",
    "        input_list[max_index]=0\n",
    "        input_list[max_index-1]=input_list[max_index-1]+1\n",
    "        carry=1\n",
    "\n",
    "    else:\n",
    "        input_list[max_index]=input_list[max_index]+1\n",
    "        return input_list\n",
    "        exit\n",
    "    \n",
    "    if max_index==min_index and input_list[0]==9 and carry==1:\n",
    "        input_list=[0 for i in range(len(input_list)+1)]\n",
    "        print (input_list)\n",
    "        input_list[0]=1\n",
    "        \n",
    "        exit\n",
    "    return add_1(input_list[0:max_index-1])\n",
    "            \n",
    "        \n",
    "        "
   ]
  },
  {
   "cell_type": "code",
   "execution_count": null,
   "metadata": {},
   "outputs": [],
   "source": [
    "add_1([9,9,9,9])"
   ]
  },
  {
   "cell_type": "code",
   "execution_count": null,
   "metadata": {},
   "outputs": [],
   "source": [
    "for i in range(1000000):\n",
    "    x = text.upper()"
   ]
  },
  {
   "cell_type": "code",
   "execution_count": null,
   "metadata": {},
   "outputs": [],
   "source": [
    "321%10\n"
   ]
  },
  {
   "cell_type": "code",
   "execution_count": null,
   "metadata": {},
   "outputs": [],
   "source": [
    "321/10\n"
   ]
  },
  {
   "cell_type": "code",
   "execution_count": 24,
   "metadata": {},
   "outputs": [],
   "source": [
    "def reverse(data):\n",
    "    x=True\n",
    "    temp=0\n",
    "    sign=-1\n",
    "    if data<0:\n",
    "        data=sign*data\n",
    "        #print ('test',sign)\n",
    "    else:\n",
    "        sign=sign*sign\n",
    "        #print (sign)\n",
    "        \n",
    "    #print (sign)\n",
    "    while x is True:\n",
    "        rev=data%10\n",
    "        data=data//10\n",
    "        if rev==0:\n",
    "            #return temp\n",
    "            break\n",
    "        #print ('test',temp)\n",
    "        temp=temp*10+rev\n",
    "        \n",
    "    \n",
    "    #print (sign)\n",
    "    return (temp*sign)"
   ]
  },
  {
   "cell_type": "code",
   "execution_count": 25,
   "metadata": {
    "scrolled": false
   },
   "outputs": [
    {
     "data": {
      "text/plain": [
       "0"
      ]
     },
     "execution_count": 25,
     "metadata": {},
     "output_type": "execute_result"
    },
    {
     "data": {
      "text/plain": [
       "0"
      ]
     },
     "execution_count": 25,
     "metadata": {},
     "output_type": "execute_result"
    }
   ],
   "source": [
    "reverse(120)"
   ]
  },
  {
   "cell_type": "code",
   "execution_count": 38,
   "metadata": {},
   "outputs": [],
   "source": [
    "\n",
    "    \n",
    "def reverse( given_int):\n",
    "        if given_int>2147483648 or given_int<-2147483648 :\n",
    "            return 0\n",
    "        sign = -1\n",
    "        temp = 0\n",
    "                \n",
    "        if given_int<0: \n",
    "            given_int = sign*given_int \n",
    "        else: \n",
    "            sign=sign*sign \n",
    "            \n",
    "        while given_int != 0:\n",
    "            \n",
    "            last_value = given_int % 10\n",
    "            temp = temp * 10 + last_value\n",
    "            given_int = int(given_int / 10)\n",
    "    \n",
    "        return temp * sign"
   ]
  },
  {
   "cell_type": "code",
   "execution_count": 40,
   "metadata": {},
   "outputs": [
    {
     "data": {
      "text/plain": [
       "9646324351"
      ]
     },
     "execution_count": 40,
     "metadata": {},
     "output_type": "execute_result"
    },
    {
     "data": {
      "text/plain": [
       "9646324351"
      ]
     },
     "execution_count": 40,
     "metadata": {},
     "output_type": "execute_result"
    }
   ],
   "source": [
    "reverse(1534236469)"
   ]
  },
  {
   "cell_type": "code",
   "execution_count": 41,
   "metadata": {},
   "outputs": [
    {
     "data": {
      "text/plain": [
       "False"
      ]
     },
     "execution_count": 41,
     "metadata": {},
     "output_type": "execute_result"
    },
    {
     "data": {
      "text/plain": [
       "False"
      ]
     },
     "execution_count": 41,
     "metadata": {},
     "output_type": "execute_result"
    }
   ],
   "source": [
    "1534236469>2147483648"
   ]
  },
  {
   "cell_type": "code",
   "execution_count": 42,
   "metadata": {},
   "outputs": [],
   "source": [
    "a='  -12'"
   ]
  },
  {
   "cell_type": "code",
   "execution_count": 43,
   "metadata": {},
   "outputs": [
    {
     "data": {
      "text/plain": [
       "' '"
      ]
     },
     "execution_count": 43,
     "metadata": {},
     "output_type": "execute_result"
    },
    {
     "data": {
      "text/plain": [
       "' '"
      ]
     },
     "execution_count": 43,
     "metadata": {},
     "output_type": "execute_result"
    }
   ],
   "source": [
    "a[0]"
   ]
  },
  {
   "cell_type": "code",
   "execution_count": 179,
   "metadata": {},
   "outputs": [],
   "source": [
    "def str_to_int(data):\n",
    "    temp=0\n",
    "    sign=1\n",
    "    count=0\n",
    "    for i in data:       \n",
    "        \n",
    "        #print (i)\n",
    "        if i not in('0','1','2','3','4','5','6','7','8','9','-'):\n",
    "            if i !=' ' and count==0:\n",
    "                return 0\n",
    "                continue\n",
    "            #print ('test',i)\n",
    "            pass\n",
    "        elif i =='-':\n",
    "            sign=sign*-1\n",
    "        else:\n",
    "            count+=1\n",
    "            temp=temp*10+int(i)\n",
    "            #print (temp)\n",
    "    return sign*temp"
   ]
  },
  {
   "cell_type": "code",
   "execution_count": 182,
   "metadata": {},
   "outputs": [
    {
     "data": {
      "text/plain": [
       "0"
      ]
     },
     "execution_count": 182,
     "metadata": {},
     "output_type": "execute_result"
    },
    {
     "data": {
      "text/plain": [
       "0"
      ]
     },
     "execution_count": 182,
     "metadata": {},
     "output_type": "execute_result"
    }
   ],
   "source": [
    "str_to_int('w 12 ') # should not returm  zero"
   ]
  },
  {
   "cell_type": "code",
   "execution_count": 66,
   "metadata": {},
   "outputs": [],
   "source": [
    "a='   -2'"
   ]
  },
  {
   "cell_type": "code",
   "execution_count": 185,
   "metadata": {},
   "outputs": [
    {
     "data": {
      "text/plain": [
       "333333333"
      ]
     },
     "execution_count": 185,
     "metadata": {},
     "output_type": "execute_result"
    },
    {
     "data": {
      "text/plain": [
       "333333333"
      ]
     },
     "execution_count": 185,
     "metadata": {},
     "output_type": "execute_result"
    }
   ],
   "source": [
    "int(333333333.333333344444444)"
   ]
  },
  {
   "cell_type": "code",
   "execution_count": 190,
   "metadata": {},
   "outputs": [],
   "source": [
    "def myAtoi(data):\n",
    "        temp=0\n",
    "        sign=1\n",
    "        count=0\n",
    "        try:\n",
    "            c=int(data)\n",
    "            print ('c',c)\n",
    "            if (c>2147483648 or c<-2147483648):\n",
    "                return int((data/data)*2147483648)\n",
    "            else:\n",
    "                return int(data)\n",
    "            \n",
    "        except:\n",
    "            for i in data:  \n",
    "                print ('not int')\n",
    "\n",
    "                #print (i)\n",
    "                if i not in('0','1','2','3','4','5','6','7','8','9','-'):\n",
    "                    if i !=' ' and count==0:\n",
    "                        return 0\n",
    "                        continue\n",
    "                    #print ('test',i)\n",
    "                    pass\n",
    "                elif i =='-':\n",
    "                    sign=sign*-1\n",
    "                else:\n",
    "                    count+=1\n",
    "                    temp=temp*10+int(i)\n",
    "                    #print (temp)\n",
    "            temp=temp*sign\n",
    "            if (temp>2147483648 or temp<-2147483648):\n",
    "                return int(sign*2147483648)\n",
    "            else:\n",
    "                return int(temp)\n"
   ]
  },
  {
   "cell_type": "code",
   "execution_count": 191,
   "metadata": {
    "collapsed": true
   },
   "outputs": [
    {
     "name": "stdout",
     "output_type": "stream",
     "text": [
      "not int\n",
      "not int\n",
      "not int\n",
      "not int\n",
      "not int\n",
      "not int\n"
     ]
    },
    {
     "data": {
      "text/plain": [
       "23"
      ]
     },
     "execution_count": 191,
     "metadata": {},
     "output_type": "execute_result"
    },
    {
     "data": {
      "text/plain": [
       "23"
      ]
     },
     "execution_count": 191,
     "metadata": {},
     "output_type": "execute_result"
    }
   ],
   "source": [
    "myAtoi('2.3')"
   ]
  },
  {
   "cell_type": "code",
   "execution_count": 200,
   "metadata": {},
   "outputs": [
    {
     "data": {
      "text/plain": [
       "'MCMXCIV'"
      ]
     },
     "execution_count": 200,
     "metadata": {},
     "output_type": "execute_result"
    },
    {
     "data": {
      "text/plain": [
       "'MCMXCIV'"
      ]
     },
     "execution_count": 200,
     "metadata": {},
     "output_type": "execute_result"
    }
   ],
   "source": [
    "1994\n",
    "'MCMXCIV'"
   ]
  },
  {
   "cell_type": "code",
   "execution_count": 202,
   "metadata": {},
   "outputs": [
    {
     "data": {
      "text/plain": [
       "994"
      ]
     },
     "execution_count": 202,
     "metadata": {},
     "output_type": "execute_result"
    },
    {
     "data": {
      "text/plain": [
       "994"
      ]
     },
     "execution_count": 202,
     "metadata": {},
     "output_type": "execute_result"
    }
   ],
   "source": [
    "1994%1000"
   ]
  },
  {
   "cell_type": "code",
   "execution_count": 203,
   "metadata": {},
   "outputs": [
    {
     "data": {
      "text/plain": [
       "'M'"
      ]
     },
     "execution_count": 203,
     "metadata": {},
     "output_type": "execute_result"
    },
    {
     "data": {
      "text/plain": [
       "'M'"
      ]
     },
     "execution_count": 203,
     "metadata": {},
     "output_type": "execute_result"
    }
   ],
   "source": [
    "'M'"
   ]
  },
  {
   "cell_type": "code",
   "execution_count": 206,
   "metadata": {},
   "outputs": [
    {
     "data": {
      "text/plain": [
       "494"
      ]
     },
     "execution_count": 206,
     "metadata": {},
     "output_type": "execute_result"
    },
    {
     "data": {
      "text/plain": [
       "494"
      ]
     },
     "execution_count": 206,
     "metadata": {},
     "output_type": "execute_result"
    }
   ],
   "source": [
    "994%500"
   ]
  },
  {
   "cell_type": "code",
   "execution_count": 207,
   "metadata": {},
   "outputs": [
    {
     "data": {
      "text/plain": [
       "'MD'"
      ]
     },
     "execution_count": 207,
     "metadata": {},
     "output_type": "execute_result"
    },
    {
     "data": {
      "text/plain": [
       "'MD'"
      ]
     },
     "execution_count": 207,
     "metadata": {},
     "output_type": "execute_result"
    }
   ],
   "source": [
    "'MD'"
   ]
  },
  {
   "cell_type": "code",
   "execution_count": 209,
   "metadata": {},
   "outputs": [
    {
     "data": {
      "text/plain": [
       "94"
      ]
     },
     "execution_count": 209,
     "metadata": {},
     "output_type": "execute_result"
    },
    {
     "data": {
      "text/plain": [
       "94"
      ]
     },
     "execution_count": 209,
     "metadata": {},
     "output_type": "execute_result"
    }
   ],
   "source": [
    "494%100"
   ]
  },
  {
   "cell_type": "code",
   "execution_count": null,
   "metadata": {},
   "outputs": [],
   "source": [
    "MDC"
   ]
  }
 ],
 "metadata": {
  "kernelspec": {
   "display_name": "Python 3",
   "language": "python",
   "name": "python3"
  },
  "language_info": {
   "codemirror_mode": {
    "name": "ipython",
    "version": 3
   },
   "file_extension": ".py",
   "mimetype": "text/x-python",
   "name": "python",
   "nbconvert_exporter": "python",
   "pygments_lexer": "ipython3",
   "version": "3.6.5"
  }
 },
 "nbformat": 4,
 "nbformat_minor": 2
}
