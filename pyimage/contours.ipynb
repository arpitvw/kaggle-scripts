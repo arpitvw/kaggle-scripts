{
 "cells": [
  {
   "cell_type": "code",
   "execution_count": 2,
   "metadata": {},
   "outputs": [],
   "source": [
    "import cv2\n",
    "import numpy as np\n",
    "import imutils"
   ]
  },
  {
   "cell_type": "code",
   "execution_count": 3,
   "metadata": {},
   "outputs": [
    {
     "data": {
      "text/plain": [
       "'3.4.1'"
      ]
     },
     "execution_count": 3,
     "metadata": {},
     "output_type": "execute_result"
    }
   ],
   "source": [
    "cv2.__version__"
   ]
  },
  {
   "cell_type": "code",
   "execution_count": 4,
   "metadata": {},
   "outputs": [],
   "source": [
    "image=cv2.imread(r'C:\\Users\\arpit14276\\Desktop\\pyimagesearch\\contours_receipt_original.jpg')\n",
    "gray=cv2.cvtColor(image,cv2.COLOR_BGR2GRAY)"
   ]
  },
  {
   "cell_type": "code",
   "execution_count": 5,
   "metadata": {},
   "outputs": [],
   "source": [
    "cnts = cv2.findContours(gray.copy(), cv2.RETR_LIST, cv2.CHAIN_APPROX_SIMPLE)\n",
    "# cv2.RETR_LIST\n",
    "# CHAIN_APPROX_SIMPLE if we dont set this flag then it will store each and every point of contours \n",
    "cnts = cnts[0] if imutils.is_cv2() else cnts[1]"
   ]
  },
  {
   "cell_type": "code",
   "execution_count": null,
   "metadata": {},
   "outputs": [],
   "source": []
  },
  {
   "cell_type": "code",
   "execution_count": 10,
   "metadata": {},
   "outputs": [
    {
     "name": "stdout",
     "output_type": "stream",
     "text": [
      "Found 13 contours\n"
     ]
    }
   ],
   "source": [
    "clone = image.copy()\n",
    "cv2.drawContours(gray, cnts, -1,255, 2)\n",
    "print(\"Found {} contours\".format(len(cnts)))\n",
    " \n",
    "# show the output image\n",
    "cv2.imshow(\"All Contours\", clone)\n",
    "cv2.waitKey(0)\n",
    "cv2.destroyAllWindows()"
   ]
  },
  {
   "cell_type": "code",
   "execution_count": 11,
   "metadata": {},
   "outputs": [
    {
     "data": {
      "text/plain": [
       "array([[255, 255, 255, ..., 255, 255, 255],\n",
       "       [255, 255, 255, ..., 255, 255, 255],\n",
       "       [255, 255, 255, ..., 255, 255, 255],\n",
       "       ...,\n",
       "       [255, 255, 255, ..., 255, 255, 255],\n",
       "       [255, 255, 255, ..., 255, 255, 255],\n",
       "       [255, 255, 255, ..., 255, 255, 255]], dtype=uint8)"
      ]
     },
     "execution_count": 11,
     "metadata": {},
     "output_type": "execute_result"
    }
   ],
   "source": [
    "cv2.drawContours(gray,cnts,-1,255,-1)"
   ]
  },
  {
   "cell_type": "code",
   "execution_count": 8,
   "metadata": {},
   "outputs": [],
   "source": [
    "#### contures with masking (extracting object from an image)\n",
    "for i in cnts:\n",
    "    mask=np.zeros(gray.shape,dtype='uint8')\n",
    "    cv2.drawContours(mask,[i],-1,255,-1)\n",
    "    cv2.imshow('original',image)\n",
    "    cv2.imshow('mask',mask)\n",
    "    cv2.imshow('mask and contouring',cv2.bitwise_and(image,image,mask=mask))\n",
    "    cv2.waitKey(0)\n",
    "    cv2.destroyAllWindows()"
   ]
  },
  {
   "cell_type": "code",
   "execution_count": null,
   "metadata": {},
   "outputs": [],
   "source": [
    "#### to extract moment of an contoure\n",
    "\n",
    "clone=image.copy()\n",
    "for i in cnts:\n",
    "    m=cv2.moments(i)\n",
    "    x=int(m[\"m10\"]/m[\"m00\"])\n",
    "    y=int(m[\"m01\"]/m[\"m00\"])\n",
    "    cv2.circle(clone,(x,y),5,(0,255,0),-1)\n",
    "    \n",
    "cv2.imshow('moment',clone)\n",
    "cv2.waitKey(0)\n",
    "cv2.destroyAllWindows()\n",
    "clone=image.copy()"
   ]
  },
  {
   "cell_type": "code",
   "execution_count": null,
   "metadata": {},
   "outputs": [],
   "source": [
    "#### to get area/perimeter of an contors "
   ]
  },
  {
   "cell_type": "code",
   "execution_count": null,
   "metadata": {},
   "outputs": [],
   "source": [
    "for i,c in enumerate(cnts):\n",
    "    area=cv2.contourArea(c)\n",
    "    perimeter = cv2.arcLength(c,True)\n",
    "    print ('area of contour {} is {} and perimeter is {}'.format(i,area,perimeter))\n",
    "    cv2.drawContours(clone,[c],-1,(0,255,0),2)\n",
    "    m=cv2.moments(c)\n",
    "    x=int(m[\"m10\"]/m[\"m00\"])\n",
    "    y=int(m[\"m01\"]/m[\"m00\"])\n",
    "    cv2.putText(clone,\"#{}\".format(i),(x-20,y),cv2.FONT_HERSHEY_SIMPLEX,1.25, (255, 255, 255), 4)\n",
    "    \n",
    "cv2.imshow(\"clone\",clone)\n",
    "cv2.waitKey(0)\n",
    "cv2.destroyAllWindows()\n",
    "clone=image.copy()\n",
    "\n",
    "    \n",
    "    "
   ]
  },
  {
   "cell_type": "code",
   "execution_count": null,
   "metadata": {},
   "outputs": [],
   "source": [
    "### Bounding box ####"
   ]
  },
  {
   "cell_type": "code",
   "execution_count": null,
   "metadata": {},
   "outputs": [],
   "source": [
    "for c in cnts:\n",
    "    (x,y,w,h)=cv2.boundingRect(c)\n",
    "    cv2.rectangle(clone,(x,y),(x+w,y+h),(0,255,0),1)\n",
    "cv2.imshow('boundingbox',clone)\n",
    "cv2.waitKey(0)\n",
    "cv2.destroyAllWindows()\n",
    "clone=image.copy()\n",
    "# x,y starting point of bounding box \n",
    "#w,h is weidth and height of bounding box"
   ]
  },
  {
   "cell_type": "code",
   "execution_count": null,
   "metadata": {},
   "outputs": [],
   "source": []
  },
  {
   "cell_type": "code",
   "execution_count": null,
   "metadata": {},
   "outputs": [],
   "source": [
    "### inabove code its straight rectangle only , if we want to rotate the bounding box then we have to use bleow code\n"
   ]
  },
  {
   "cell_type": "code",
   "execution_count": null,
   "metadata": {},
   "outputs": [],
   "source": [
    "for c in cnts:\n",
    "    (x,y,w,h)=cv2.boundingRect(c)\n",
    "    print(x,y,w,h)\n",
    "    box=cv2.minAreaRect(c)\n",
    "    print (box)\n",
    "    box=np.int0(cv2.boxPoints(box))\n",
    "    print (box)\n",
    "    cv2.drawContours(clone,[box],-1,(0,255,0),2)\n",
    "cv2.imshow('Rotated',clone)\n",
    "cv2.waitKey(0)\n",
    "cv2.destroyAllWindows()\n",
    "clone=image.copy()"
   ]
  },
  {
   "cell_type": "code",
   "execution_count": null,
   "metadata": {},
   "outputs": [],
   "source": []
  },
  {
   "cell_type": "code",
   "execution_count": null,
   "metadata": {},
   "outputs": [],
   "source": [
    "#### quiz ###"
   ]
  },
  {
   "cell_type": "code",
   "execution_count": null,
   "metadata": {},
   "outputs": [],
   "source": [
    "image=cv2.imread(r'C:/Users/arpit14276/Desktop/pyimagesearch/contour_image.png')"
   ]
  },
  {
   "cell_type": "code",
   "execution_count": null,
   "metadata": {},
   "outputs": [],
   "source": [
    "gray=cv2.cvtColor(image,cv2.COLOR_BGR2GRAY)"
   ]
  },
  {
   "cell_type": "code",
   "execution_count": null,
   "metadata": {},
   "outputs": [],
   "source": [
    "cnts=cv2.findContours(gray.copy(), cv2.RETR_LIST, cv2.CHAIN_APPROX_SIMPLE)\n",
    "cnts = cnts[0] if imutils.is_cv2() else cnts[1]"
   ]
  },
  {
   "cell_type": "code",
   "execution_count": null,
   "metadata": {},
   "outputs": [],
   "source": [
    "clone=image.copy()\n",
    "for i in cnts:\n",
    "    m=cv2.moments(i)\n",
    "    x=int(m[\"m10\"]/m[\"m00\"])\n",
    "    y=int(m[\"m01\"]/m[\"m00\"])\n",
    "    area=cv2.contourArea(i)\n",
    "    perimeter=cv2.arcLength(i,True)\n",
    "    print (perimeter)\n",
    "    print (area)\n",
    "    print (x,y)\n",
    "    cv2.circle(clone,(x,y),5,(0,255,0),2)\n",
    "    (x,y,w,h)=cv2.boundingRect(i)\n",
    "    print(x,y,w,h)\n",
    "    cv2.rectangle(clone,(x,y),(x+w,y+h),(0,255,0),2)\n",
    "    ((x, y), radius) = cv2.minEnclosingCircle(i)\n",
    "    cv2.circle(clone,(int(x),int(y)),int(radius),(0,255,0),2)\n",
    "    \n",
    "cv2.imshow('moment',clone)\n",
    "cv2.waitKey(0)\n",
    "cv2.destroyAllWindows()\n",
    "clone=image.copy()\n",
    "    "
   ]
  },
  {
   "cell_type": "code",
   "execution_count": null,
   "metadata": {},
   "outputs": [],
   "source": []
  },
  {
   "cell_type": "code",
   "execution_count": null,
   "metadata": {
    "scrolled": true
   },
   "outputs": [],
   "source": []
  },
  {
   "cell_type": "code",
   "execution_count": null,
   "metadata": {},
   "outputs": [],
   "source": [
    "##### advance properties of contour\n",
    "# https://gurus.pyimagesearch.com/topic/advanced-contour-properties/"
   ]
  },
  {
   "cell_type": "code",
   "execution_count": null,
   "metadata": {},
   "outputs": [],
   "source": [
    "#aspect ratio\n",
    "#extent\n",
    "#Convex hull\n",
    "#solidity\n"
   ]
  },
  {
   "cell_type": "code",
   "execution_count": null,
   "metadata": {},
   "outputs": [],
   "source": [
    "# aspect ratio\n",
    "'''aspect ratio = image width / image height\n",
    "if aspect ratio is =1 then shape is square\n",
    "if >1 then horizontal  rectangle \n",
    "if <1 then vertical rectangle \n",
    "'''"
   ]
  },
  {
   "cell_type": "code",
   "execution_count": null,
   "metadata": {},
   "outputs": [],
   "source": [
    "#Extent\n",
    "'''extent = shape area / bounding box area\n",
    "bounding box area = bounding box width x bounding box height\n",
    "area means number of pixels in an object \n",
    "extent will be less than 1 — this is because the number of pixels inside the contour cannot possibly be larger the number of pixels in the bounding box of the shape\n",
    "'''"
   ]
  },
  {
   "cell_type": "code",
   "execution_count": null,
   "metadata": {},
   "outputs": [],
   "source": [
    "#Convex Hull"
   ]
  },
  {
   "cell_type": "code",
   "execution_count": null,
   "metadata": {},
   "outputs": [],
   "source": [
    "'''A convex hull is almost like a mathematical rubber band.\n",
    "More formally, given a set of X points in the Euclidean space, \n",
    "the convex hull is the smallest possible convex set that contains these X points.'''\n"
   ]
  },
  {
   "cell_type": "code",
   "execution_count": null,
   "metadata": {},
   "outputs": [],
   "source": []
  },
  {
   "cell_type": "code",
   "execution_count": null,
   "metadata": {},
   "outputs": [],
   "source": [
    "#Solidity\n"
   ]
  },
  {
   "cell_type": "code",
   "execution_count": null,
   "metadata": {},
   "outputs": [],
   "source": [
    "'''solidity = contour area / convex hull area\n",
    "it’s not possible to have a solidity value greater than 1. \n",
    "The number of pixels inside a shape cannot possibly outnumber the number of pixels in the convex hull,\n",
    "because by definition, the convex hull is the smallest possible set of pixels enclosing the shape.'''"
   ]
  },
  {
   "cell_type": "code",
   "execution_count": null,
   "metadata": {},
   "outputs": [],
   "source": [
    "############ tic-tac-toe board. x and O identification ############\n"
   ]
  },
  {
   "cell_type": "code",
   "execution_count": null,
   "metadata": {},
   "outputs": [],
   "source": [
    "tictac=cv2.imread(r'C:\\Users\\arpit14276\\Desktop\\pyimagesearch\\contours_tictactoe.png')"
   ]
  },
  {
   "cell_type": "code",
   "execution_count": null,
   "metadata": {},
   "outputs": [],
   "source": [
    "ticgray=cv2.cvtColor(tictac,cv2.COLOR_BGR2GRAY)"
   ]
  },
  {
   "cell_type": "code",
   "execution_count": null,
   "metadata": {},
   "outputs": [],
   "source": [
    "cnts=cv2.findContours(ticgray.copy(),cv2.RETR_EXTERNAL,cv2.CHAIN_APPROX_SIMPLE)"
   ]
  },
  {
   "cell_type": "code",
   "execution_count": null,
   "metadata": {},
   "outputs": [],
   "source": [
    "cnts = cnts[0] if imutils.is_cv2() else cnts[1]"
   ]
  },
  {
   "cell_type": "code",
   "execution_count": null,
   "metadata": {},
   "outputs": [],
   "source": [
    "for i,c in enumerate(cnts):\n",
    "    perimeter=cv2.arcLength(c,True)\n",
    "    area=cv2.contourArea(c)\n",
    "    (x,y,w,h)=cv2.boundingRect(c)\n",
    "    hull=cv2.convexHull(c)\n",
    "    hullarea=cv2.contourArea(hull)\n",
    "    solidity= area/float(hullarea)\n",
    "    char='?'\n",
    "    if solidity >=.98 :\n",
    "        char='O'\n",
    "    elif solidity >0.5 :\n",
    "        char='X'\n",
    "        \n",
    "    if char !='?':\n",
    "        cv2.drawContours(tictac,[c],-1,(0,255,0),2)\n",
    "        cv2.putText(tictac, char ,(x,y-10),cv2.FONT_HERSHEY_SIMPLEX, 1.25,(0, 255, 0), 4)\n",
    "        \n",
    "    print(\"{} (Contour #{}) -- solidity={:.2f}\".format(char, i + 1, solidity))\n",
    "    \n",
    "cv2.imshow('output image',tictac)\n",
    "cv2.waitKey(0)\n",
    "cv2.destroyAllWindows()\n",
    "    \n",
    "    "
   ]
  },
  {
   "cell_type": "code",
   "execution_count": null,
   "metadata": {},
   "outputs": [],
   "source": []
  },
  {
   "cell_type": "code",
   "execution_count": null,
   "metadata": {},
   "outputs": [],
   "source": [
    "#### tetris shape detection ####"
   ]
  },
  {
   "cell_type": "code",
   "execution_count": null,
   "metadata": {},
   "outputs": [],
   "source": [
    "tetris=cv2.imread(r'C:\\Users\\arpit14276\\Desktop\\pyimagesearch\\contours_tetris_blocks.png')"
   ]
  },
  {
   "cell_type": "code",
   "execution_count": null,
   "metadata": {},
   "outputs": [],
   "source": [
    "tetris_gray=cv2.cvtColor(tetris,cv2.COLOR_BGR2GRAY)"
   ]
  },
  {
   "cell_type": "code",
   "execution_count": null,
   "metadata": {},
   "outputs": [],
   "source": [
    "thres=cv2.threshold(tetris_gray,225,255,cv2.THRESH_BINARY_INV)[1]"
   ]
  },
  {
   "cell_type": "code",
   "execution_count": null,
   "metadata": {},
   "outputs": [],
   "source": [
    "# cv2.imshow('binary',thres)\n",
    "# cv2.waitKey(0)\n",
    "# cv2.destroyAllWindows()\n",
    "    "
   ]
  },
  {
   "cell_type": "code",
   "execution_count": null,
   "metadata": {},
   "outputs": [],
   "source": [
    "cnts=cv2.findContours(thres.copy(),cv2.RETR_EXTERNAL,cv2.CHAIN_APPROX_SIMPLE)"
   ]
  },
  {
   "cell_type": "code",
   "execution_count": null,
   "metadata": {},
   "outputs": [],
   "source": [
    "cnts= cnts[0] if imutils.is_cv2() else cnts[1]\n",
    "hullimage=np.zeros(thres.shape[:2],dtype='uint8')"
   ]
  },
  {
   "cell_type": "code",
   "execution_count": null,
   "metadata": {},
   "outputs": [],
   "source": [
    "for i,c in enumerate(cnts):\n",
    "    area=cv2.contourArea(c)\n",
    "    perimeter=cv2.arcLength(c,True)\n",
    "    (x,y,w,h)=cv2.boundingRect(c)\n",
    "    \n",
    "    aspect=w/float(h)\n",
    "    hull=cv2.convexHull(c)\n",
    "    #print ('hull',hull)\n",
    "    hullarea=cv2.contourArea(hull)\n",
    "    extent=area/float(w*h)\n",
    "    solidity=area/float(hullarea)\n",
    "    cv2.drawContours(hullimage,[hull],-1,255,-1)\n",
    "    cv2.drawContours(tetris,[c],-1,(0,255,0),2)\n",
    "    shape=\"\"\n",
    "    if aspect >.98 and aspect <1.02:\n",
    "        shape=\"Square\"\n",
    "    elif aspect >=3 :\n",
    "        shape=\"Rectangle\"\n",
    "    elif extent < 0.65:\n",
    "        shape = \"L-PIECE\"\n",
    "    elif solidity > 0.80:\n",
    "        shape = \"Z-PIECE\"\n",
    "        \n",
    "    cv2.putText(tetris, shape, (x, y - 10), cv2.FONT_HERSHEY_SIMPLEX, 0.5,(240, 0, 159), 2)\n",
    "    print(\"Contour #{} -- aspect_ratio={:.2f}, extent={:.2f}, solidity={:.2f} for {}\".format(i + 1, aspect, extent, solidity,shape))\n",
    "    cv2.imshow(\"Convex Hull\", hullimage)\n",
    "    cv2.imshow(\"Image\", tetris)\n",
    "    cv2.waitKey(0)\n",
    "    cv2.destroyAllWindows()\n",
    "    \n",
    "    \n",
    "# cv2.imshow('hull',hullimage)\n",
    "# cv2.imshow('thres',tetris)\n",
    "# cv2.waitKey(0)\n",
    "cv2.destroyAllWindows()  \n",
    "    \n",
    "    "
   ]
  },
  {
   "cell_type": "code",
   "execution_count": null,
   "metadata": {},
   "outputs": [],
   "source": [
    "cv2.destroyAllWindows()"
   ]
  },
  {
   "cell_type": "code",
   "execution_count": null,
   "metadata": {},
   "outputs": [],
   "source": [
    "\n",
    "\n",
    "#### quiz ####"
   ]
  },
  {
   "cell_type": "code",
   "execution_count": null,
   "metadata": {},
   "outputs": [],
   "source": [
    "quiz=cv2.imread(r'C:\\Users\\arpit14276\\Desktop\\pyimagesearch\\more_shapes_example.png')"
   ]
  },
  {
   "cell_type": "code",
   "execution_count": null,
   "metadata": {},
   "outputs": [],
   "source": [
    "gray=cv2.cvtColor(quiz,cv2.COLOR_BGR2GRAY)"
   ]
  },
  {
   "cell_type": "code",
   "execution_count": null,
   "metadata": {},
   "outputs": [],
   "source": [
    "cnts=cv2.findContours(gray,cv2.RETR_EXTERNAL,cv2.CHAIN_APPROX_SIMPLE)\n",
    "cnts = cnts[0] if imutils.is_cv2() else cnts[1]"
   ]
  },
  {
   "cell_type": "code",
   "execution_count": null,
   "metadata": {},
   "outputs": [],
   "source": [
    "for i,c in enumerate(cnts):\n",
    "    area=cv2.contourArea(c)\n",
    "    (x,y,w,h)=cv2.boundingRect(c)\n",
    "    aspect=w/float(h)\n",
    "    bounding_area=int(w*h)\n",
    "    extenct=area/bounding_area\n",
    "    hull=cv2.convexHull(c)\n",
    "    hull_area=cv2.contourArea(hull)\n",
    "    solidity=area/hull_area\n",
    "    print (extenct)\n",
    "    if extenct>.97 and extenct<1.02:\n",
    "        print ('Rectangle',aspect)\n",
    "    elif solidity <.8 :\n",
    "        print ('arrow',solidity,extenct)"
   ]
  },
  {
   "cell_type": "code",
   "execution_count": null,
   "metadata": {},
   "outputs": [],
   "source": []
  },
  {
   "cell_type": "code",
   "execution_count": null,
   "metadata": {},
   "outputs": [],
   "source": [
    "##### more advance property of contours , contour approximation\n"
   ]
  },
  {
   "cell_type": "code",
   "execution_count": null,
   "metadata": {},
   "outputs": [],
   "source": [
    "'''\n",
    "Contour approximation is an algorithm for reducing the number of points in a curve with a reduced set of points — thus, \n",
    "an approximation. This algorithm is commonly known as the Ramer-Douglas-Peucker algorithm, or\n",
    "simply: the split-and-merge algorithm.\n",
    "\n",
    "The general assumption of this algorithm is that a curve can be approximated by a series of short line segments.\n",
    "And we can thus approximate a given number of these line segments to reduce the number of points it takes to construct a curve.\n",
    "'''"
   ]
  },
  {
   "cell_type": "code",
   "execution_count": null,
   "metadata": {},
   "outputs": [],
   "source": [
    "#capprox=cv2.imread(r'C:\\Users\\arpit14276\\Desktop\\pyimagesearch\\contours_receipt_original.jpg')\n",
    "capprox = cv2.imread(r\"C:\\Users\\arpit14276\\Desktop\\pyimagesearch\\dog_contour.png\")"
   ]
  },
  {
   "cell_type": "code",
   "execution_count": null,
   "metadata": {},
   "outputs": [],
   "source": [
    "approx_gray=cv2.cvtColor(capprox,cv2.COLOR_BGR2GRAY)\n",
    "def auto(image,sigma=.33):\n",
    "    median=np.median(image)\n",
    "    lower=(1-sigma)*median\n",
    "    upper=(1+sigma)*median\n",
    "    edge=cv2.Canny(image,lower,upper)\n",
    "    return edge"
   ]
  },
  {
   "cell_type": "code",
   "execution_count": null,
   "metadata": {},
   "outputs": [],
   "source": [
    "#edge=auto(approx_gray)\n",
    "edge = cv2.Canny(approx_gray, 75, 200)\n",
    "cv2.imshow('original',capprox)\n",
    "cv2.imshow('edge',edge)\n",
    "cv2.waitKey(0)\n",
    "cv2.destroyAllWindows()\n"
   ]
  },
  {
   "cell_type": "code",
   "execution_count": null,
   "metadata": {},
   "outputs": [],
   "source": [
    "cnts=cv2.findContours(edge.copy(),cv2.RETR_EXTERNAL,cv2.CHAIN_APPROX_SIMPLE)\n",
    "cnts= cnts[0] if imutils.is_cv2() else cnts[1]\n",
    "print (len(cnts))\n",
    "cnts = sorted(cnts, key=cv2.contourArea, reverse=True)"
   ]
  },
  {
   "cell_type": "code",
   "execution_count": null,
   "metadata": {},
   "outputs": [],
   "source": [
    "print (len(cnts))"
   ]
  },
  {
   "cell_type": "code",
   "execution_count": null,
   "metadata": {},
   "outputs": [],
   "source": [
    "for i,c in enumerate(cnts):\n",
    "    peri=cv2.arcLength(c,True)\n",
    "    approx=cv2.approxPolyDP(c,.1*peri,True)\n",
    "    print (len(approx))\n",
    "    if len(approx)==3:\n",
    "        cv2.drawContours(capprox,[c],-1,(0,255,255),2)\n",
    "        (x,y,w,h)=cv2.boundingRect(approx)\n",
    "        #cv2.putText(capprox, \"Rectangle\", (x, y - 10), cv2.FONT_HERSHEY_SIMPLEX,0.5, (0, 255, 255), 2)\n",
    "\n",
    "    \n",
    "cv2.imshow('capprox',capprox)\n",
    "cv2.waitKey(0)\n",
    "cv2.destroyAllWindows()\n",
    "        \n",
    "        "
   ]
  },
  {
   "cell_type": "code",
   "execution_count": null,
   "metadata": {},
   "outputs": [],
   "source": [
    "def p(text):\n",
    "    print (type(text))"
   ]
  },
  {
   "cell_type": "code",
   "execution_count": null,
   "metadata": {},
   "outputs": [],
   "source": [
    "def test(text,**args):\n",
    "    if len(args)>0:\n",
    "        kv={}\n",
    "        for key,value in args.items():\n",
    "            kv[key]=value\n",
    "        \n",
    "        "
   ]
  },
  {
   "cell_type": "code",
   "execution_count": null,
   "metadata": {},
   "outputs": [],
   "source": [
    "import chardet\n",
    "def find_encoding(fname):\n",
    "    r_file = open(fname, 'rb').read()\n",
    "    result = chardet.detect(r_file)\n",
    "    charenc = result['encoding']\n",
    "    return charenc "
   ]
  },
  {
   "cell_type": "code",
   "execution_count": null,
   "metadata": {
    "scrolled": true
   },
   "outputs": [],
   "source": [
    "import pandas as pd\n",
    "enco=find_encoding(r'C:\\Users\\arpit14276\\Desktop\\facerecognization\\PS_20174392719_1491204439457_log.csv')\n",
    "\n",
    "def test(**kwargs):\n",
    "    i={}\n",
    "    \n",
    "    for key, value in kwargs.items():\n",
    "        \n",
    "        i [key]= value\n",
    "    print (i)\n",
    "        \n",
    "    data = pd.read_csv(r'C:\\Users\\arpit14276\\Desktop\\facerecognization\\PS_20174392719_1491204439457_log.csv', i )\n",
    "    return data.head()\n",
    "    \n",
    "#c=test(sep='|') "
   ]
  },
  {
   "cell_type": "code",
   "execution_count": null,
   "metadata": {},
   "outputs": [],
   "source": [
    "c"
   ]
  },
  {
   "cell_type": "code",
   "execution_count": null,
   "metadata": {},
   "outputs": [],
   "source": [
    "#data = pd.read_csv(r'C:\\Users\\arpit14276\\Desktop\\facerecognization\\PS_20174392719_1491204439457_log.csv',)"
   ]
  },
  {
   "cell_type": "code",
   "execution_count": null,
   "metadata": {},
   "outputs": [],
   "source": [
    "data.head()"
   ]
  },
  {
   "cell_type": "code",
   "execution_count": null,
   "metadata": {},
   "outputs": [],
   "source": [
    "boundingBoxes = [cv2.boundingRect(c) for c in cnts]\n",
    "# (cnts, boundingBoxes) = zip(*sorted(zip(cnts, boundingBoxes),\n",
    "#         key=lambda b:b[1][i], reverse=True))"
   ]
  },
  {
   "cell_type": "code",
   "execution_count": null,
   "metadata": {},
   "outputs": [],
   "source": [
    "boundingBoxes"
   ]
  },
  {
   "cell_type": "code",
   "execution_count": null,
   "metadata": {},
   "outputs": [],
   "source": [
    "i=1\n",
    "len(sorted(zip(cnts, boundingBoxes),key=lambda b:b[1][i], reverse=True)[0])"
   ]
  },
  {
   "cell_type": "code",
   "execution_count": null,
   "metadata": {},
   "outputs": [],
   "source": [
    " sorted(boundingBoxes,key= lambda b:b[0],reverse=True)"
   ]
  },
  {
   "cell_type": "code",
   "execution_count": null,
   "metadata": {},
   "outputs": [],
   "source": [
    "\n",
    "########## sorting contours  #######"
   ]
  },
  {
   "cell_type": "code",
   "execution_count": null,
   "metadata": {},
   "outputs": [],
   "source": [
    "image=cv2.imread(r\"C:\\Users\\arpit14276\\Desktop\\pyimagesearch\\Capture.png\")"
   ]
  },
  {
   "cell_type": "code",
   "execution_count": null,
   "metadata": {},
   "outputs": [],
   "source": [
    "gray=cv2.cvtColor(image,cv2.COLOR_BGR2GRAY)"
   ]
  },
  {
   "cell_type": "code",
   "execution_count": null,
   "metadata": {},
   "outputs": [],
   "source": [
    "#cnts=cv2.findContours(gray)"
   ]
  },
  {
   "cell_type": "code",
   "execution_count": null,
   "metadata": {},
   "outputs": [],
   "source": [
    "#cnts=cnts[0] if imutils.is_cv2() else cnts[1]"
   ]
  },
  {
   "cell_type": "code",
   "execution_count": null,
   "metadata": {},
   "outputs": [],
   "source": [
    "edge=cv2.Canny(gray,30,150)"
   ]
  },
  {
   "cell_type": "code",
   "execution_count": null,
   "metadata": {},
   "outputs": [],
   "source": [
    "cv2.imshow('capprox',edge)\n",
    "cv2.waitKey(0)\n",
    "cv2.destroyAllWindows()"
   ]
  },
  {
   "cell_type": "code",
   "execution_count": null,
   "metadata": {},
   "outputs": [],
   "source": [
    "def sort(cnts,mode):\n",
    "    \n",
    "    box=[cv2.boundingRect(i) for i in cnts]\n",
    "    revers=True\n",
    "    i=0\n",
    "    if mode == 'ascending':\n",
    "        revers=False\n",
    "    if mode =='decending':\n",
    "        i=1\n",
    "    (cnts,box)=zip(*sorted(zip(cnts,box),key= lambda b:b[1][i],reverse=revers))\n",
    "    return (cnts,box)"
   ]
  },
  {
   "cell_type": "code",
   "execution_count": null,
   "metadata": {},
   "outputs": [],
   "source": [
    "#sort(cnts,'ascending')"
   ]
  },
  {
   "cell_type": "code",
   "execution_count": null,
   "metadata": {},
   "outputs": [],
   "source": [
    "# for j in sort(cnts,'ascending'):\n",
    "#     print (j)"
   ]
  },
  {
   "cell_type": "code",
   "execution_count": null,
   "metadata": {},
   "outputs": [],
   "source": [
    "def txt(image,cnts,i):\n",
    "    m=cv2.moments(cnts)\n",
    "    x=np.int0(m[\"m10\"]/m[\"m00\"])\n",
    "    y=np.int0(m[\"m01\"]/m[\"m00\"])\n",
    "    \n",
    "    cv2.putText(image,\"{}\".format(i+1),(x,y-10),cv2.FONT_HERSHEY_SIMPLEX,1,(255,255,255),2)\n",
    "    return image\n",
    "    \n",
    "    "
   ]
  },
  {
   "cell_type": "code",
   "execution_count": null,
   "metadata": {},
   "outputs": [],
   "source": [
    "acc=np.zeros(gray.shape[:2],dtype='uint8')"
   ]
  },
  {
   "cell_type": "code",
   "execution_count": null,
   "metadata": {},
   "outputs": [],
   "source": [
    "c=cv2.split(image)\n",
    "print (len(c))\n",
    "for j,i in enumerate(cv2.split(image)):\n",
    "    print (j)\n",
    "    i=cv2.medianBlur(i,11)\n",
    "    edge=cv2.Canny(i,50,200)\n",
    "    acc=cv2.bitwise_or(acc,edge)\n",
    "    cv2.imshow(\"Edge Map\", acc)\n",
    "    cv2.waitKey(0)\n",
    "    \n",
    "\n",
    "\n",
    "cv2.destroyAllWindows()"
   ]
  },
  {
   "cell_type": "code",
   "execution_count": null,
   "metadata": {},
   "outputs": [],
   "source": [
    "cnts=cv2.findContours(acc.copy(),cv2.RETR_EXTERNAL,cv2.CHAIN_APPROX_SIMPLE)"
   ]
  },
  {
   "cell_type": "code",
   "execution_count": null,
   "metadata": {},
   "outputs": [],
   "source": [
    "cnts=cnts[0] if imutils.is_cv2() else cnts[1]"
   ]
  },
  {
   "cell_type": "code",
   "execution_count": null,
   "metadata": {},
   "outputs": [],
   "source": [
    "cnts=sorted(cnts, key=cv2.contourArea, reverse=True)[:5]"
   ]
  },
  {
   "cell_type": "code",
   "execution_count": null,
   "metadata": {},
   "outputs": [],
   "source": [
    "orgi=image.copy()"
   ]
  },
  {
   "cell_type": "code",
   "execution_count": null,
   "metadata": {},
   "outputs": [],
   "source": [
    "len(cnts)"
   ]
  },
  {
   "cell_type": "code",
   "execution_count": null,
   "metadata": {},
   "outputs": [],
   "source": [
    "for i,c in enumerate(cnts):\n",
    "    orgi=txt(orgi,c,i)\n",
    "cv2.imshow(\"Unsorted\", orgi)\n",
    "\n",
    "(cnts,box)=sort(cnts,'ascending')\n",
    "for i,c in enumerate(cnts):\n",
    "    txt(image,c,i)\n",
    "cv2.imshow(\"Sorted\", image)\n",
    "cv2.waitKey(0)\n",
    "cv2.destroyAllWindows()"
   ]
  },
  {
   "cell_type": "code",
   "execution_count": null,
   "metadata": {},
   "outputs": [],
   "source": [
    "cv2.destroyAllWindows()"
   ]
  },
  {
   "cell_type": "code",
   "execution_count": null,
   "metadata": {},
   "outputs": [],
   "source": []
  }
 ],
 "metadata": {
  "kernelspec": {
   "display_name": "Python 3",
   "language": "python",
   "name": "python3"
  },
  "language_info": {
   "codemirror_mode": {
    "name": "ipython",
    "version": 3
   },
   "file_extension": ".py",
   "mimetype": "text/x-python",
   "name": "python",
   "nbconvert_exporter": "python",
   "pygments_lexer": "ipython3",
   "version": "3.6.5"
  }
 },
 "nbformat": 4,
 "nbformat_minor": 2
}
