{
 "cells": [
  {
   "cell_type": "code",
   "execution_count": 1,
   "metadata": {},
   "outputs": [],
   "source": [
    "import numpy as np\n",
    "import cv2\n",
    "import imutils \n",
    "import os"
   ]
  },
  {
   "cell_type": "code",
   "execution_count": 2,
   "metadata": {},
   "outputs": [],
   "source": [
    "# link for hu moment concept https://www.learnopencv.com/shape-matching-using-hu-moments-c-python/\n",
    "# https://www.youtube.com/watch?v=AAbUfZD_09s"
   ]
  },
  {
   "cell_type": "code",
   "execution_count": 3,
   "metadata": {},
   "outputs": [
    {
     "data": {
      "text/plain": [
       "\"\\nmoments of distribution of a matter about a point in physics \\nin image processing is it defined as \\nsum of (XiYj)*(pixel at ij location) ## only for non zero pixel \\nif j,i=0 then moment =area (sum of number of non zero pixel )\\nif i,j=1,0 then moment = sum of value of X\\n\\nCentral moment :- moment is dependent on image orientation and it location \\nso to overcome this we use central moment\\ni.e we define (x-x') and y as (y-y')\\nwhere x' and y' is mean value of x and y \\nand can be calculate as x'=m10/m00 and y'=m01/m00  m00-->area      \""
      ]
     },
     "execution_count": 3,
     "metadata": {},
     "output_type": "execute_result"
    }
   ],
   "source": [
    "'''\n",
    "moments of distribution of a matter about a point in physics \n",
    "in image processing is it defined as \n",
    "sum of (XiYj)*(pixel at ij location) ## only for non zero pixel \n",
    "if j,i=0 then moment =area (sum of number of non zero pixel )\n",
    "if i,j=1,0 then moment = sum of value of X\n",
    "\n",
    "Central moment :- moment is dependent on image orientation and it location \n",
    "so to overcome this we use central moment\n",
    "i.e we define (x-x') and y as (y-y')\n",
    "where x' and y' is mean value of x and y \n",
    "and can be calculate as x'=m10/m00 and y'=m01/m00  m00-->area      '''"
   ]
  },
  {
   "cell_type": "code",
   "execution_count": 4,
   "metadata": {},
   "outputs": [],
   "source": [
    "# moments=cv2.HuMoments(cv2.moments(roi)).flatten()"
   ]
  },
  {
   "cell_type": "code",
   "execution_count": 5,
   "metadata": {},
   "outputs": [],
   "source": [
    "image=cv2.imread(r'C:\\Users\\arpit14276\\Desktop\\pyimagesearch\\humoments_planes.png')"
   ]
  },
  {
   "cell_type": "code",
   "execution_count": 6,
   "metadata": {},
   "outputs": [],
   "source": [
    "gray=cv2.cvtColor(image,cv2.COLOR_BGR2GRAY)"
   ]
  },
  {
   "cell_type": "code",
   "execution_count": 7,
   "metadata": {},
   "outputs": [],
   "source": [
    "moments=cv2.HuMoments(cv2.moments(gray)).flatten()"
   ]
  },
  {
   "cell_type": "code",
   "execution_count": 8,
   "metadata": {},
   "outputs": [
    {
     "data": {
      "text/plain": [
       "array([ 8.89880773e-03,  7.57204412e-05,  2.38651674e-08,  1.85900330e-08,\n",
       "        3.91558010e-16,  1.61708196e-10, -2.12085766e-18])"
      ]
     },
     "execution_count": 8,
     "metadata": {},
     "output_type": "execute_result"
    }
   ],
   "source": [
    "moments"
   ]
  },
  {
   "cell_type": "code",
   "execution_count": 9,
   "metadata": {},
   "outputs": [],
   "source": [
    "cnts=cv2.findContours(gray.copy(),cv2.RETR_EXTERNAL,cv2.CHAIN_APPROX_SIMPLE)"
   ]
  },
  {
   "cell_type": "code",
   "execution_count": 10,
   "metadata": {},
   "outputs": [],
   "source": [
    "cnts=cnts[0] if imutils.is_cv2() else cnts[1]"
   ]
  },
  {
   "cell_type": "code",
   "execution_count": 11,
   "metadata": {},
   "outputs": [
    {
     "name": "stdout",
     "output_type": "stream",
     "text": [
      "[2.00162991e-03 3.01754249e-06 3.08984971e-11 4.14364409e-11\n",
      " 4.97600769e-22 5.93897843e-14 1.39666817e-21]\n",
      "[ 1.80851599e-03  1.92184829e-06  5.41577862e-10  4.41334901e-11\n",
      "  5.46923123e-21 -2.19817014e-14 -4.07951523e-21]\n",
      "[1.18498670e-03 1.91160278e-07 5.89818694e-10 2.59586273e-14\n",
      " 8.63387433e-26 2.03739557e-18 5.35057510e-26]\n"
     ]
    }
   ],
   "source": [
    "for i,c in enumerate(cnts):\n",
    "    (x,y,w,h)=cv2.boundingRect(c)\n",
    "    roi=gray[y:y+h,x:x+w]\n",
    "    moments=cv2.HuMoments(cv2.moments(roi)).flatten()\n",
    "    print (moments)\n",
    "    cv2.imshow('ROI',roi)\n",
    "    cv2.waitKey(0)\n",
    "cv2.destroyAllWindows()"
   ]
  },
  {
   "cell_type": "code",
   "execution_count": null,
   "metadata": {},
   "outputs": [],
   "source": [
    "\n"
   ]
  },
  {
   "cell_type": "code",
   "execution_count": 14,
   "metadata": {},
   "outputs": [],
   "source": [
    "## quiz ####\n"
   ]
  },
  {
   "cell_type": "code",
   "execution_count": 12,
   "metadata": {},
   "outputs": [],
   "source": [
    "image=cv2.imread(r'C:\\Users\\arpit14276\\Desktop\\pyimagesearch\\shape_explosion.jpg')"
   ]
  },
  {
   "cell_type": "code",
   "execution_count": 13,
   "metadata": {},
   "outputs": [
    {
     "data": {
      "text/plain": [
       "array([ 7.75019852e-04,  7.50628927e-10,  8.83696759e-12,  4.52755495e-13,\n",
       "       -2.04522246e-25,  1.21627433e-17,  8.82226075e-25])"
      ]
     },
     "execution_count": 13,
     "metadata": {},
     "output_type": "execute_result"
    }
   ],
   "source": [
    "gray=cv2.cvtColor(image,cv2.COLOR_BGR2GRAY)\n",
    "moments=cv2.HuMoments(cv2.moments(gray)).flatten()\n",
    "moments"
   ]
  },
  {
   "cell_type": "code",
   "execution_count": null,
   "metadata": {},
   "outputs": [],
   "source": []
  },
  {
   "cell_type": "code",
   "execution_count": 14,
   "metadata": {},
   "outputs": [],
   "source": [
    "image=cv2.imread(r'C:\\Users\\arpit14276\\Desktop\\pyimagesearch\\more_shapes_example.png')"
   ]
  },
  {
   "cell_type": "code",
   "execution_count": 15,
   "metadata": {},
   "outputs": [
    {
     "name": "stdout",
     "output_type": "stream",
     "text": [
      "1.0\n",
      "[ 1.59168084e-01  4.93038066e-32  3.03884924e-30  5.13277163e-30\n",
      "  2.02641343e-59 -1.13773415e-45  5.40506544e-61]\n"
     ]
    }
   ],
   "source": [
    "gray=cv2.cvtColor(image,cv2.COLOR_BGR2GRAY)\n",
    "cnts=cv2.findContours(gray.copy(),cv2.RETR_EXTERNAL,cv2.CHAIN_APPROX_SIMPLE)\n",
    "cnts =cnts[0] if imutils.is_cv2() else cnts[1]\n",
    "for i in cnts:\n",
    "    (x,y,w,h)=cv2.boundingRect(i)\n",
    "    if  w/h <1.02:\n",
    "        print (w/h)\n",
    "        moments=cv2.HuMoments(cv2.moments(i)).flatten()\n",
    "        print (moments)"
   ]
  },
  {
   "cell_type": "code",
   "execution_count": null,
   "metadata": {},
   "outputs": [],
   "source": []
  },
  {
   "cell_type": "code",
   "execution_count": null,
   "metadata": {},
   "outputs": [],
   "source": []
  }
 ],
 "metadata": {
  "kernelspec": {
   "display_name": "Python 3",
   "language": "python",
   "name": "python3"
  },
  "language_info": {
   "codemirror_mode": {
    "name": "ipython",
    "version": 3
   },
   "file_extension": ".py",
   "mimetype": "text/x-python",
   "name": "python",
   "nbconvert_exporter": "python",
   "pygments_lexer": "ipython3",
   "version": "3.6.5"
  }
 },
 "nbformat": 4,
 "nbformat_minor": 2
}
