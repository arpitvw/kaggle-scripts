{
 "cells": [
  {
   "cell_type": "code",
   "execution_count": 1,
   "metadata": {},
   "outputs": [],
   "source": [
    "import cv2\n",
    "from imutils import paths\n",
    "import numpy as np\n",
    "import os\n",
    "from histogram_search.descriptors.labhistogram import LabHstogram\n",
    "from sklearn.cluster import KMeans\n"
   ]
  },
  {
   "cell_type": "code",
   "execution_count": 2,
   "metadata": {},
   "outputs": [
    {
     "data": {
      "text/plain": [
       "'\\n|--- pyimagesearch\\n|    |--- __init__.py\\n|    |--- descriptors\\n|    |    |---- __init__.py\\n|    |    |--- labhistogram.py\\n|--- cluster_histograms.py'"
      ]
     },
     "execution_count": 2,
     "metadata": {},
     "output_type": "execute_result"
    }
   ],
   "source": [
    "'''\n",
    "|--- pyimagesearch\n",
    "|    |--- __init__.py\n",
    "|    |--- descriptors\n",
    "|    |    |---- __init__.py\n",
    "|    |    |--- labhistogram.py\n",
    "|--- cluster_histograms.py'''"
   ]
  },
  {
   "cell_type": "code",
   "execution_count": 12,
   "metadata": {},
   "outputs": [
    {
     "name": "stdout",
     "output_type": "stream",
     "text": [
      "['C:\\\\Users\\\\arpit14276\\\\Desktop\\\\facerecognization\\\\horse\\\\Tarpan-myth-152.jpg'\n",
      " 'C:\\\\Users\\\\arpit14276\\\\Desktop\\\\facerecognization\\\\horse\\\\thA97DWJ4J.jpg'\n",
      " 'C:\\\\Users\\\\arpit14276\\\\Desktop\\\\facerecognization\\\\horse\\\\white-horse-training.jpg']\n",
      "['C:\\\\Users\\\\arpit14276\\\\Desktop\\\\facerecognization\\\\horse\\\\horse2.jpg'\n",
      " 'C:\\\\Users\\\\arpit14276\\\\Desktop\\\\facerecognization\\\\horse\\\\house.jpg'\n",
      " 'C:\\\\Users\\\\arpit14276\\\\Desktop\\\\facerecognization\\\\horse\\\\hqdefault.jpg'\n",
      " 'C:\\\\Users\\\\arpit14276\\\\Desktop\\\\facerecognization\\\\horse\\\\snail.jpg'\n",
      " 'C:\\\\Users\\\\arpit14276\\\\Desktop\\\\facerecognization\\\\horse\\\\udipi.jpg'\n",
      " 'C:\\\\Users\\\\arpit14276\\\\Desktop\\\\facerecognization\\\\horse\\\\wind.jpg']\n",
      "['C:\\\\Users\\\\arpit14276\\\\Desktop\\\\facerecognization\\\\horse\\\\John.jpg'\n",
      " 'C:\\\\Users\\\\arpit14276\\\\Desktop\\\\facerecognization\\\\horse\\\\block.jpg'\n",
      " 'C:\\\\Users\\\\arpit14276\\\\Desktop\\\\facerecognization\\\\horse\\\\buffalo.jpg'\n",
      " 'C:\\\\Users\\\\arpit14276\\\\Desktop\\\\facerecognization\\\\horse\\\\cat_free_wallpapers.jpg'\n",
      " 'C:\\\\Users\\\\arpit14276\\\\Desktop\\\\facerecognization\\\\horse\\\\cheng.jpg'\n",
      " 'C:\\\\Users\\\\arpit14276\\\\Desktop\\\\facerecognization\\\\horse\\\\complex.jpg'\n",
      " 'C:\\\\Users\\\\arpit14276\\\\Desktop\\\\facerecognization\\\\horse\\\\download.jpg'\n",
      " 'C:\\\\Users\\\\arpit14276\\\\Desktop\\\\facerecognization\\\\horse\\\\horse.jpg'\n",
      " 'C:\\\\Users\\\\arpit14276\\\\Desktop\\\\facerecognization\\\\horse\\\\images.png'\n",
      " 'C:\\\\Users\\\\arpit14276\\\\Desktop\\\\facerecognization\\\\horse\\\\test.png']\n"
     ]
    }
   ],
   "source": [
    "des=LabHstogram([8,8,8])\n",
    "data=[]\n",
    "imagepaths=list(paths.list_images(r'C:\\Users\\arpit14276\\Desktop\\facerecognization\\horse'))\n",
    "imagepaths = np.array(sorted(imagepaths))\n",
    "for imagepath in imagepaths:\n",
    "    image=cv2.imread(imagepath)\n",
    "    hist=des.describe(image)\n",
    "    data.append(hist)\n",
    "clt=KMeans(n_clusters=3)\n",
    "labels=clt.fit_predict(data)\n",
    "\n",
    "\n",
    "for label in np.unique(labels):\n",
    "    # grab all image paths that are assigned to the current label\n",
    "    print (imagepaths[np.where(labels == label)])\n",
    "    labelpaths = imagepaths[np.where(labels == label)]\n",
    " \n",
    "    # loop over the image paths that belong to the current label\n",
    "    for (i, path) in enumerate(labelpaths):\n",
    "            # load the image and display it\n",
    "            image = cv2.imread(path)\n",
    "            cv2.imshow(\"Cluster {}, Image #{}\".format(label + 1, i + 1), image)\n",
    "\n",
    "        # wait for a keypress and then close all open windows\n",
    "    cv2.waitKey(0)\n",
    "    cv2.destroyAllWindows()"
   ]
  },
  {
   "cell_type": "code",
   "execution_count": null,
   "metadata": {},
   "outputs": [],
   "source": []
  }
 ],
 "metadata": {
  "kernelspec": {
   "display_name": "Python 3",
   "language": "python",
   "name": "python3"
  },
  "language_info": {
   "codemirror_mode": {
    "name": "ipython",
    "version": 3
   },
   "file_extension": ".py",
   "mimetype": "text/x-python",
   "name": "python",
   "nbconvert_exporter": "python",
   "pygments_lexer": "ipython3",
   "version": "3.6.5"
  }
 },
 "nbformat": 4,
 "nbformat_minor": 2
}
