{
 "cells": [
  {
   "cell_type": "code",
   "execution_count": null,
   "metadata": {},
   "outputs": [],
   "source": [
    "# FAST algoritm \n",
    "#this algo we use for local key point detection"
   ]
  },
  {
   "cell_type": "code",
   "execution_count": null,
   "metadata": {},
   "outputs": [],
   "source": [
    "'''\n",
    "The general assumption behind the FAST keypoint detector is that,\n",
    "for a pixel to be considered a “corner”,\n",
    "there must be at least n contiguous pixels along a circular perimeter with radius r that are all either brighter or darker than the center pixel by a threshold t.\n",
    "In practice, it is common to select a radius of r=3 pixels,\n",
    "which corresponds to a circle of 16 pixels. It’s also common to choose n,\n",
    "the number of contiguous pixels, to be either n=9 or n=12.\n",
    "\n",
    "link : https://gurus.pyimagesearch.com/topic/fast/'''"
   ]
  },
  {
   "cell_type": "code",
   "execution_count": 10,
   "metadata": {},
   "outputs": [],
   "source": [
    "import cv2\n",
    "import imutils\n",
    "import numpy as np\n",
    "from skimage.transform import rescale, resize, downscale_local_mean\n",
    "import skimage.io"
   ]
  },
  {
   "cell_type": "code",
   "execution_count": 50,
   "metadata": {},
   "outputs": [
    {
     "name": "stdout",
     "output_type": "stream",
     "text": [
      "(400, 600, 3)\n",
      "(400, 600, 3)\n"
     ]
    }
   ],
   "source": [
    "image=cv2.imread(r'C:\\Users\\arpit14276\\Desktop\\pyimagesearch\\grand_central_terminal.png')\n",
    "# image = skimage.io.imread(r'C:\\Users\\arpit14276\\Desktop\\pyimagesearch\\gokarana.jpg')\n",
    "print (image.shape)\n",
    "#image=resize(image, (500,500,3))\n",
    "#image=np.array(image, dtype=np.uint8)\n",
    "print (image.shape)\n",
    "cv2.imshow('resize',image)\n",
    "cv2.waitKey()\n",
    "cv2.destroyAllWindows()"
   ]
  },
  {
   "cell_type": "code",
   "execution_count": 51,
   "metadata": {},
   "outputs": [],
   "source": [
    "orig=image.copy()\n",
    "\n",
    "gray=cv2.cvtColor(image,cv2.COLOR_BGR2GRAY)"
   ]
  },
  {
   "cell_type": "code",
   "execution_count": 52,
   "metadata": {},
   "outputs": [],
   "source": [
    "fast=cv2.FastFeatureDetector_create()\n",
    "kps=fast.detect(gray,None)\n",
    "\n",
    "#print (len(kps))\n",
    "for i in kps:\n",
    "    r= int(0.5*i.size)\n",
    "    (x,y)=np.int0(i.pt)\n",
    "    cv2.circle(image,(x,y),r,(0,0,255),2)\n",
    "cv2.imshow('Images',image)\n",
    "cv2.waitKey()\n",
    "cv2.destroyAllWindows()\n"
   ]
  },
  {
   "cell_type": "code",
   "execution_count": 53,
   "metadata": {},
   "outputs": [
    {
     "data": {
      "text/plain": [
       "8622"
      ]
     },
     "execution_count": 53,
     "metadata": {},
     "output_type": "execute_result"
    }
   ],
   "source": []
  },
  {
   "cell_type": "code",
   "execution_count": null,
   "metadata": {},
   "outputs": [],
   "source": []
  },
  {
   "cell_type": "code",
   "execution_count": null,
   "metadata": {},
   "outputs": [],
   "source": []
  }
 ],
 "metadata": {
  "kernelspec": {
   "display_name": "Python 3",
   "language": "python",
   "name": "python3"
  },
  "language_info": {
   "codemirror_mode": {
    "name": "ipython",
    "version": 3
   },
   "file_extension": ".py",
   "mimetype": "text/x-python",
   "name": "python",
   "nbconvert_exporter": "python",
   "pygments_lexer": "ipython3",
   "version": "3.6.5"
  }
 },
 "nbformat": 4,
 "nbformat_minor": 2
}
