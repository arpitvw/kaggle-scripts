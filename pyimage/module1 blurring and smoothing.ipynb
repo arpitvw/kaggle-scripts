{
 "cells": [
  {
   "cell_type": "code",
   "execution_count": 1,
   "metadata": {},
   "outputs": [],
   "source": [
    "import cv2 \n",
    "import numpy as np"
   ]
  },
  {
   "cell_type": "code",
   "execution_count": 22,
   "metadata": {},
   "outputs": [],
   "source": [
    "i=cv2.imread(r'C:\\Users\\arpit14276\\Desktop\\pyimagesearch\\splitting_and_merging\\florida_trip_small.png')"
   ]
  },
  {
   "cell_type": "code",
   "execution_count": 23,
   "metadata": {},
   "outputs": [],
   "source": [
    "kernelsize=[(3,3),(5,5)]"
   ]
  },
  {
   "cell_type": "code",
   "execution_count": 24,
   "metadata": {},
   "outputs": [],
   "source": [
    "kernelsize=[(3,3),(5,5)]\n",
    "for (j,k) in kernelsize:\n",
    "    blurred=cv2.blur(i,(j,k))\n",
    "    cv2.imshow('blurred {}'.format(j),blurred)\n",
    "    cv2.waitKey(0)"
   ]
  },
  {
   "cell_type": "code",
   "execution_count": null,
   "metadata": {},
   "outputs": [],
   "source": []
  },
  {
   "cell_type": "code",
   "execution_count": 25,
   "metadata": {},
   "outputs": [],
   "source": [
    "## Gaussianblur (in this we give high weights to near points and low to far points ) on the basis of gaussian equation \n",
    "# G(x) = {1}\\(sqrt{2\\pi\\sigma^{2}})e^{-{x^{2}+y^{2}}{2\\sigma^{2}}}"
   ]
  },
  {
   "cell_type": "code",
   "execution_count": 26,
   "metadata": {},
   "outputs": [],
   "source": [
    "kernelsize=[(3,3),(5,5)]\n",
    "for (j,k) in kernelsize:\n",
    "    blurred=cv2.GaussianBlur(i,(j,k),0)\n",
    "    cv2.imshow('blurred {}'.format(j),blurred)\n",
    "    cv2.waitKey(0)"
   ]
  },
  {
   "cell_type": "code",
   "execution_count": null,
   "metadata": {},
   "outputs": [],
   "source": []
  },
  {
   "cell_type": "code",
   "execution_count": 20,
   "metadata": {},
   "outputs": [],
   "source": [
    "## Median blur (use to remove salt and pepper )\n",
    "#kernel shape should be square and we will replace central pixel with median value of neighborhood\n"
   ]
  },
  {
   "cell_type": "code",
   "execution_count": 27,
   "metadata": {},
   "outputs": [],
   "source": [
    "for j in (3,5,7):\n",
    "    blurred=cv2.medianBlur(i,j)\n",
    "    cv2.imshow('median',blurred)\n",
    "    cv2.waitKey(0)"
   ]
  },
  {
   "cell_type": "code",
   "execution_count": 28,
   "metadata": {},
   "outputs": [],
   "source": [
    "cv2.destroyAllWindows()"
   ]
  },
  {
   "cell_type": "code",
   "execution_count": null,
   "metadata": {},
   "outputs": [],
   "source": []
  },
  {
   "cell_type": "code",
   "execution_count": 29,
   "metadata": {},
   "outputs": [],
   "source": [
    "### Bilateral blur(its type of gaussian blur , but slower than all the above )\n",
    "'''The first parameter we supply is the image we want to blur.\n",
    "Then, we need to define the diameter of our pixel neighborhood — the larger this diameter is, \n",
    "the more pixels will be included in the blurring computation.'''"
   ]
  },
  {
   "cell_type": "code",
   "execution_count": 32,
   "metadata": {},
   "outputs": [],
   "source": [
    "params=[(11,21,7),(11,41,21),(11,61,39)]\n",
    "for x,y,z in params:\n",
    "    bilateral=cv2.bilateralFilter(i,x,y,z)\n",
    "    cv2.imshow('bilateral',bilateral)\n",
    "    cv2.waitKey(0)\n",
    "    "
   ]
  },
  {
   "cell_type": "code",
   "execution_count": null,
   "metadata": {},
   "outputs": [],
   "source": []
  }
 ],
 "metadata": {
  "kernelspec": {
   "display_name": "Python 3",
   "language": "python",
   "name": "python3"
  },
  "language_info": {
   "codemirror_mode": {
    "name": "ipython",
    "version": 3
   },
   "file_extension": ".py",
   "mimetype": "text/x-python",
   "name": "python",
   "nbconvert_exporter": "python",
   "pygments_lexer": "ipython3",
   "version": "3.6.5"
  }
 },
 "nbformat": 4,
 "nbformat_minor": 2
}
