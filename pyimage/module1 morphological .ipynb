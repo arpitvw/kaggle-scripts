{
 "cells": [
  {
   "cell_type": "code",
   "execution_count": 2,
   "metadata": {},
   "outputs": [],
   "source": [
    "import cv2\n",
    "import numpy as np"
   ]
  },
  {
   "cell_type": "code",
   "execution_count": null,
   "metadata": {},
   "outputs": [],
   "source": [
    "'''morphological means we apply morphological operations to shapes and structures inside of images.\n",
    "We can use morphological operations to increase the size of objects in images as well as decrease them. \n",
    "We can also utilize morphological operations to close gaps between objects as well as open them'''"
   ]
  },
  {
   "cell_type": "code",
   "execution_count": 1,
   "metadata": {},
   "outputs": [
    {
     "data": {
      "text/plain": [
       "'When a structuring element is placed in a binary image, \\neach of its pixels is associated with the corresponding pixel of the neighbourhood under the structuring element. \\nThe structuring element is said to fit the image if, for each of its pixels set to 1, the corresponding image pixel is also 1.\\nSimilarly, a structuring element is said to hit, or intersect, an image if,\\nat least for one of its pixels set to 1 the corresponding image pixel is also 1.\\n\\nlink : https://www.cs.auckland.ac.nz/courses/compsci773s1c/lectures/ImageProcessing-html/topic4.htm'"
      ]
     },
     "execution_count": 1,
     "metadata": {},
     "output_type": "execute_result"
    }
   ],
   "source": [
    "# morphological operations uses \"structuring elements\" \n",
    "'''When a structuring element is placed in a binary image, \n",
    "each of its pixels is associated with the corresponding pixel of the neighbourhood under the structuring element. \n",
    "The structuring element is said to fit the image if, for each of its pixels set to 1, the corresponding image pixel is also 1.\n",
    "Similarly, a structuring element is said to hit, or intersect, an image if,\n",
    "at least for one of its pixels set to 1 the corresponding image pixel is also 1.\n",
    "\n",
    "link : https://www.cs.auckland.ac.nz/courses/compsci773s1c/lectures/ImageProcessing-html/topic4.htm'''"
   ]
  },
  {
   "cell_type": "code",
   "execution_count": null,
   "metadata": {},
   "outputs": [],
   "source": [
    "#erosion (increases the distance , we need a perfect match then only we place 1 else 0)\n",
    "#black increases, white decreases\n",
    "'''for matching 3 cases will generate with structing matrix\n",
    "case 1: all elements matches in window -->1\n",
    "case2: some elements matches in window -->0\n",
    "case3: No elements matches in window  --> 0'''"
   ]
  },
  {
   "cell_type": "code",
   "execution_count": null,
   "metadata": {},
   "outputs": [],
   "source": [
    "#A foreground pixel in the input image will be kept only if ALL pixels inside the structuring element are > 0. \n",
    "#Otherwise, the pixels are set to 0 (i.e. background)."
   ]
  },
  {
   "cell_type": "code",
   "execution_count": 14,
   "metadata": {},
   "outputs": [],
   "source": [
    "#i=cv2.imread(r'C:\\Users\\arpit14276\\Desktop\\pyimagesearch\\splitting_and_merging\\florida_trip_small.png')\n",
    "i=cv2.imread(r'C:\\Users\\arpit14276\\Desktop\\facerecognization\\horse\\hqdefault.jpg')"
   ]
  },
  {
   "cell_type": "code",
   "execution_count": 15,
   "metadata": {},
   "outputs": [],
   "source": [
    "gray=cv2.cvtColor(i,cv2.COLOR_BGR2GRAY)"
   ]
  },
  {
   "cell_type": "code",
   "execution_count": 8,
   "metadata": {},
   "outputs": [],
   "source": [
    "#apply series of erosions\n",
    "s=np.ones((3,3))\n",
    "s[1][0]=1\n",
    "for j in range(0,3):\n",
    "    eroded=cv2.erode(gray.copy(),s,iterations =j+1)\n",
    "    cv2.imshow('eroded',eroded)\n",
    "    cv2.waitKey(0)\n",
    "    cv2.destroyAllWindows()\n"
   ]
  },
  {
   "cell_type": "code",
   "execution_count": null,
   "metadata": {},
   "outputs": [],
   "source": [
    "cv2.destroyAllWindows()"
   ]
  },
  {
   "cell_type": "code",
   "execution_count": null,
   "metadata": {},
   "outputs": [],
   "source": []
  },
  {
   "cell_type": "code",
   "execution_count": null,
   "metadata": {},
   "outputs": [],
   "source": [
    "# DIlation (opposite of erosion , use for decrease the distance ) \"it blur the image\"\n",
    "'''#if anything ia matching we need to update 0 as 1 ,  if nothing is matching we need to update value as 0\n",
    "for matching 3 cases will generate with structing matrix\n",
    "case 1: all elements matches in window -->1\n",
    "case2: some elements matches in window -->1\n",
    "case3: No elements matches in window  --> 0'''\n",
    "#black decreases, white increases\n",
    "#image size remains same"
   ]
  },
  {
   "cell_type": "code",
   "execution_count": 9,
   "metadata": {},
   "outputs": [],
   "source": [
    "for j in range(0,3):\n",
    "    dil=cv2.dilate(gray.copy(),None,iterations=j+1)\n",
    "    cv2.imshow('dilate',dil)\n",
    "    cv2.waitKey(0)\n",
    "    cv2.destroyAllWindows()"
   ]
  },
  {
   "cell_type": "code",
   "execution_count": null,
   "metadata": {},
   "outputs": [],
   "source": [
    "cv2.destroyAllWindows()"
   ]
  },
  {
   "cell_type": "code",
   "execution_count": null,
   "metadata": {},
   "outputs": [],
   "source": []
  },
  {
   "cell_type": "code",
   "execution_count": null,
   "metadata": {},
   "outputs": [],
   "source": [
    "## Opening (erosion followed by dilation)\n",
    "# https://www.youtube.com/watch?v=P8JRZ4t7EOI&pbjreload=10"
   ]
  },
  {
   "cell_type": "code",
   "execution_count": 5,
   "metadata": {},
   "outputs": [],
   "source": [
    "kernelsizes=[(3,3),(5,5),(7,7)]"
   ]
  },
  {
   "cell_type": "code",
   "execution_count": 22,
   "metadata": {},
   "outputs": [],
   "source": [
    "for k in kernelsizes:\n",
    "    kernel=cv2.getStructuringElement(cv2.MORPH_RECT,k)\n",
    "    opening=cv2.morphologyEx(gray,cv2.MORPH_OPEN,kernel)\n",
    "    cv2.imshow('open',opening)\n",
    "    cv2.waitKey(0)"
   ]
  },
  {
   "cell_type": "code",
   "execution_count": 23,
   "metadata": {},
   "outputs": [],
   "source": [
    "cv2.destroyAllWindows()"
   ]
  },
  {
   "cell_type": "code",
   "execution_count": null,
   "metadata": {},
   "outputs": [],
   "source": [
    "## MOrphological gradient (use for detecting edges )"
   ]
  },
  {
   "cell_type": "code",
   "execution_count": null,
   "metadata": {},
   "outputs": [],
   "source": [
    "for j in kernelsizes:\n",
    "    kernel=cv2.getStructuringElement(cv2.MORPH_ELLIPSE,k)\n",
    "    grad=cv2.morphologyEx(gray,cv2.MORPH_GRADIENT,kernel)\n",
    "    cv2.imshow(\"Gradient: ({}, {})\".format(kernelSize[0], kernelSize[1]),grad)\n",
    "    cv2.waitKey(0)"
   ]
  },
  {
   "cell_type": "code",
   "execution_count": 21,
   "metadata": {},
   "outputs": [],
   "source": [
    "cv2.destroyAllWindows()"
   ]
  },
  {
   "cell_type": "code",
   "execution_count": null,
   "metadata": {},
   "outputs": [],
   "source": []
  },
  {
   "cell_type": "code",
   "execution_count": null,
   "metadata": {},
   "outputs": [],
   "source": [
    "## Top Hat/White Hat (difference between the original input image and the opening.)\n",
    "# A top hat operation is used to reveal bright regions of an image on dark backgrounds.\n",
    "# opening give more wihte comapre to black , so when we take differene between origianl and opening we will get \n",
    "# all the points where black changed to white \n",
    "# https://www.youtube.com/watch?v=IyCxSCKCEg0"
   ]
  },
  {
   "cell_type": "code",
   "execution_count": 20,
   "metadata": {},
   "outputs": [
    {
     "data": {
      "text/plain": [
       "48"
      ]
     },
     "execution_count": 20,
     "metadata": {},
     "output_type": "execute_result"
    }
   ],
   "source": [
    "rectkernel=cv2.getStructuringElement(cv2.MORPH_CROSS,(13,5))\n",
    "tophat=cv2.morphologyEx(gray,cv2.MORPH_TOPHAT, rectkernel)\n",
    "cv2.imshow(\"Tophat\", tophat)\n",
    "cv2.waitKey(0)"
   ]
  },
  {
   "cell_type": "code",
   "execution_count": 12,
   "metadata": {},
   "outputs": [
    {
     "data": {
      "text/plain": [
       "48"
      ]
     },
     "execution_count": 12,
     "metadata": {},
     "output_type": "execute_result"
    }
   ],
   "source": [
    "rectkernel=cv2.getStructuringElement(cv2.MORPH_RECT,(13,5))\n",
    "blackhat=cv2.morphologyEx(gray,cv2.MORPH_BLACKHAT, rectkernel)\n",
    "cv2.imshow(\"blackhat\", blackhat)\n",
    "cv2.waitKey(0)"
   ]
  },
  {
   "cell_type": "code",
   "execution_count": null,
   "metadata": {},
   "outputs": [],
   "source": []
  }
 ],
 "metadata": {
  "kernelspec": {
   "display_name": "Python 3",
   "language": "python",
   "name": "python3"
  },
  "language_info": {
   "codemirror_mode": {
    "name": "ipython",
    "version": 3
   },
   "file_extension": ".py",
   "mimetype": "text/x-python",
   "name": "python",
   "nbconvert_exporter": "python",
   "pygments_lexer": "ipython3",
   "version": "3.6.5"
  }
 },
 "nbformat": 4,
 "nbformat_minor": 2
}
