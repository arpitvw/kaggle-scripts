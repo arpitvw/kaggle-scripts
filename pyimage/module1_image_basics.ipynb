{
 "cells": [
  {
   "cell_type": "code",
   "execution_count": 2,
   "metadata": {},
   "outputs": [],
   "source": [
    "import cv2\n",
    "import numpy as np"
   ]
  },
  {
   "cell_type": "markdown",
   "metadata": {},
   "source": [
    "### Translational  (chnage of cordinates )"
   ]
  },
  {
   "cell_type": "code",
   "execution_count": 2,
   "metadata": {},
   "outputs": [],
   "source": [
    "# NOTE: Translating (shifting) an image is given by a NumPy matrix in\n",
    "# the form:\n",
    "#\t[[1, 0, shiftX], [0, 1, shiftY]]\n",
    "# You simply need to specify how many pixels you want to shift the image\n",
    "# in the X and Y direction -- let's translate the image 25 pixels to the\n",
    "# right and 50 pixels down\n",
    "\n",
    "#NOTE:  right shift is +x , down shift is +ve y"
   ]
  },
  {
   "cell_type": "code",
   "execution_count": 4,
   "metadata": {},
   "outputs": [],
   "source": [
    "i=cv2.imread(r'C:\\Users\\arpit14276\\Desktop\\pyimagesearch\\splitting_and_merging\\florida_trip_small.png')"
   ]
  },
  {
   "cell_type": "code",
   "execution_count": null,
   "metadata": {},
   "outputs": [],
   "source": [
    "## from cv2 library \n",
    "M = np.float32([[1, 0, 25], [0, 1, 50]])\n",
    "shifted = cv2.warpAffine(x, M, (x.shape[1], x.shape[0]))\n",
    "cv2.imshow(\"Shifted Down and Right\", shifted)\n",
    "cv2.waitKey(0)"
   ]
  },
  {
   "cell_type": "code",
   "execution_count": 4,
   "metadata": {},
   "outputs": [],
   "source": [
    "## manually created Translational function \n",
    "def shift(image,x_shift,y_shift):\n",
    "    x=image.shape[1]\n",
    "    y=image.shape[0]\n",
    "    black=np.zeros((y,x,3),dtype='uint8')\n",
    "    print (x_shift,y_shift)\n",
    "    if x_shift>0 and y_shift<0:\n",
    "        print (1)\n",
    "        black[abs(y_shift):,x_shift:]=image[0:y+y_shift,0:x-x_shift]\n",
    "    elif x_shift<0 and y_shift<0:\n",
    "        print (2)\n",
    "        black[abs(y_shift):,0:x+x_shift]=image[0:y+y_shift,abs(x_shift):]\n",
    "    elif x_shift<0 and y_shift>0:\n",
    "        print (3)\n",
    "        black[:y-y_shift,:x+x_shift]=image[y_shift:,0:x+x_shift]\n",
    "    elif x_shift>0 and y_shift>0: \n",
    "        print (4)\n",
    "        black[:y-y_shift,x_shift:]=image[y_shift:,0:x-x_shift]\n",
    "    else :\n",
    "        print (5)\n",
    "    cv2.imshow('shift',black)\n",
    "    cv2.waitKey(0)\n",
    "    return black\n",
    "   \n",
    "    \n",
    "        "
   ]
  },
  {
   "cell_type": "code",
   "execution_count": 5,
   "metadata": {},
   "outputs": [
    {
     "name": "stdout",
     "output_type": "stream",
     "text": [
      "25 50\n",
      "4\n"
     ]
    }
   ],
   "source": [
    "t=shift(i,25,50)\n"
   ]
  },
  {
   "cell_type": "code",
   "execution_count": null,
   "metadata": {},
   "outputs": [],
   "source": [
    "### rotation\n"
   ]
  },
  {
   "cell_type": "code",
   "execution_count": null,
   "metadata": {},
   "outputs": [],
   "source": [
    "(h,w)=i.shape[:2]"
   ]
  },
  {
   "cell_type": "code",
   "execution_count": null,
   "metadata": {},
   "outputs": [],
   "source": [
    "(h,w)=i.shape[:2](cw,ch)=(w/2,h/2)"
   ]
  },
  {
   "cell_type": "code",
   "execution_count": null,
   "metadata": {},
   "outputs": [],
   "source": [
    "M=cv2.getRotationMatrix2D((cw -50,ch-50),45,1)"
   ]
  },
  {
   "cell_type": "code",
   "execution_count": null,
   "metadata": {},
   "outputs": [],
   "source": [
    "r=cv2.warpAffine(i,M,(w,h))\n",
    "cv2.imshow('rotate by 45*',r)\n",
    "cv2.waitKey(0)"
   ]
  },
  {
   "cell_type": "code",
   "execution_count": 16,
   "metadata": {},
   "outputs": [
    {
     "data": {
      "text/plain": [
       "array([128, 131, 170], dtype=uint8)"
      ]
     },
     "execution_count": 16,
     "metadata": {},
     "output_type": "execute_result"
    }
   ],
   "source": [
    "(h, w) = i.shape[:2]\n",
    "(cw, ch) = (w / 2, h / 2)\n",
    " \n",
    "# rotate our image by 45 degrees\n",
    "M = cv2.getRotationMatrix2D((cw, ch), 110, 1.0)\n",
    "rotated = cv2.warpAffine(i, M, (w, h))\n",
    "#cv2.imshow(\"Rotated by 45 Degrees\", rotated)\n",
    "#cv2.waitKey(0)\n",
    "rotated[136,312]"
   ]
  },
  {
   "cell_type": "code",
   "execution_count": 4,
   "metadata": {},
   "outputs": [],
   "source": [
    "import math\n",
    "def rotate(i,angle):\n",
    "    \n",
    "    x=i.shape[1]\n",
    "    y=i.shape[0]\n",
    "    black=np.zeros((y,x,3),dtype='uint8')\n",
    "    angle=angle*(22/7*180)\n",
    "    rotation=[]\n",
    "    for k in range(x):\n",
    "        for j in range(y):\n",
    "            rotation=[round(k*math.cos(angle)-j*math.sin(angle)),round(k*math.sin(angle)+j*math.cos(angle))]\n",
    "            #print (rotation)\n",
    "            if rotation[0]==0 or rotation[1]==0:\n",
    "                rotation[0]=0\n",
    "                rotation[1]=0\n",
    "           \n",
    "            try:\n",
    "                \n",
    "                black[rotation]=i[k,j]\n",
    "            except:\n",
    "                pass\n",
    "    cv2.imshow('ro',black)\n",
    "    cv2.waitKey(0)\n",
    "    return black"
   ]
  },
  {
   "cell_type": "code",
   "execution_count": 8,
   "metadata": {
    "collapsed": true
   },
   "outputs": [
    {
     "data": {
      "text/plain": [
       "array([[[  9,  49,  33],\n",
       "        [  9,  49,  33],\n",
       "        [  9,  49,  33],\n",
       "        ...,\n",
       "        [  9,  49,  33],\n",
       "        [  9,  49,  33],\n",
       "        [  9,  49,  33]],\n",
       "\n",
       "       [[  4,  16,  10],\n",
       "        [  4,  16,  10],\n",
       "        [  4,  16,  10],\n",
       "        ...,\n",
       "        [  4,  16,  10],\n",
       "        [  4,  16,  10],\n",
       "        [  4,  16,  10]],\n",
       "\n",
       "       [[  5,  17,   9],\n",
       "        [  5,  17,   9],\n",
       "        [  5,  17,   9],\n",
       "        ...,\n",
       "        [  5,  17,   9],\n",
       "        [  5,  17,   9],\n",
       "        [  5,  17,   9]],\n",
       "\n",
       "       ...,\n",
       "\n",
       "       [[159, 149, 175],\n",
       "        [159, 149, 175],\n",
       "        [159, 149, 175],\n",
       "        ...,\n",
       "        [159, 149, 175],\n",
       "        [159, 149, 175],\n",
       "        [159, 149, 175]],\n",
       "\n",
       "       [[120, 104, 128],\n",
       "        [120, 104, 128],\n",
       "        [120, 104, 128],\n",
       "        ...,\n",
       "        [120, 104, 128],\n",
       "        [120, 104, 128],\n",
       "        [120, 104, 128]],\n",
       "\n",
       "       [[177, 166, 135],\n",
       "        [177, 166, 135],\n",
       "        [177, 166, 135],\n",
       "        ...,\n",
       "        [177, 166, 135],\n",
       "        [177, 166, 135],\n",
       "        [177, 166, 135]]], dtype=uint8)"
      ]
     },
     "execution_count": 8,
     "metadata": {},
     "output_type": "execute_result"
    }
   ],
   "source": [
    "rotate(i,45)"
   ]
  },
  {
   "cell_type": "code",
   "execution_count": null,
   "metadata": {},
   "outputs": [],
   "source": [
    "### Resize (interpolation )\n",
    "# we need to keep in mind aspect ratio so the image does not look skewed\n",
    "# or distorted -- therefore, we calculate the ratio of the new image to\n",
    "# the old image."
   ]
  },
  {
   "cell_type": "code",
   "execution_count": null,
   "metadata": {},
   "outputs": [],
   "source": [
    "#aspect ration =width /height of an image\n",
    "# width=image.shape[1]--> columns\n",
    "# height=image.shape[0]==> rows\n",
    "#while resizing the image aspect ration must be preserved \n",
    "# if we want to increase the width by 150 , so new height =[150/old height(image.shae[1])]old width(image.shape[0])\n",
    "# interpolation methods available in cv2 , INTER_AREA,INTER_LINEAR,INTER_NEAREST,INTER_CUBIC,INTER_LANCZ0S4"
   ]
  },
  {
   "cell_type": "code",
   "execution_count": 33,
   "metadata": {},
   "outputs": [],
   "source": [
    "r=600/i.shape[1]"
   ]
  },
  {
   "cell_type": "code",
   "execution_count": 40,
   "metadata": {},
   "outputs": [],
   "source": [
    "new_dim=(600,int(r*i.shape[0]))"
   ]
  },
  {
   "cell_type": "code",
   "execution_count": 41,
   "metadata": {},
   "outputs": [],
   "source": [
    "resized=cv2.resize(i,new_dim,interpolation=cv2.INTER_CUBIC)\n",
    "#cv2.imshow('resized',resized)\n",
    "#cv2.waitKey(0)"
   ]
  },
  {
   "cell_type": "code",
   "execution_count": 42,
   "metadata": {},
   "outputs": [
    {
     "data": {
      "text/plain": [
       "array([27, 22, 21], dtype=uint8)"
      ]
     },
     "execution_count": 42,
     "metadata": {},
     "output_type": "execute_result"
    }
   ],
   "source": [
    "resized[367,170]"
   ]
  },
  {
   "cell_type": "code",
   "execution_count": 27,
   "metadata": {},
   "outputs": [
    {
     "data": {
      "text/plain": [
       "(450, 600, 3)"
      ]
     },
     "execution_count": 27,
     "metadata": {},
     "output_type": "execute_result"
    }
   ],
   "source": [
    "i.shape"
   ]
  },
  {
   "cell_type": "code",
   "execution_count": null,
   "metadata": {},
   "outputs": [],
   "source": []
  },
  {
   "cell_type": "code",
   "execution_count": 43,
   "metadata": {},
   "outputs": [],
   "source": [
    "######## FLIPPING ############## i.e mirror image"
   ]
  },
  {
   "cell_type": "code",
   "execution_count": 56,
   "metadata": {},
   "outputs": [
    {
     "data": {
      "text/plain": [
       "48"
      ]
     },
     "execution_count": 56,
     "metadata": {},
     "output_type": "execute_result"
    }
   ],
   "source": [
    "#1 for horizontal , 0 or vertical , -1 for both\n",
    "flipped=cv2.flip(i,1)\n",
    "\n",
    "cv2.imshow('flipped',flipped)\n",
    "cv2.waitKey(0)\n"
   ]
  },
  {
   "cell_type": "code",
   "execution_count": 58,
   "metadata": {},
   "outputs": [],
   "source": [
    "## flipped then rotatelipped=cv2.flip(i,1)\n",
    "flipped=cv2.flip(i,1)\n",
    "(h,w)=flipped.shape[:2]\n",
    "(cw,ch)=(w/2,h/2)\n",
    "M=cv2.getRotationMatrix2D((cw,ch),45,1)\n",
    "r=cv2.warpAffine(flipped,M,(w,h))\n",
    "cv2.imshow('rotate by 45*',r)\n",
    "cv2.waitKey(0)"
   ]
  },
  {
   "cell_type": "code",
   "execution_count": 52,
   "metadata": {},
   "outputs": [
    {
     "data": {
      "text/plain": [
       "array([183, 186, 177], dtype=uint8)"
      ]
     },
     "execution_count": 52,
     "metadata": {},
     "output_type": "execute_result"
    }
   ],
   "source": [
    "flipped[259,235]"
   ]
  },
  {
   "cell_type": "code",
   "execution_count": 60,
   "metadata": {},
   "outputs": [],
   "source": [
    "###### CROPPING"
   ]
  },
  {
   "cell_type": "code",
   "execution_count": 61,
   "metadata": {},
   "outputs": [],
   "source": [
    "# Generally e use this when we want to extract region of interest from the give image (ROI)\n",
    "# crop the area which is ROI and print it , we canuse it in machine learning "
   ]
  },
  {
   "cell_type": "code",
   "execution_count": 68,
   "metadata": {},
   "outputs": [
    {
     "data": {
      "text/plain": [
       "48"
      ]
     },
     "execution_count": 68,
     "metadata": {},
     "output_type": "execute_result"
    }
   ],
   "source": [
    "cv2.imshow('test',i[90:450, 0:290])\n",
    "cv2.waitKey(0)"
   ]
  },
  {
   "cell_type": "code",
   "execution_count": null,
   "metadata": {},
   "outputs": [],
   "source": []
  },
  {
   "cell_type": "code",
   "execution_count": 69,
   "metadata": {},
   "outputs": [],
   "source": [
    "### IMAGE Airthmetic ###"
   ]
  },
  {
   "cell_type": "code",
   "execution_count": 70,
   "metadata": {},
   "outputs": [
    {
     "data": {
      "text/plain": [
       "'addition and subtraction of an image is same as add and subtraction operation of an matrix , only difference is pixel value only ranges between 0-255\\nso when ever we add two images we need to clip it to neareast value  either 0 or 255'"
      ]
     },
     "execution_count": 70,
     "metadata": {},
     "output_type": "execute_result"
    }
   ],
   "source": [
    "'''addition and subtraction of an image is same as add and subtraction operation of an matrix , only difference is pixel value only ranges between 0-255\n",
    "so when ever we add two images we need to clip it to neareast value  either 0 or 255\n",
    "when we add uint8 values and if it exceed from 255 then in numpy  we clip it on the basis of modulus function \n",
    "255+10=265 , after operation 265%255= 10'''"
   ]
  },
  {
   "cell_type": "code",
   "execution_count": 72,
   "metadata": {},
   "outputs": [
    {
     "data": {
      "text/plain": [
       "(1,)"
      ]
     },
     "execution_count": 72,
     "metadata": {},
     "output_type": "execute_result"
    }
   ],
   "source": [
    "np.uint8([200]).shape"
   ]
  },
  {
   "cell_type": "code",
   "execution_count": 77,
   "metadata": {},
   "outputs": [],
   "source": [
    "m=np.ones(i.shape,dtype='uint8')*100"
   ]
  },
  {
   "cell_type": "code",
   "execution_count": 78,
   "metadata": {},
   "outputs": [
    {
     "data": {
      "text/plain": [
       "111"
      ]
     },
     "execution_count": 78,
     "metadata": {},
     "output_type": "execute_result"
    }
   ],
   "source": [
    "sub=cv2.subtract(i,m) #for addition cv2.add()\n",
    "cv2.imshow('subtract:',sub)\n",
    "cv2.waitKey(0)"
   ]
  },
  {
   "cell_type": "code",
   "execution_count": 86,
   "metadata": {},
   "outputs": [
    {
     "data": {
      "text/plain": [
       "5"
      ]
     },
     "execution_count": 86,
     "metadata": {},
     "output_type": "execute_result"
    }
   ],
   "source": [
    "-250%255"
   ]
  },
  {
   "cell_type": "code",
   "execution_count": 88,
   "metadata": {},
   "outputs": [],
   "source": [
    "#### BITwise operations #############\n",
    "# and or zor not\n",
    "# generally use when ROI is not rectangular or circle (polygon,etc etc)"
   ]
  },
  {
   "cell_type": "code",
   "execution_count": 3,
   "metadata": {},
   "outputs": [],
   "source": [
    "rect=np.zeros((300,300),dtype='uint8')"
   ]
  },
  {
   "cell_type": "code",
   "execution_count": 5,
   "metadata": {},
   "outputs": [
    {
     "data": {
      "text/plain": [
       "48"
      ]
     },
     "execution_count": 5,
     "metadata": {},
     "output_type": "execute_result"
    }
   ],
   "source": [
    "cv2.rectangle(rect,(75,25),(275,275),255,-1)\n",
    "cv2.imshow('rect',rect)\n",
    "cv2.waitKey(0)"
   ]
  },
  {
   "cell_type": "code",
   "execution_count": 7,
   "metadata": {},
   "outputs": [
    {
     "data": {
      "text/plain": [
       "48"
      ]
     },
     "execution_count": 7,
     "metadata": {},
     "output_type": "execute_result"
    }
   ],
   "source": [
    "cir=np.zeros((300,300),dtype='uint8')\n",
    "cv2.circle(cir,(150,150),150,255,-1)\n",
    "cv2.imshow('circle',cir)\n",
    "cv2.waitKey(0)"
   ]
  },
  {
   "cell_type": "code",
   "execution_count": 8,
   "metadata": {},
   "outputs": [],
   "source": [
    "# or (if botth is 0 then only 0 else 1 )\n",
    "# and (both need to be 1 to make it 1)\n",
    "# not (inverse)\n",
    "# xor (true if and only if one of the two pixels is greater than zero, but not both.)"
   ]
  },
  {
   "cell_type": "code",
   "execution_count": 9,
   "metadata": {},
   "outputs": [
    {
     "data": {
      "text/plain": [
       "55"
      ]
     },
     "execution_count": 9,
     "metadata": {},
     "output_type": "execute_result"
    }
   ],
   "source": [
    "#XOR\n",
    "bit=cv2.bitwise_xor(rect,cir)\n",
    "cv2.imshow('xor',bit)\n",
    "cv2.waitKey(0)"
   ]
  },
  {
   "cell_type": "code",
   "execution_count": 10,
   "metadata": {},
   "outputs": [
    {
     "data": {
      "text/plain": [
       "32"
      ]
     },
     "execution_count": 10,
     "metadata": {},
     "output_type": "execute_result"
    }
   ],
   "source": [
    "#AND\n",
    "bit=cv2.bitwise_and(rect,cir)\n",
    "cv2.imshow('and',bit)\n",
    "cv2.waitKey(0)"
   ]
  },
  {
   "cell_type": "code",
   "execution_count": null,
   "metadata": {},
   "outputs": [],
   "source": []
  },
  {
   "cell_type": "code",
   "execution_count": 11,
   "metadata": {},
   "outputs": [],
   "source": [
    "##### MASKING  ########"
   ]
  },
  {
   "cell_type": "code",
   "execution_count": 15,
   "metadata": {},
   "outputs": [
    {
     "name": "stdout",
     "output_type": "stream",
     "text": [
      "(188, 250, 3)\n"
     ]
    }
   ],
   "source": [
    "print (i.shape)\n",
    "mask=np.zeros(i.shape[:2],dtype='uint8')\n",
    "cv2.rectangle(mask,(0,90),(220,250),255,-1)\n",
    "cv2.imshow('rect',mask)\n",
    "cv2.waitKey(0)\n",
    "cv2.destroyAllWindows()"
   ]
  },
  {
   "cell_type": "code",
   "execution_count": 16,
   "metadata": {},
   "outputs": [],
   "source": [
    "masked=cv2.bitwise_and(i,i,mask=mask)\n",
    "cv2.imshow('masked',masked)\n",
    "cv2.waitKey(0)\n",
    "cv2.destroyAllWindows()"
   ]
  },
  {
   "cell_type": "code",
   "execution_count": 17,
   "metadata": {},
   "outputs": [
    {
     "data": {
      "text/plain": [
       "10"
      ]
     },
     "execution_count": 17,
     "metadata": {},
     "output_type": "execute_result"
    }
   ],
   "source": [
    "100//10\n"
   ]
  },
  {
   "cell_type": "code",
   "execution_count": 15,
   "metadata": {},
   "outputs": [],
   "source": [
    "#### SPLITTING and MERGIG of Channels ####"
   ]
  },
  {
   "cell_type": "code",
   "execution_count": 38,
   "metadata": {},
   "outputs": [],
   "source": [
    "b=i[:,:,0]\n",
    "g=i[:,:,1]\n",
    "r=i[:,:,2]"
   ]
  },
  {
   "cell_type": "code",
   "execution_count": 26,
   "metadata": {},
   "outputs": [
    {
     "data": {
      "text/plain": [
       "32"
      ]
     },
     "execution_count": 26,
     "metadata": {},
     "output_type": "execute_result"
    }
   ],
   "source": [
    "cv2.imshow(\"Red\", r)\n",
    "cv2.imshow(\"Green\", g)\n",
    "cv2.imshow(\"Blue\", b)\n",
    "cv2.waitKey(0)"
   ]
  },
  {
   "cell_type": "code",
   "execution_count": 34,
   "metadata": {},
   "outputs": [],
   "source": [
    "#function\n",
    "(b,g,r)=cv2.split(i)\n",
    "cv2.imshow(\"Red\", r)\n",
    "cv2.imshow(\"Green\", g)\n",
    "cv2.imshow(\"Blue\", b)\n",
    "cv2.waitKey(0)\n",
    "cv2.destroyAllWindows()"
   ]
  },
  {
   "cell_type": "code",
   "execution_count": 33,
   "metadata": {},
   "outputs": [
    {
     "data": {
      "text/plain": [
       "32"
      ]
     },
     "execution_count": 33,
     "metadata": {},
     "output_type": "execute_result"
    }
   ],
   "source": [
    "#merge\n",
    "merged=cv2.merge([b,g,r])\n",
    "cv2.imshow('merge',merged)\n",
    "cv2.waitKey(0)"
   ]
  },
  {
   "cell_type": "code",
   "execution_count": 36,
   "metadata": {},
   "outputs": [],
   "source": [
    "# visualizing as per color\n",
    "zeros=np.ones(i.shape[:2],dtype='uint8')\n",
    "cv2.imshow('red',cv2.merge([zeros,zeros,r]))\n",
    "cv2.imshow('green',cv2.merge([zeros,r,zeros]))\n",
    "cv2.imshow('blue',cv2.merge([r,zeros,zeros]))\n",
    "cv2.waitKey(0)\n",
    "cv2.destroyAllWindows()"
   ]
  },
  {
   "cell_type": "code",
   "execution_count": 41,
   "metadata": {},
   "outputs": [
    {
     "data": {
      "text/plain": [
       "249"
      ]
     },
     "execution_count": 41,
     "metadata": {},
     "output_type": "execute_result"
    }
   ],
   "source": [
    "g[5,80]"
   ]
  },
  {
   "cell_type": "code",
   "execution_count": null,
   "metadata": {},
   "outputs": [],
   "source": []
  }
 ],
 "metadata": {
  "kernelspec": {
   "display_name": "Python 3",
   "language": "python",
   "name": "python3"
  },
  "language_info": {
   "codemirror_mode": {
    "name": "ipython",
    "version": 3
   },
   "file_extension": ".py",
   "mimetype": "text/x-python",
   "name": "python",
   "nbconvert_exporter": "python",
   "pygments_lexer": "ipython3",
   "version": "3.6.5"
  }
 },
 "nbformat": 4,
 "nbformat_minor": 2
}
