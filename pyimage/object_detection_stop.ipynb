{
 "cells": [
  {
   "cell_type": "code",
   "execution_count": 21,
   "metadata": {},
   "outputs": [],
   "source": [
    "from __future__ import print_function\n",
    "from imutils import paths\n",
    "from scipy.io import loadmat\n",
    "from skimage import io\n",
    "import argparse\n",
    "import dlib\n",
    "import sys"
   ]
  },
  {
   "cell_type": "code",
   "execution_count": 22,
   "metadata": {},
   "outputs": [
    {
     "data": {
      "text/plain": [
       "{'__header__': b'MATLAB 5.0 MAT-file, Platform: PCWIN, Created on: Mon Feb 07 11:50:58 2005',\n",
       " '__version__': '1.0',\n",
       " '__globals__': [],\n",
       " 'box_coord': array([[  3, 294,   2, 298]], dtype=uint16),\n",
       " 'obj_contour': array([[ 83.68421053, 211.24210526, 294.23157895, 295.76842105,\n",
       "         210.72982456,  83.68421053,   1.71929825,   0.69473684,\n",
       "          83.17192982,  83.17192982],\n",
       "        [  1.26842105,   1.26842105,  81.69649123, 211.30350877,\n",
       "         291.21929825, 291.21929825, 211.30350877,  84.25789474,\n",
       "           1.78070175,   1.78070175]])}"
      ]
     },
     "execution_count": 22,
     "metadata": {},
     "output_type": "execute_result"
    }
   ],
   "source": [
    "loadmat(r'C:\\Users\\arpit14276\\Desktop\\pyimagesearch\\object_detector\\Annotations\\stop_sign\\annotation_0001.mat')"
   ]
  },
  {
   "cell_type": "code",
   "execution_count": 23,
   "metadata": {
    "collapsed": true
   },
   "outputs": [
    {
     "name": "stdout",
     "output_type": "stream",
     "text": [
      "imageid 0001\n",
      "imageid 0002\n",
      "imageid 0003\n",
      "imageid 0004\n",
      "imageid 0005\n",
      "imageid 0006\n",
      "imageid 0007\n",
      "imageid 0008\n",
      "imageid 0009\n",
      "imageid 0010\n",
      "imageid 0011\n",
      "imageid 0012\n",
      "imageid 0013\n",
      "imageid 0014\n",
      "imageid 0015\n",
      "imageid 0016\n",
      "imageid 0017\n",
      "imageid 0018\n",
      "imageid 0019\n",
      "imageid 0020\n",
      "imageid 0021\n",
      "imageid 0022\n",
      "imageid 0023\n",
      "imageid 0024\n",
      "imageid 0025\n",
      "imageid 0026\n",
      "imageid 0027\n",
      "imageid 0028\n",
      "imageid 0029\n",
      "imageid 0030\n",
      "imageid 0031\n",
      "imageid 0032\n",
      "imageid 0033\n",
      "imageid 0034\n",
      "imageid 0035\n",
      "imageid 0036\n",
      "imageid 0037\n",
      "imageid 0038\n",
      "imageid 0039\n",
      "imageid 0040\n",
      "imageid 0041\n",
      "imageid 0042\n",
      "imageid 0043\n",
      "imageid 0044\n",
      "imageid 0045\n",
      "imageid 0046\n",
      "imageid 0047\n",
      "imageid 0048\n",
      "imageid 0049\n",
      "imageid 0050\n",
      "imageid 0051\n",
      "imageid 0052\n",
      "imageid 0053\n",
      "imageid 0054\n",
      "imageid 0055\n",
      "imageid 0056\n",
      "imageid 0057\n",
      "imageid 0058\n",
      "imageid 0059\n",
      "imageid 0060\n",
      "imageid 0061\n",
      "imageid 0062\n",
      "imageid 0063\n",
      "imageid 0064\n"
     ]
    }
   ],
   "source": [
    "options = dlib.simple_object_detector_training_options()\n",
    "images = []\n",
    "boxes = []\n",
    "imageid = []\n",
    " \n",
    "# loop over the image paths\n",
    "for imagePath in paths.list_images(r'C:\\Users\\arpit14276\\Desktop\\pyimagesearch\\object_detector\\101_ObjectCategories\\stop_sign'):\n",
    "    # extract the image ID from the image path and load the annotations file\n",
    "    imageID = imagePath.split('\\\\')[-1].split('_')[1]\n",
    "    imageID = imageID.replace(\".jpg\", \"\")\n",
    "    imageid.append(imageID)\n",
    "    \n",
    "    print ('imageid',imageID)\n",
    "    \n",
    "    p = \"{}/annotation_{}.mat\".format(r'C:\\Users\\arpit14276\\Desktop\\pyimagesearch\\object_detector\\Annotations\\stop_sign', imageID)\n",
    "    \n",
    "    #print ('p',p)\n",
    "    \n",
    "    annotations = loadmat(p)[\"box_coord\"]\n",
    "    \n",
    "    #print (annotations)\n",
    " \n",
    "    # loop over the annotations and add each annotation to the list of bounding\n",
    "    # boxes\n",
    "    bb = [dlib.rectangle(left=int(x), top=int(y), right=int(w), bottom=int(h))\n",
    "            for (y, h, x, w) in annotations]\n",
    "    boxes.append(bb)\n",
    " \n",
    "    # add the image to the list of images\n",
    "    images.append(io.imread(imagePath))\n",
    "    \n"
   ]
  },
  {
   "cell_type": "code",
   "execution_count": 24,
   "metadata": {},
   "outputs": [
    {
     "data": {
      "text/plain": [
       "<bound method _Feature.getMandatoryRelease of _Feature((2, 6, 0, 'alpha', 2), (3, 0, 0, 'alpha', 0), 65536)>"
      ]
     },
     "execution_count": 24,
     "metadata": {},
     "output_type": "execute_result"
    }
   ],
   "source": [
    "print_function.getMandatoryRelease"
   ]
  },
  {
   "cell_type": "code",
   "execution_count": 25,
   "metadata": {},
   "outputs": [
    {
     "data": {
      "text/plain": [
       "64"
      ]
     },
     "execution_count": 25,
     "metadata": {},
     "output_type": "execute_result"
    }
   ],
   "source": [
    "len(images)"
   ]
  },
  {
   "cell_type": "code",
   "execution_count": 26,
   "metadata": {},
   "outputs": [],
   "source": [
    "opt=dir(options)"
   ]
  },
  {
   "cell_type": "code",
   "execution_count": 27,
   "metadata": {},
   "outputs": [
    {
     "name": "stdout",
     "output_type": "stream",
     "text": [
      "[INFO] training detector...\n",
      "[INFO] dumping classifier to file...\n"
     ]
    }
   ],
   "source": [
    "print(\"[INFO] training detector...\")\n",
    "detector = dlib.train_simple_object_detector(images, boxes, options)\n",
    " \n",
    "# dump the classifier to file\n",
    "output=r'C:\\Users\\arpit14276\\Desktop\\pyimagesearch\\object_detector\\stop_output\\stop_sign_detector.svm'\n",
    "print(\"[INFO] dumping classifier to file...\")\n",
    "detector.save(output)\n",
    " \n",
    "# visualize the results of the detector\n",
    "win = dlib.image_window()\n",
    "win.set_image(detector)\n",
    "dlib.hit_enter_to_continue()"
   ]
  },
  {
   "cell_type": "code",
   "execution_count": 37,
   "metadata": {},
   "outputs": [
    {
     "name": "stdout",
     "output_type": "stream",
     "text": [
      "rectangles[[(65, 24) (189, 148)]]\n",
      "rectangles[[(102, 45) (189, 131)]]\n",
      "rectangles[]\n",
      "rectangles[]\n",
      "rectangles[[(51, 24) (176, 148)]]\n",
      "rectangles[]\n",
      "rectangles[[(93, 24) (217, 148)]]\n",
      "rectangles[]\n",
      "rectangles[[(65, 31) (169, 135)]]\n"
     ]
    }
   ],
   "source": [
    "detector = dlib.simple_object_detector(r'C:\\Users\\arpit14276\\Desktop\\pyimagesearch\\object_detector\\stop_output\\stop_sign_detector.svm')\n",
    "for testingPath in paths.list_images(r'C:\\Users\\arpit14276\\Desktop\\pyimagesearch\\object_detector\\stop_testing'):\n",
    "    # load the image and make predictions\n",
    "    image = cv2.imread(testingPath)\n",
    "    boxes = detector(cv2.cvtColor(image, cv2.COLOR_BGR2RGB))\n",
    "    print (boxes)\n",
    "\n",
    "    # loop over the bounding boxes and draw them\n",
    "    for b in boxes:\n",
    "        (x, y, w, h) = (b.left(), b.top(), b.right(), b.bottom())\n",
    "        cv2.rectangle(image, (x, y), (w, h), (0, 255, 0), 2)\n",
    " \n",
    "    # show the image\n",
    "    cv2.imshow(\"Image\", image)\n",
    "    cv2.waitKey(0)"
   ]
  },
  {
   "cell_type": "code",
   "execution_count": 38,
   "metadata": {},
   "outputs": [],
   "source": [
    "cv2.destroyAllWindows()"
   ]
  },
  {
   "cell_type": "code",
   "execution_count": null,
   "metadata": {},
   "outputs": [],
   "source": []
  },
  {
   "cell_type": "code",
   "execution_count": 39,
   "metadata": {},
   "outputs": [],
   "source": [
    "### sun flower  train "
   ]
  },
  {
   "cell_type": "code",
   "execution_count": 40,
   "metadata": {
    "collapsed": true
   },
   "outputs": [
    {
     "name": "stdout",
     "output_type": "stream",
     "text": [
      "imageid 0001\n",
      "imageid 0002\n",
      "imageid 0003\n",
      "imageid 0004\n",
      "imageid 0005\n",
      "imageid 0006\n",
      "imageid 0007\n",
      "imageid 0008\n",
      "imageid 0009\n",
      "imageid 0010\n",
      "imageid 0011\n",
      "imageid 0012\n",
      "imageid 0013\n",
      "imageid 0014\n",
      "imageid 0015\n",
      "imageid 0016\n",
      "imageid 0017\n",
      "imageid 0018\n",
      "imageid 0019\n",
      "imageid 0020\n",
      "imageid 0021\n",
      "imageid 0022\n",
      "imageid 0023\n",
      "imageid 0024\n",
      "imageid 0025\n",
      "imageid 0026\n",
      "imageid 0027\n",
      "imageid 0028\n",
      "imageid 0029\n",
      "imageid 0030\n",
      "imageid 0031\n",
      "imageid 0032\n",
      "imageid 0033\n",
      "imageid 0034\n",
      "imageid 0035\n",
      "imageid 0036\n",
      "imageid 0037\n",
      "imageid 0038\n",
      "imageid 0039\n",
      "imageid 0040\n",
      "imageid 0041\n",
      "imageid 0042\n",
      "imageid 0043\n",
      "imageid 0044\n",
      "imageid 0045\n",
      "imageid 0046\n",
      "imageid 0047\n",
      "imageid 0048\n",
      "imageid 0049\n",
      "imageid 0050\n",
      "imageid 0051\n",
      "imageid 0052\n",
      "imageid 0053\n",
      "imageid 0054\n",
      "imageid 0055\n",
      "imageid 0056\n",
      "imageid 0057\n",
      "imageid 0058\n",
      "imageid 0059\n",
      "imageid 0060\n",
      "imageid 0061\n",
      "imageid 0062\n",
      "imageid 0063\n",
      "imageid 0064\n",
      "imageid 0065\n",
      "imageid 0066\n",
      "imageid 0067\n",
      "imageid 0068\n",
      "imageid 0069\n",
      "imageid 0070\n",
      "imageid 0071\n",
      "imageid 0072\n",
      "imageid 0073\n",
      "imageid 0074\n",
      "imageid 0075\n",
      "imageid 0076\n",
      "imageid 0077\n",
      "imageid 0078\n",
      "imageid 0079\n",
      "imageid 0080\n",
      "imageid 0081\n",
      "imageid 0082\n",
      "imageid 0083\n",
      "imageid 0084\n",
      "imageid 0085\n"
     ]
    }
   ],
   "source": [
    "options = dlib.simple_object_detector_training_options()\n",
    "images = []\n",
    "boxes = []\n",
    "imageid = []\n",
    " \n",
    "# loop over the image paths\n",
    "for imagePath in paths.list_images(r'C:\\Users\\arpit14276\\Desktop\\pyimagesearch\\object_detector\\101_ObjectCategories\\sunflower'):\n",
    "    # extract the image ID from the image path and load the annotations file\n",
    "    imageID = imagePath.split('\\\\')[-1].split('_')[1]\n",
    "    imageID = imageID.replace(\".jpg\", \"\")\n",
    "    imageid.append(imageID)\n",
    "    \n",
    "    print ('imageid',imageID)\n",
    "    \n",
    "    p = \"{}/annotation_{}.mat\".format(r'C:\\Users\\arpit14276\\Desktop\\pyimagesearch\\object_detector\\Annotations\\sunflower', imageID)\n",
    "    \n",
    "    #print ('p',p)\n",
    "    \n",
    "    annotations = loadmat(p)[\"box_coord\"]\n",
    "    \n",
    "    #print (annotations)\n",
    " \n",
    "    # loop over the annotations and add each annotation to the list of bounding\n",
    "    # boxes\n",
    "    bb = [dlib.rectangle(left=int(x), top=int(y), right=int(w), bottom=int(h))\n",
    "            for (y, h, x, w) in annotations]\n",
    "    boxes.append(bb)\n",
    " \n",
    "    # add the image to the list of images\n",
    "    images.append(io.imread(imagePath))\n",
    "    \n"
   ]
  },
  {
   "cell_type": "code",
   "execution_count": 41,
   "metadata": {},
   "outputs": [
    {
     "name": "stdout",
     "output_type": "stream",
     "text": [
      "[INFO] training detector...\n",
      "[INFO] dumping classifier to file...\n"
     ]
    }
   ],
   "source": [
    "print(\"[INFO] training detector...\")\n",
    "detector = dlib.train_simple_object_detector(images, boxes, options)\n",
    " \n",
    "# dump the classifier to file\n",
    "output=r'C:\\Users\\arpit14276\\Desktop\\pyimagesearch\\object_detector\\sunflower_output\\sunflower_detector.svm'\n",
    "print(\"[INFO] dumping classifier to file...\")\n",
    "detector.save(output)\n",
    " \n",
    "# visualize the results of the detector\n",
    "win = dlib.image_window()\n",
    "win.set_image(detector)\n",
    "dlib.hit_enter_to_continue()"
   ]
  },
  {
   "cell_type": "code",
   "execution_count": 42,
   "metadata": {},
   "outputs": [
    {
     "name": "stdout",
     "output_type": "stream",
     "text": [
      "rectangles[[(136, 50) (394, 308)]]\n"
     ]
    }
   ],
   "source": [
    "detector = dlib.simple_object_detector(r'C:\\Users\\arpit14276\\Desktop\\pyimagesearch\\object_detector\\sunflower_output\\sunflower_detector.svm')\n",
    "for testingPath in paths.list_images(r'C:\\Users\\arpit14276\\Desktop\\pyimagesearch\\object_detector\\sunflower_testing'):\n",
    "    # load the image and make predictions\n",
    "    image = cv2.imread(testingPath)\n",
    "    boxes = detector(cv2.cvtColor(image, cv2.COLOR_BGR2RGB))\n",
    "    print (boxes)\n",
    "\n",
    "    # loop over the bounding boxes and draw them\n",
    "    for b in boxes:\n",
    "        (x, y, w, h) = (b.left(), b.top(), b.right(), b.bottom())\n",
    "        cv2.rectangle(image, (x, y), (w, h), (0, 255, 0), 2)\n",
    " \n",
    "    # show the image\n",
    "    cv2.imshow(\"Image\", image)\n",
    "    cv2.waitKey(0)"
   ]
  },
  {
   "cell_type": "code",
   "execution_count": 51,
   "metadata": {},
   "outputs": [],
   "source": [
    "\n",
    "my=(i*i for i in range(3))"
   ]
  },
  {
   "cell_type": "code",
   "execution_count": 54,
   "metadata": {},
   "outputs": [],
   "source": [
    "for i in my:\n",
    "    print (i)"
   ]
  },
  {
   "cell_type": "code",
   "execution_count": 53,
   "metadata": {},
   "outputs": [
    {
     "data": {
      "text/plain": [
       "<generator object <genexpr> at 0x00000227EBE3A6D0>"
      ]
     },
     "execution_count": 53,
     "metadata": {},
     "output_type": "execute_result"
    }
   ],
   "source": [
    "my"
   ]
  },
  {
   "cell_type": "code",
   "execution_count": 76,
   "metadata": {},
   "outputs": [],
   "source": [
    "import numpy as np\n",
    "import time \n",
    "t=time.time()\n",
    "l=np.random.randint(5,size=10000)\n",
    "l=list(l)"
   ]
  },
  {
   "cell_type": "code",
   "execution_count": 77,
   "metadata": {},
   "outputs": [
    {
     "name": "stdout",
     "output_type": "stream",
     "text": [
      "1.28236985206604\n"
     ]
    }
   ],
   "source": [
    "c=[]\n",
    "target=5\n",
    "result=[]\n",
    "for i in l:\n",
    "    if i in c:\n",
    "        result.append( [l.index(i),c.index(i)])\n",
    "        \n",
    "    else:\n",
    "        c.append(target-i)\n",
    "        \n",
    "print (time.time()-t)"
   ]
  },
  {
   "cell_type": "markdown",
   "metadata": {},
   "source": [
    "\n",
    "\n",
    "It uses HOG discriptor and its explanation is given in below link\n",
    "https://www.learnopencv.com/histogram-of-oriented-gradients/"
   ]
  },
  {
   "cell_type": "code",
   "execution_count": null,
   "metadata": {},
   "outputs": [],
   "source": []
  },
  {
   "cell_type": "code",
   "execution_count": 19,
   "metadata": {},
   "outputs": [],
   "source": [
    "#calculation of gradients and all "
   ]
  },
  {
   "cell_type": "markdown",
   "metadata": {},
   "source": [
    "block size=16X16\n",
    "cell within block = 8X8\n",
    "calculate gradient and its magnitude of each 8X8 cell , so a block totak 4 cell will be there \n",
    "now represent each 8X8 cell into bins of histogram (0,20,40,60,80,100,120,140,160)\n",
    "each bin represented by its orientation and bin size is decided by magnitude\n",
    "4 cell in each block , so total 9*4 bins =36 bins ina block \n",
    "\n",
    "\n",
    "There are 7 horizontal and 15 vertical positions making a total of 7 x 15 = 105 positions.\n",
    "Each 16×16 block is represented by a 36×1 vector. \n",
    "So when we concatenate them all into one gaint vector we obtain a 36×105 = 3780 dimensional vector."
   ]
  },
  {
   "cell_type": "code",
   "execution_count": 70,
   "metadata": {},
   "outputs": [
    {
     "data": {
      "text/plain": [
       "10"
      ]
     },
     "execution_count": 70,
     "metadata": {},
     "output_type": "execute_result"
    }
   ],
   "source": [
    "len(l)"
   ]
  },
  {
   "cell_type": "code",
   "execution_count": 71,
   "metadata": {},
   "outputs": [
    {
     "data": {
      "text/plain": [
       "array([3, 1, 1, 0, 1, 3, 2, 3, 1, 1])"
      ]
     },
     "execution_count": 71,
     "metadata": {},
     "output_type": "execute_result"
    }
   ],
   "source": [
    "l"
   ]
  },
  {
   "cell_type": "code",
   "execution_count": 14,
   "metadata": {},
   "outputs": [],
   "source": []
  },
  {
   "cell_type": "code",
   "execution_count": 15,
   "metadata": {},
   "outputs": [],
   "source": []
  },
  {
   "cell_type": "code",
   "execution_count": 16,
   "metadata": {},
   "outputs": [],
   "source": []
  },
  {
   "cell_type": "code",
   "execution_count": 17,
   "metadata": {},
   "outputs": [],
   "source": []
  },
  {
   "cell_type": "code",
   "execution_count": 18,
   "metadata": {},
   "outputs": [],
   "source": []
  },
  {
   "cell_type": "code",
   "execution_count": null,
   "metadata": {},
   "outputs": [],
   "source": []
  }
 ],
 "metadata": {
  "kernelspec": {
   "display_name": "Python 3",
   "language": "python",
   "name": "python3"
  },
  "language_info": {
   "codemirror_mode": {
    "name": "ipython",
    "version": 3
   },
   "file_extension": ".py",
   "mimetype": "text/x-python",
   "name": "python",
   "nbconvert_exporter": "python",
   "pygments_lexer": "ipython3",
   "version": "3.6.5"
  }
 },
 "nbformat": 4,
 "nbformat_minor": 2
}
