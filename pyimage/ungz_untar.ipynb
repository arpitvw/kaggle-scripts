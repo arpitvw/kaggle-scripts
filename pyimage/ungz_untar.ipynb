{
 "cells": [
  {
   "cell_type": "code",
   "execution_count": 1,
   "metadata": {},
   "outputs": [],
   "source": [
    "#ungz file"
   ]
  },
  {
   "cell_type": "code",
   "execution_count": null,
   "metadata": {},
   "outputs": [],
   "source": [
    "import gzip\n",
    "import shutil\n",
    "with gzip.open(r'C:\\Users\\arpit14276\\Downloads\\101_ObjectCategories.tar.gz', 'rb') as f_in:\n",
    "    with open(r'C:\\Users\\arpit14276\\Desktop\\pyimagesearch\\object detector\\101_ObjectCategories.tar', 'wb') as f_out:\n",
    "        shutil.copyfileobj(f_in, f_out)"
   ]
  },
  {
   "cell_type": "code",
   "execution_count": null,
   "metadata": {},
   "outputs": [],
   "source": []
  },
  {
   "cell_type": "code",
   "execution_count": 2,
   "metadata": {},
   "outputs": [],
   "source": [
    "# untar folder\n"
   ]
  },
  {
   "cell_type": "code",
   "execution_count": null,
   "metadata": {},
   "outputs": [],
   "source": [
    "import tarfile\n",
    "tar = tarfile.open(r'C:\\Users\\arpit14276\\Desktop\\pyimagesearch\\object detector\\101_ObjectCategories.tar') \n",
    "tar.extractall(path=r'C:\\Users\\arpit14276\\Desktop\\pyimagesearch\\object detector') # untar file into same directory\n",
    "tar.close()"
   ]
  },
  {
   "cell_type": "code",
   "execution_count": 4,
   "metadata": {},
   "outputs": [],
   "source": [
    "import tarfile\n",
    "tar = tarfile.open(r'C:\\Users\\arpit14276\\Downloads\\Annotations.tar') \n",
    "tar.extractall(path=r'C:\\Users\\arpit14276\\Desktop\\pyimagesearch\\object detector') # untar file into same directory\n",
    "tar.close()"
   ]
  },
  {
   "cell_type": "code",
   "execution_count": null,
   "metadata": {},
   "outputs": [],
   "source": []
  }
 ],
 "metadata": {
  "kernelspec": {
   "display_name": "Python 3",
   "language": "python",
   "name": "python3"
  },
  "language_info": {
   "codemirror_mode": {
    "name": "ipython",
    "version": 3
   },
   "file_extension": ".py",
   "mimetype": "text/x-python",
   "name": "python",
   "nbconvert_exporter": "python",
   "pygments_lexer": "ipython3",
   "version": "3.6.5"
  }
 },
 "nbformat": 4,
 "nbformat_minor": 2
}
