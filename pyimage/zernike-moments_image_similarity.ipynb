{
 "cells": [
  {
   "cell_type": "code",
   "execution_count": 1,
   "metadata": {},
   "outputs": [],
   "source": [
    "import cv2\n",
    "import imutils\n",
    "import numpy as np\n",
    "import mahotas as mh\n",
    "from scipy.spatial import distance as dist"
   ]
  },
  {
   "cell_type": "code",
   "execution_count": 2,
   "metadata": {},
   "outputs": [],
   "source": [
    "reference=cv2.imread(r'C:\\Users\\arpit14276\\Desktop\\pyimagesearch\\sand.jpg')"
   ]
  },
  {
   "cell_type": "code",
   "execution_count": 3,
   "metadata": {},
   "outputs": [],
   "source": [
    "def describe_shape(image):\n",
    "    shapeFeatures=[]\n",
    "    gray=cv2.cvtColor(image,cv2.COLOR_BGR2GRAY)\n",
    "    blurred=cv2.GaussianBlur(gray,(13,13),0)\n",
    "    thresh=cv2.threshold(blurred,50,255,cv2.THRESH_BINARY)[1]\n",
    "    thresh=cv2.dilate(thresh,None,iterations=4)\n",
    "    thresh=cv2.erode(thresh,None,iterations=3)\n",
    "    cnts=cv2.findContours(thresh.copy(),cv2.RETR_EXTERNAL,cv2.CHAIN_APPROX_SIMPLE)\n",
    "    cnts = cnts[0] if imutils.is_cv2() else cnts[1]\n",
    "    for i in cnts:\n",
    "        mask=np.zeros(image.shape[:2],dtype='uint8')\n",
    "        cv2.drawContours(mask,[i],-1,255,-1)\n",
    "        (x,y,w,h)=cv2.boundingRect(i)\n",
    "        roi=mask[y:y+h,x:x+w]\n",
    "        features=mh.features.zernike_moments(roi,200, degree=3)\n",
    "        shapeFeatures.append(features)\n",
    "    return  (cnts, shapeFeatures)"
   ]
  },
  {
   "cell_type": "code",
   "execution_count": 4,
   "metadata": {},
   "outputs": [],
   "source": [
    "#pokemon image\n",
    "reference=cv2.imread(r'C:\\Users\\arpit14276\\Desktop\\facerecognization\\horse\\horse.jpg')\n",
    "(_,reference_shape)=describe_shape(reference)\n",
    "\n",
    "test=cv2.imread(r'C:\\Users\\arpit14276\\Desktop\\facerecognization\\horse\\thA97DWJ4J.jpg')\n",
    "(cnts,check_shape)=describe_shape(test)\n",
    "\n",
    "D=dist.cdist(reference_shape,check_shape)\n",
    "i=np.argmin(D)\n",
    "\n",
    "box=cv2.minAreaRect(cnts[i])\n",
    "box=np.int0(cv2.boxPoints(box))\n",
    "cv2.drawContours(test,[box],-1,(0,255,0),1)\n",
    "(x,y,w,h)=cv2.boundingRect(box)\n",
    "cv2.putText(test,\"FOUND\",(x,y-10),cv2.FONT_HERSHEY_SIMPLEX, 0.9,(0, 255, 0), 3)\n",
    "cv2.imshow('test',test)\n",
    "cv2.imshow('image',reference)\n",
    "\n",
    "cv2.waitKey(0)\n",
    "cv2.destroyAllWindows()\n",
    "        "
   ]
  },
  {
   "cell_type": "code",
   "execution_count": 29,
   "metadata": {},
   "outputs": [],
   "source": [
    "cv2.imshow('test',reference)\n",
    "cv2.waitKey(0)\n",
    "cv2.destroyAllWindows()"
   ]
  },
  {
   "cell_type": "code",
   "execution_count": 26,
   "metadata": {},
   "outputs": [
    {
     "data": {
      "text/plain": [
       "[array([3.18309886e-01, 7.69768519e-05, 3.04371121e-01, 4.94927533e-02,\n",
       "        3.92991116e-03, 9.38941882e-03, 1.04184181e-01, 4.59622955e-02,\n",
       "        9.80752614e-02, 4.32909143e-03, 9.28635353e-03, 3.46306211e-03,\n",
       "        8.22514318e-02, 4.94171300e-02, 9.12130862e-02, 4.62156256e-02,\n",
       "        1.53174734e-03, 6.43335009e-03, 4.56861894e-03, 1.14131269e-02,\n",
       "        4.96415856e-02, 4.05502773e-02, 5.15918076e-02, 3.92122601e-02,\n",
       "        4.55681807e-02])]"
      ]
     },
     "execution_count": 26,
     "metadata": {},
     "output_type": "execute_result"
    }
   ],
   "source": [
    "image"
   ]
  },
  {
   "cell_type": "code",
   "execution_count": 71,
   "metadata": {},
   "outputs": [],
   "source": [
    "i,j=describe_shape(reference)"
   ]
  },
  {
   "cell_type": "code",
   "execution_count": 74,
   "metadata": {},
   "outputs": [],
   "source": []
  },
  {
   "cell_type": "code",
   "execution_count": null,
   "metadata": {},
   "outputs": [],
   "source": []
  },
  {
   "cell_type": "code",
   "execution_count": 118,
   "metadata": {},
   "outputs": [],
   "source": [
    "a=np.zeros(reference.shape[:2])"
   ]
  },
  {
   "cell_type": "code",
   "execution_count": 119,
   "metadata": {},
   "outputs": [
    {
     "data": {
      "text/plain": [
       "(256, 256)"
      ]
     },
     "execution_count": 119,
     "metadata": {},
     "output_type": "execute_result"
    }
   ],
   "source": [
    "a.shape"
   ]
  },
  {
   "cell_type": "code",
   "execution_count": 120,
   "metadata": {},
   "outputs": [],
   "source": [
    "a=a[:,:-1]"
   ]
  },
  {
   "cell_type": "code",
   "execution_count": 122,
   "metadata": {},
   "outputs": [],
   "source": [
    "c=np.hstack((a,np.zeros(256).reshape(-1,1)))"
   ]
  },
  {
   "cell_type": "code",
   "execution_count": 123,
   "metadata": {},
   "outputs": [
    {
     "data": {
      "text/plain": [
       "(256, 256)"
      ]
     },
     "execution_count": 123,
     "metadata": {},
     "output_type": "execute_result"
    }
   ],
   "source": [
    "c.shape"
   ]
  },
  {
   "cell_type": "code",
   "execution_count": 129,
   "metadata": {},
   "outputs": [],
   "source": [
    "c=cv2.imread(r'C:\\Users\\arpit14276\\Desktop\\pyimagesearch\\shirts\\printed4.JPG')"
   ]
  },
  {
   "cell_type": "code",
   "execution_count": 141,
   "metadata": {},
   "outputs": [],
   "source": [
    "c=cv2.imread(r'C:\\Users\\arpit14276\\Desktop\\pyimagesearch\\shirts_data\\printed4.jpeg')"
   ]
  },
  {
   "cell_type": "code",
   "execution_count": 143,
   "metadata": {},
   "outputs": [],
   "source": [
    "from skimage import feature\n"
   ]
  },
  {
   "cell_type": "code",
   "execution_count": 145,
   "metadata": {},
   "outputs": [],
   "source": [
    "lbp=feature.local_binary_pattern(cv2.cvtColor(c,cv2.COLOR_BGR2GRAY),24,8,method='uniform')"
   ]
  },
  {
   "cell_type": "code",
   "execution_count": 147,
   "metadata": {},
   "outputs": [
    {
     "data": {
      "text/plain": [
       "(1196, 780)"
      ]
     },
     "execution_count": 147,
     "metadata": {},
     "output_type": "execute_result"
    }
   ],
   "source": [
    "lbp.shape"
   ]
  },
  {
   "cell_type": "code",
   "execution_count": 149,
   "metadata": {},
   "outputs": [
    {
     "data": {
      "text/plain": [
       "(932880,)"
      ]
     },
     "execution_count": 149,
     "metadata": {},
     "output_type": "execute_result"
    }
   ],
   "source": [
    "lbp.ravel().shape"
   ]
  },
  {
   "cell_type": "code",
   "execution_count": 151,
   "metadata": {},
   "outputs": [],
   "source": [
    "(hist,_)=np.histogram(lbp.ravel(),bins=range(0,24+3),range=(0,24+2))"
   ]
  },
  {
   "cell_type": "code",
   "execution_count": 153,
   "metadata": {},
   "outputs": [
    {
     "data": {
      "text/plain": [
       "27"
      ]
     },
     "execution_count": 153,
     "metadata": {},
     "output_type": "execute_result"
    }
   ],
   "source": [
    "len(_)"
   ]
  },
  {
   "cell_type": "code",
   "execution_count": 154,
   "metadata": {},
   "outputs": [
    {
     "data": {
      "text/plain": [
       "26"
      ]
     },
     "execution_count": 154,
     "metadata": {},
     "output_type": "execute_result"
    }
   ],
   "source": [
    "len(hist)"
   ]
  },
  {
   "cell_type": "code",
   "execution_count": 156,
   "metadata": {},
   "outputs": [
    {
     "data": {
      "text/plain": [
       "13870"
      ]
     },
     "execution_count": 156,
     "metadata": {},
     "output_type": "execute_result"
    }
   ],
   "source": [
    "hist[1]"
   ]
  },
  {
   "cell_type": "code",
   "execution_count": null,
   "metadata": {},
   "outputs": [],
   "source": []
  },
  {
   "cell_type": "code",
   "execution_count": null,
   "metadata": {},
   "outputs": [],
   "source": []
  }
 ],
 "metadata": {
  "kernelspec": {
   "display_name": "Python 3",
   "language": "python",
   "name": "python3"
  },
  "language_info": {
   "codemirror_mode": {
    "name": "ipython",
    "version": 3
   },
   "file_extension": ".py",
   "mimetype": "text/x-python",
   "name": "python",
   "nbconvert_exporter": "python",
   "pygments_lexer": "ipython3",
   "version": "3.6.5"
  }
 },
 "nbformat": 4,
 "nbformat_minor": 2
}
