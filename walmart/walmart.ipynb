{
 "cells": [
  {
   "cell_type": "code",
   "execution_count": 2,
   "metadata": {
    "collapsed": true
   },
   "outputs": [],
   "source": [
    "from sklearn.preprocessing import LabelEncoder\n",
    "import pandas as pd\n",
    "import numpy as np\n",
    "import seaborn as sns\n",
    "import matplotlib.pyplot as plt\n",
    "import calendar as cd\n",
    "\n",
    "from datetime import datetime"
   ]
  },
  {
   "cell_type": "code",
   "execution_count": 3,
   "metadata": {
    "collapsed": true
   },
   "outputs": [],
   "source": [
    "def process_macroeconomic_data(raw_data):\n",
    "    raw_data['Year']=pd.DatetimeIndex(raw_data['Year-Month']).year\n",
    "    raw_data['Month']=pd.DatetimeIndex(raw_data['Year-Month']).month\n",
    "    #raw_data=raw_data[raw_data['Year']<2015]\n",
    "    raw_data=raw_data.drop(['Year-Month'],axis=1)\n",
    "    return raw_data"
   ]
  },
  {
   "cell_type": "code",
   "execution_count": null,
   "metadata": {
    "collapsed": true
   },
   "outputs": [],
   "source": []
  },
  {
   "cell_type": "code",
   "execution_count": 4,
   "metadata": {
    "collapsed": true
   },
   "outputs": [],
   "source": [
    "raw_macroeconomic_data = pd.read_csv('F:/Kaggle_version2/Walmart/MacroEconomicData.csv')\n",
    "processed_macroeconomic_data = process_macroeconomic_data(raw_macroeconomic_data)"
   ]
  },
  {
   "cell_type": "code",
   "execution_count": 5,
   "metadata": {},
   "outputs": [
    {
     "data": {
      "text/html": [
       "<div>\n",
       "<style scoped>\n",
       "    .dataframe tbody tr th:only-of-type {\n",
       "        vertical-align: middle;\n",
       "    }\n",
       "\n",
       "    .dataframe tbody tr th {\n",
       "        vertical-align: top;\n",
       "    }\n",
       "\n",
       "    .dataframe thead th {\n",
       "        text-align: right;\n",
       "    }\n",
       "</style>\n",
       "<table border=\"1\" class=\"dataframe\">\n",
       "  <thead>\n",
       "    <tr style=\"text-align: right;\">\n",
       "      <th></th>\n",
       "      <th>Monthly Nominal GDP Index (inMillion$)</th>\n",
       "      <th>Monthly Real GDP Index (inMillion$)</th>\n",
       "      <th>CPI</th>\n",
       "      <th>PartyInPower</th>\n",
       "      <th>unemployment rate</th>\n",
       "      <th>CommercialBankInterestRateonCreditCardPlans</th>\n",
       "      <th>Finance Rate on Personal Loans at Commercial Banks, 24 Month Loan</th>\n",
       "      <th>Earnings or wages  in dollars per hour</th>\n",
       "      <th>AdvertisingExpenses (in Thousand Dollars)</th>\n",
       "      <th>Cotton Monthly Price - US cents per Pound(lbs)</th>\n",
       "      <th>Change(in%)</th>\n",
       "      <th>Average upland planted(million acres)</th>\n",
       "      <th>Average upland harvested(million acres)</th>\n",
       "      <th>yieldperharvested acre</th>\n",
       "      <th>Production (in  480-lb netweright in million bales)</th>\n",
       "      <th>Mill use  (in  480-lb netweright in million bales)</th>\n",
       "      <th>Exports</th>\n",
       "      <th>Year</th>\n",
       "      <th>Month</th>\n",
       "    </tr>\n",
       "  </thead>\n",
       "  <tbody>\n",
       "    <tr>\n",
       "      <th>91</th>\n",
       "      <td>18741.600</td>\n",
       "      <td>16797.207</td>\n",
       "      <td>264.160</td>\n",
       "      <td>Democrats</td>\n",
       "      <td>4.9</td>\n",
       "      <td>12.51</td>\n",
       "      <td>9.64</td>\n",
       "      <td>25.52</td>\n",
       "      <td>?</td>\n",
       "      <td>80.26</td>\n",
       "      <td>-0.99</td>\n",
       "      <td>9.824</td>\n",
       "      <td>9.340</td>\n",
       "      <td>787</td>\n",
       "      <td>15.314</td>\n",
       "      <td>3.575</td>\n",
       "      <td>10.950</td>\n",
       "      <td>2016</td>\n",
       "      <td>8</td>\n",
       "    </tr>\n",
       "    <tr>\n",
       "      <th>92</th>\n",
       "      <td>18840.310</td>\n",
       "      <td>16852.563</td>\n",
       "      <td>264.602</td>\n",
       "      <td>Democrats</td>\n",
       "      <td>4.9</td>\n",
       "      <td>12.51</td>\n",
       "      <td>9.64</td>\n",
       "      <td>25.74</td>\n",
       "      <td>?</td>\n",
       "      <td>77.86</td>\n",
       "      <td>-2.99</td>\n",
       "      <td>9.950</td>\n",
       "      <td>9.464</td>\n",
       "      <td>790</td>\n",
       "      <td>15.580</td>\n",
       "      <td>3.475</td>\n",
       "      <td>10.950</td>\n",
       "      <td>2016</td>\n",
       "      <td>9</td>\n",
       "    </tr>\n",
       "    <tr>\n",
       "      <th>93</th>\n",
       "      <td>18740.780</td>\n",
       "      <td>16725.460</td>\n",
       "      <td>264.738</td>\n",
       "      <td>Democrats</td>\n",
       "      <td>4.8</td>\n",
       "      <td>12.51</td>\n",
       "      <td>9.64</td>\n",
       "      <td>26.04</td>\n",
       "      <td>?</td>\n",
       "      <td>78.52</td>\n",
       "      <td>0.85</td>\n",
       "      <td>9.950</td>\n",
       "      <td>9.464</td>\n",
       "      <td>785</td>\n",
       "      <td>15.472</td>\n",
       "      <td>3.475</td>\n",
       "      <td>11.425</td>\n",
       "      <td>2016</td>\n",
       "      <td>10</td>\n",
       "    </tr>\n",
       "    <tr>\n",
       "      <th>94</th>\n",
       "      <td>18960.462</td>\n",
       "      <td>16910.896</td>\n",
       "      <td>265.203</td>\n",
       "      <td>Democrats</td>\n",
       "      <td>4.6</td>\n",
       "      <td>12.41</td>\n",
       "      <td>9.45</td>\n",
       "      <td>25.87</td>\n",
       "      <td>?</td>\n",
       "      <td>78.92</td>\n",
       "      <td>0.51</td>\n",
       "      <td>9.950</td>\n",
       "      <td>9.464</td>\n",
       "      <td>791</td>\n",
       "      <td>15.600</td>\n",
       "      <td>3.475</td>\n",
       "      <td>11.425</td>\n",
       "      <td>2016</td>\n",
       "      <td>11</td>\n",
       "    </tr>\n",
       "    <tr>\n",
       "      <th>95</th>\n",
       "      <td>19015.393</td>\n",
       "      <td>16918.051</td>\n",
       "      <td>265.421</td>\n",
       "      <td>Democrats</td>\n",
       "      <td>4.7</td>\n",
       "      <td>12.41</td>\n",
       "      <td>9.45</td>\n",
       "      <td>25.90</td>\n",
       "      <td>?</td>\n",
       "      <td>79.50</td>\n",
       "      <td>0.73</td>\n",
       "      <td>9.950</td>\n",
       "      <td>9.464</td>\n",
       "      <td>810</td>\n",
       "      <td>15.962</td>\n",
       "      <td>3.275</td>\n",
       "      <td>11.600</td>\n",
       "      <td>2016</td>\n",
       "      <td>12</td>\n",
       "    </tr>\n",
       "  </tbody>\n",
       "</table>\n",
       "</div>"
      ],
      "text/plain": [
       "    Monthly Nominal GDP Index (inMillion$)  \\\n",
       "91                               18741.600   \n",
       "92                               18840.310   \n",
       "93                               18740.780   \n",
       "94                               18960.462   \n",
       "95                               19015.393   \n",
       "\n",
       "    Monthly Real GDP Index (inMillion$)      CPI PartyInPower  \\\n",
       "91                            16797.207  264.160    Democrats   \n",
       "92                            16852.563  264.602    Democrats   \n",
       "93                            16725.460  264.738    Democrats   \n",
       "94                            16910.896  265.203    Democrats   \n",
       "95                            16918.051  265.421    Democrats   \n",
       "\n",
       "    unemployment rate  CommercialBankInterestRateonCreditCardPlans  \\\n",
       "91                4.9                                        12.51   \n",
       "92                4.9                                        12.51   \n",
       "93                4.8                                        12.51   \n",
       "94                4.6                                        12.41   \n",
       "95                4.7                                        12.41   \n",
       "\n",
       "    Finance Rate on Personal Loans at Commercial Banks, 24 Month Loan  \\\n",
       "91                                               9.64                   \n",
       "92                                               9.64                   \n",
       "93                                               9.64                   \n",
       "94                                               9.45                   \n",
       "95                                               9.45                   \n",
       "\n",
       "    Earnings or wages  in dollars per hour  \\\n",
       "91                                   25.52   \n",
       "92                                   25.74   \n",
       "93                                   26.04   \n",
       "94                                   25.87   \n",
       "95                                   25.90   \n",
       "\n",
       "   AdvertisingExpenses (in Thousand Dollars)  \\\n",
       "91                                         ?   \n",
       "92                                         ?   \n",
       "93                                         ?   \n",
       "94                                         ?   \n",
       "95                                         ?   \n",
       "\n",
       "    Cotton Monthly Price - US cents per Pound(lbs)  Change(in%)  \\\n",
       "91                                           80.26        -0.99   \n",
       "92                                           77.86        -2.99   \n",
       "93                                           78.52         0.85   \n",
       "94                                           78.92         0.51   \n",
       "95                                           79.50         0.73   \n",
       "\n",
       "    Average upland planted(million acres)  \\\n",
       "91                                  9.824   \n",
       "92                                  9.950   \n",
       "93                                  9.950   \n",
       "94                                  9.950   \n",
       "95                                  9.950   \n",
       "\n",
       "    Average upland harvested(million acres)  yieldperharvested acre  \\\n",
       "91                                    9.340                     787   \n",
       "92                                    9.464                     790   \n",
       "93                                    9.464                     785   \n",
       "94                                    9.464                     791   \n",
       "95                                    9.464                     810   \n",
       "\n",
       "    Production (in  480-lb netweright in million bales)  \\\n",
       "91                                             15.314     \n",
       "92                                             15.580     \n",
       "93                                             15.472     \n",
       "94                                             15.600     \n",
       "95                                             15.962     \n",
       "\n",
       "    Mill use  (in  480-lb netweright in million bales)  Exports  Year  Month  \n",
       "91                                              3.575    10.950  2016      8  \n",
       "92                                              3.475    10.950  2016      9  \n",
       "93                                              3.475    11.425  2016     10  \n",
       "94                                              3.475    11.425  2016     11  \n",
       "95                                              3.275    11.600  2016     12  "
      ]
     },
     "execution_count": 5,
     "metadata": {},
     "output_type": "execute_result"
    }
   ],
   "source": [
    "processed_macroeconomic_data.tail()"
   ]
  },
  {
   "cell_type": "code",
   "execution_count": 6,
   "metadata": {
    "collapsed": true
   },
   "outputs": [],
   "source": [
    "def read_weather_data():\n",
    "    weather=pd.ExcelFile('F:/Kaggle_version2/Walmart/WeatherData.xlsx')\n",
    "    df1=pd.read_excel(weather,'2009')\n",
    "    df2=pd.read_excel(weather,'2010')\n",
    "    df3=pd.read_excel(weather,'2011')\n",
    "    df4=pd.read_excel(weather,'2012')\n",
    "    df5=pd.read_excel(weather,'2013')\n",
    "    df6=pd.read_excel(weather,'2014')\n",
    "    df7=pd.read_excel(weather,'2015')\n",
    "    df8=pd.read_excel(weather,'2016')\n",
    "    frames=[df1,df2,df3,df4,df5,df6,df7,df8]\n",
    "    weather=pd.concat(frames,ignore_index=True)\n",
    "    return weather"
   ]
  },
  {
   "cell_type": "code",
   "execution_count": 7,
   "metadata": {
    "collapsed": true
   },
   "outputs": [],
   "source": [
    "def str_int(raw_data):\n",
    "    raw_data=raw_data[raw_data.applymap(np.isreal).all(1)]\n",
    "    for i in raw_data.columns.values:\n",
    "        if i not in ('Precip. (mm) sum','WeatherEvent'):\n",
    "            raw_data[i]=raw_data[i].astype(int)\n",
    "    return raw_data"
   ]
  },
  {
   "cell_type": "code",
   "execution_count": 8,
   "metadata": {
    "collapsed": true
   },
   "outputs": [],
   "source": [
    "def process_weather_data(raw_data):\n",
    "    raw_data['Day']=raw_data['Day'].astype(int)\n",
    "    raw_data['Year']=raw_data['Year'].astype(int)\n",
    "    raw_data['Month']=raw_data['Month'].apply(list(cd.month_abbr).index)\n",
    "    raw_data=raw_data.drop('Day',axis=1)\n",
    "    raw_data=str_int(raw_data)\n",
    "    columns=raw_data.columns.values[:-2]\n",
    "    raw_data=raw_data.groupby(['Year','Month'])[columns].mean()\n",
    "    raw_data[['Year','Month']]=raw_data[['Year','Month']].astype(int)\n",
    "    return raw_data \n",
    "\n"
   ]
  },
  {
   "cell_type": "code",
   "execution_count": 9,
   "metadata": {
    "scrolled": true
   },
   "outputs": [
    {
     "name": "stderr",
     "output_type": "stream",
     "text": [
      "C:\\tools\\Anaconda3\\lib\\site-packages\\ipykernel_launcher.py:5: SettingWithCopyWarning: \n",
      "A value is trying to be set on a copy of a slice from a DataFrame.\n",
      "Try using .loc[row_indexer,col_indexer] = value instead\n",
      "\n",
      "See the caveats in the documentation: http://pandas.pydata.org/pandas-docs/stable/indexing.html#indexing-view-versus-copy\n",
      "  \"\"\"\n"
     ]
    },
    {
     "data": {
      "text/html": [
       "<div>\n",
       "<style scoped>\n",
       "    .dataframe tbody tr th:only-of-type {\n",
       "        vertical-align: middle;\n",
       "    }\n",
       "\n",
       "    .dataframe tbody tr th {\n",
       "        vertical-align: top;\n",
       "    }\n",
       "\n",
       "    .dataframe thead th {\n",
       "        text-align: right;\n",
       "    }\n",
       "</style>\n",
       "<table border=\"1\" class=\"dataframe\">\n",
       "  <thead>\n",
       "    <tr style=\"text-align: right;\">\n",
       "      <th></th>\n",
       "      <th></th>\n",
       "      <th>Year</th>\n",
       "      <th>Month</th>\n",
       "      <th>Temp high (°C)</th>\n",
       "      <th>Temp avg (°C)</th>\n",
       "      <th>Temp low (°C)</th>\n",
       "      <th>Dew Point high (°C)</th>\n",
       "      <th>Dew Point avg (°C)</th>\n",
       "      <th>Dew Point low (°C)</th>\n",
       "      <th>Humidity (%) high</th>\n",
       "      <th>Humidity (%) avg</th>\n",
       "      <th>Humidity (%) low</th>\n",
       "      <th>Sea Level Press. (hPa) high</th>\n",
       "      <th>Sea Level Press. (hPa) avg</th>\n",
       "      <th>Sea Level Press. (hPa) low</th>\n",
       "      <th>Visibility (km) high</th>\n",
       "      <th>Visibility (km) avg</th>\n",
       "      <th>Visibility (km) low</th>\n",
       "      <th>Wind (km/h) low</th>\n",
       "      <th>Wind (km/h) avg</th>\n",
       "      <th>Wind (km/h) high</th>\n",
       "    </tr>\n",
       "    <tr>\n",
       "      <th>Year</th>\n",
       "      <th>Month</th>\n",
       "      <th></th>\n",
       "      <th></th>\n",
       "      <th></th>\n",
       "      <th></th>\n",
       "      <th></th>\n",
       "      <th></th>\n",
       "      <th></th>\n",
       "      <th></th>\n",
       "      <th></th>\n",
       "      <th></th>\n",
       "      <th></th>\n",
       "      <th></th>\n",
       "      <th></th>\n",
       "      <th></th>\n",
       "      <th></th>\n",
       "      <th></th>\n",
       "      <th></th>\n",
       "      <th></th>\n",
       "      <th></th>\n",
       "      <th></th>\n",
       "    </tr>\n",
       "  </thead>\n",
       "  <tbody>\n",
       "    <tr>\n",
       "      <th rowspan=\"5\" valign=\"top\">2009</th>\n",
       "      <th>1</th>\n",
       "      <td>2009</td>\n",
       "      <td>1</td>\n",
       "      <td>0.263158</td>\n",
       "      <td>-3.052632</td>\n",
       "      <td>-6.578947</td>\n",
       "      <td>-8.526316</td>\n",
       "      <td>-12.421053</td>\n",
       "      <td>-15.210526</td>\n",
       "      <td>63.526316</td>\n",
       "      <td>51.315789</td>\n",
       "      <td>38.631579</td>\n",
       "      <td>1022.631579</td>\n",
       "      <td>1018.263158</td>\n",
       "      <td>1013.000000</td>\n",
       "      <td>16.0</td>\n",
       "      <td>16.000000</td>\n",
       "      <td>15.526316</td>\n",
       "      <td>27.473684</td>\n",
       "      <td>12.315789</td>\n",
       "      <td>40.263158</td>\n",
       "    </tr>\n",
       "    <tr>\n",
       "      <th>2</th>\n",
       "      <td>2009</td>\n",
       "      <td>2</td>\n",
       "      <td>5.300000</td>\n",
       "      <td>1.100000</td>\n",
       "      <td>-3.250000</td>\n",
       "      <td>-5.500000</td>\n",
       "      <td>-9.300000</td>\n",
       "      <td>-13.050000</td>\n",
       "      <td>62.800000</td>\n",
       "      <td>48.250000</td>\n",
       "      <td>33.500000</td>\n",
       "      <td>1023.350000</td>\n",
       "      <td>1019.700000</td>\n",
       "      <td>1015.650000</td>\n",
       "      <td>16.0</td>\n",
       "      <td>15.900000</td>\n",
       "      <td>15.400000</td>\n",
       "      <td>27.300000</td>\n",
       "      <td>12.050000</td>\n",
       "      <td>40.300000</td>\n",
       "    </tr>\n",
       "    <tr>\n",
       "      <th>3</th>\n",
       "      <td>2009</td>\n",
       "      <td>3</td>\n",
       "      <td>10.380952</td>\n",
       "      <td>5.952381</td>\n",
       "      <td>1.190476</td>\n",
       "      <td>-1.809524</td>\n",
       "      <td>-5.095238</td>\n",
       "      <td>-8.380952</td>\n",
       "      <td>65.476190</td>\n",
       "      <td>49.333333</td>\n",
       "      <td>32.761905</td>\n",
       "      <td>1027.047619</td>\n",
       "      <td>1023.571429</td>\n",
       "      <td>1019.714286</td>\n",
       "      <td>16.0</td>\n",
       "      <td>15.571429</td>\n",
       "      <td>13.904762</td>\n",
       "      <td>26.000000</td>\n",
       "      <td>11.190476</td>\n",
       "      <td>38.142857</td>\n",
       "    </tr>\n",
       "    <tr>\n",
       "      <th>4</th>\n",
       "      <td>2009</td>\n",
       "      <td>4</td>\n",
       "      <td>19.941176</td>\n",
       "      <td>14.705882</td>\n",
       "      <td>8.705882</td>\n",
       "      <td>4.764706</td>\n",
       "      <td>1.000000</td>\n",
       "      <td>-1.882353</td>\n",
       "      <td>63.470588</td>\n",
       "      <td>45.176471</td>\n",
       "      <td>26.882353</td>\n",
       "      <td>1020.588235</td>\n",
       "      <td>1016.647059</td>\n",
       "      <td>1012.823529</td>\n",
       "      <td>16.0</td>\n",
       "      <td>15.941176</td>\n",
       "      <td>14.882353</td>\n",
       "      <td>26.705882</td>\n",
       "      <td>10.941176</td>\n",
       "      <td>38.470588</td>\n",
       "    </tr>\n",
       "    <tr>\n",
       "      <th>5</th>\n",
       "      <td>2009</td>\n",
       "      <td>5</td>\n",
       "      <td>22.500000</td>\n",
       "      <td>17.428571</td>\n",
       "      <td>12.357143</td>\n",
       "      <td>10.357143</td>\n",
       "      <td>7.500000</td>\n",
       "      <td>4.285714</td>\n",
       "      <td>76.142857</td>\n",
       "      <td>57.857143</td>\n",
       "      <td>39.214286</td>\n",
       "      <td>1022.714286</td>\n",
       "      <td>1020.000000</td>\n",
       "      <td>1017.357143</td>\n",
       "      <td>16.0</td>\n",
       "      <td>15.428571</td>\n",
       "      <td>14.071429</td>\n",
       "      <td>22.142857</td>\n",
       "      <td>7.500000</td>\n",
       "      <td>32.785714</td>\n",
       "    </tr>\n",
       "  </tbody>\n",
       "</table>\n",
       "</div>"
      ],
      "text/plain": [
       "            Year  Month  Temp high (°C)  Temp avg (°C)  Temp low (°C)  \\\n",
       "Year Month                                                              \n",
       "2009 1      2009      1        0.263158      -3.052632      -6.578947   \n",
       "     2      2009      2        5.300000       1.100000      -3.250000   \n",
       "     3      2009      3       10.380952       5.952381       1.190476   \n",
       "     4      2009      4       19.941176      14.705882       8.705882   \n",
       "     5      2009      5       22.500000      17.428571      12.357143   \n",
       "\n",
       "            Dew Point high (°C)  Dew Point avg (°C)  Dew Point low (°C)  \\\n",
       "Year Month                                                                \n",
       "2009 1                -8.526316          -12.421053          -15.210526   \n",
       "     2                -5.500000           -9.300000          -13.050000   \n",
       "     3                -1.809524           -5.095238           -8.380952   \n",
       "     4                 4.764706            1.000000           -1.882353   \n",
       "     5                10.357143            7.500000            4.285714   \n",
       "\n",
       "            Humidity (%) high  Humidity (%) avg  Humidity (%) low  \\\n",
       "Year Month                                                          \n",
       "2009 1              63.526316         51.315789         38.631579   \n",
       "     2              62.800000         48.250000         33.500000   \n",
       "     3              65.476190         49.333333         32.761905   \n",
       "     4              63.470588         45.176471         26.882353   \n",
       "     5              76.142857         57.857143         39.214286   \n",
       "\n",
       "            Sea Level Press. (hPa) high  Sea Level Press. (hPa) avg  \\\n",
       "Year Month                                                            \n",
       "2009 1                      1022.631579                 1018.263158   \n",
       "     2                      1023.350000                 1019.700000   \n",
       "     3                      1027.047619                 1023.571429   \n",
       "     4                      1020.588235                 1016.647059   \n",
       "     5                      1022.714286                 1020.000000   \n",
       "\n",
       "            Sea Level Press. (hPa) low  Visibility (km) high  \\\n",
       "Year Month                                                     \n",
       "2009 1                     1013.000000                  16.0   \n",
       "     2                     1015.650000                  16.0   \n",
       "     3                     1019.714286                  16.0   \n",
       "     4                     1012.823529                  16.0   \n",
       "     5                     1017.357143                  16.0   \n",
       "\n",
       "            Visibility (km) avg  Visibility (km) low  Wind (km/h) low  \\\n",
       "Year Month                                                              \n",
       "2009 1                16.000000            15.526316        27.473684   \n",
       "     2                15.900000            15.400000        27.300000   \n",
       "     3                15.571429            13.904762        26.000000   \n",
       "     4                15.941176            14.882353        26.705882   \n",
       "     5                15.428571            14.071429        22.142857   \n",
       "\n",
       "            Wind (km/h) avg  Wind (km/h) high  \n",
       "Year Month                                     \n",
       "2009 1            12.315789         40.263158  \n",
       "     2            12.050000         40.300000  \n",
       "     3            11.190476         38.142857  \n",
       "     4            10.941176         38.470588  \n",
       "     5             7.500000         32.785714  "
      ]
     },
     "execution_count": 9,
     "metadata": {},
     "output_type": "execute_result"
    }
   ],
   "source": [
    "raw_weather_data = read_weather_data()\n",
    "processed_weather_data = process_weather_data(raw_weather_data)\n",
    "processed_weather_data.head()"
   ]
  },
  {
   "cell_type": "code",
   "execution_count": 10,
   "metadata": {
    "collapsed": true
   },
   "outputs": [],
   "source": [
    "def process_holiday_data(raw_data):\n",
    "    raw_data['Month']=pd.DatetimeIndex(raw_data['MonthDate']).month\n",
    "    raw_data=raw_data.drop('MonthDate',axis=1)\n",
    "    raw_data['Event_Count'] = raw_data['DayCategory']=='Event'\n",
    "    raw_data['Holiday_Count'] = raw_data['DayCategory']=='Federal Holiday'\n",
    "    intermidiate=raw_data[['Year','Month']].drop_duplicates()\n",
    "   # print (intermidiate.shape)\n",
    "    raw=raw_data.groupby(['Year','Month'])['Event_Count','Holiday_Count'].sum()\n",
    "    raw=raw.reset_index()\n",
    "    raw[['Year','Month']]=intermidiate[['Year','Month']]\n",
    "    #print (raw_data[['Year','Month']].drop_duplicates())\n",
    "    return raw.dropna(axis=0, how='any')"
   ]
  },
  {
   "cell_type": "code",
   "execution_count": 11,
   "metadata": {
    "scrolled": true
   },
   "outputs": [
    {
     "data": {
      "text/html": [
       "<div>\n",
       "<style scoped>\n",
       "    .dataframe tbody tr th:only-of-type {\n",
       "        vertical-align: middle;\n",
       "    }\n",
       "\n",
       "    .dataframe tbody tr th {\n",
       "        vertical-align: top;\n",
       "    }\n",
       "\n",
       "    .dataframe thead th {\n",
       "        text-align: right;\n",
       "    }\n",
       "</style>\n",
       "<table border=\"1\" class=\"dataframe\">\n",
       "  <thead>\n",
       "    <tr style=\"text-align: right;\">\n",
       "      <th></th>\n",
       "      <th>Year</th>\n",
       "      <th>Month</th>\n",
       "      <th>Event_Count</th>\n",
       "      <th>Holiday_Count</th>\n",
       "    </tr>\n",
       "  </thead>\n",
       "  <tbody>\n",
       "    <tr>\n",
       "      <th>0</th>\n",
       "      <td>2009.0</td>\n",
       "      <td>1.0</td>\n",
       "      <td>0.0</td>\n",
       "      <td>2.0</td>\n",
       "    </tr>\n",
       "    <tr>\n",
       "      <th>2</th>\n",
       "      <td>2009.0</td>\n",
       "      <td>2.0</td>\n",
       "      <td>1.0</td>\n",
       "      <td>0.0</td>\n",
       "    </tr>\n",
       "    <tr>\n",
       "      <th>4</th>\n",
       "      <td>2009.0</td>\n",
       "      <td>4.0</td>\n",
       "      <td>1.0</td>\n",
       "      <td>0.0</td>\n",
       "    </tr>\n",
       "    <tr>\n",
       "      <th>5</th>\n",
       "      <td>2009.0</td>\n",
       "      <td>5.0</td>\n",
       "      <td>0.0</td>\n",
       "      <td>2.0</td>\n",
       "    </tr>\n",
       "    <tr>\n",
       "      <th>7</th>\n",
       "      <td>2009.0</td>\n",
       "      <td>6.0</td>\n",
       "      <td>1.0</td>\n",
       "      <td>1.0</td>\n",
       "    </tr>\n",
       "  </tbody>\n",
       "</table>\n",
       "</div>"
      ],
      "text/plain": [
       "     Year  Month  Event_Count  Holiday_Count\n",
       "0  2009.0    1.0          0.0            2.0\n",
       "2  2009.0    2.0          1.0            0.0\n",
       "4  2009.0    4.0          1.0            0.0\n",
       "5  2009.0    5.0          0.0            2.0\n",
       "7  2009.0    6.0          1.0            1.0"
      ]
     },
     "execution_count": 11,
     "metadata": {},
     "output_type": "execute_result"
    }
   ],
   "source": [
    "raw_holiday_data=pd.read_excel('F:/Kaggle_version2/Walmart/Events_HolidaysData.xlsx')\n",
    "processed_holiday_data=process_holiday_data(raw_holiday_data)\n",
    "processed_holiday_data.head()"
   ]
  },
  {
   "cell_type": "code",
   "execution_count": 12,
   "metadata": {
    "collapsed": true
   },
   "outputs": [],
   "source": [
    "microfinance_weather=pd.merge(processed_macroeconomic_data,processed_weather_data,on=['Year','Month'],how='inner')"
   ]
  },
  {
   "cell_type": "code",
   "execution_count": 13,
   "metadata": {
    "collapsed": true
   },
   "outputs": [],
   "source": [
    "microfinance_weather_holiday=pd.merge(microfinance_weather,processed_holiday_data, on=['Year','Month'] , how ='left')"
   ]
  },
  {
   "cell_type": "code",
   "execution_count": 14,
   "metadata": {
    "collapsed": true
   },
   "outputs": [],
   "source": [
    "microfinance_weather_holiday=microfinance_weather_holiday.drop(['PartyInPower','AdvertisingExpenses (in Thousand Dollars)'],axis=1)"
   ]
  },
  {
   "cell_type": "code",
   "execution_count": 15,
   "metadata": {
    "collapsed": true,
    "scrolled": true
   },
   "outputs": [],
   "source": [
    "microfinance_weather_holiday=microfinance_weather_holiday.fillna(0)\n",
    "microfinance_weather_holiday['Holiday_Count']=microfinance_weather_holiday['Holiday_Count'].astype(int)"
   ]
  },
  {
   "cell_type": "code",
   "execution_count": 16,
   "metadata": {},
   "outputs": [
    {
     "data": {
      "text/html": [
       "<div>\n",
       "<style scoped>\n",
       "    .dataframe tbody tr th:only-of-type {\n",
       "        vertical-align: middle;\n",
       "    }\n",
       "\n",
       "    .dataframe tbody tr th {\n",
       "        vertical-align: top;\n",
       "    }\n",
       "\n",
       "    .dataframe thead th {\n",
       "        text-align: right;\n",
       "    }\n",
       "</style>\n",
       "<table border=\"1\" class=\"dataframe\">\n",
       "  <thead>\n",
       "    <tr style=\"text-align: right;\">\n",
       "      <th></th>\n",
       "      <th>Monthly Nominal GDP Index (inMillion$)</th>\n",
       "      <th>Monthly Real GDP Index (inMillion$)</th>\n",
       "      <th>CPI</th>\n",
       "      <th>unemployment rate</th>\n",
       "      <th>CommercialBankInterestRateonCreditCardPlans</th>\n",
       "      <th>Finance Rate on Personal Loans at Commercial Banks, 24 Month Loan</th>\n",
       "      <th>Earnings or wages  in dollars per hour</th>\n",
       "      <th>Cotton Monthly Price - US cents per Pound(lbs)</th>\n",
       "      <th>Change(in%)</th>\n",
       "      <th>Average upland planted(million acres)</th>\n",
       "      <th>...</th>\n",
       "      <th>Sea Level Press. (hPa) avg</th>\n",
       "      <th>Sea Level Press. (hPa) low</th>\n",
       "      <th>Visibility (km) high</th>\n",
       "      <th>Visibility (km) avg</th>\n",
       "      <th>Visibility (km) low</th>\n",
       "      <th>Wind (km/h) low</th>\n",
       "      <th>Wind (km/h) avg</th>\n",
       "      <th>Wind (km/h) high</th>\n",
       "      <th>Event_Count</th>\n",
       "      <th>Holiday_Count</th>\n",
       "    </tr>\n",
       "  </thead>\n",
       "  <tbody>\n",
       "    <tr>\n",
       "      <th>0</th>\n",
       "      <td>14421.753</td>\n",
       "      <td>14407.053</td>\n",
       "      <td>233.402</td>\n",
       "      <td>7.8</td>\n",
       "      <td>12.03</td>\n",
       "      <td>11.44</td>\n",
       "      <td>22.05</td>\n",
       "      <td>57.70</td>\n",
       "      <td>4.02</td>\n",
       "      <td>9.296</td>\n",
       "      <td>...</td>\n",
       "      <td>1018.263158</td>\n",
       "      <td>1013.000000</td>\n",
       "      <td>16.0</td>\n",
       "      <td>16.000000</td>\n",
       "      <td>15.526316</td>\n",
       "      <td>27.473684</td>\n",
       "      <td>12.315789</td>\n",
       "      <td>40.263158</td>\n",
       "      <td>0.0</td>\n",
       "      <td>2</td>\n",
       "    </tr>\n",
       "    <tr>\n",
       "      <th>1</th>\n",
       "      <td>14389.200</td>\n",
       "      <td>14366.177</td>\n",
       "      <td>234.663</td>\n",
       "      <td>8.3</td>\n",
       "      <td>12.97</td>\n",
       "      <td>11.05</td>\n",
       "      <td>22.22</td>\n",
       "      <td>55.21</td>\n",
       "      <td>-4.32</td>\n",
       "      <td>9.296</td>\n",
       "      <td>...</td>\n",
       "      <td>1019.700000</td>\n",
       "      <td>1015.650000</td>\n",
       "      <td>16.0</td>\n",
       "      <td>15.900000</td>\n",
       "      <td>15.400000</td>\n",
       "      <td>27.300000</td>\n",
       "      <td>12.050000</td>\n",
       "      <td>40.300000</td>\n",
       "      <td>1.0</td>\n",
       "      <td>0</td>\n",
       "    </tr>\n",
       "    <tr>\n",
       "      <th>2</th>\n",
       "      <td>14340.702</td>\n",
       "      <td>14351.787</td>\n",
       "      <td>235.067</td>\n",
       "      <td>8.7</td>\n",
       "      <td>12.97</td>\n",
       "      <td>11.05</td>\n",
       "      <td>22.22</td>\n",
       "      <td>51.50</td>\n",
       "      <td>-6.72</td>\n",
       "      <td>9.296</td>\n",
       "      <td>...</td>\n",
       "      <td>1023.571429</td>\n",
       "      <td>1019.714286</td>\n",
       "      <td>16.0</td>\n",
       "      <td>15.571429</td>\n",
       "      <td>13.904762</td>\n",
       "      <td>26.000000</td>\n",
       "      <td>11.190476</td>\n",
       "      <td>38.142857</td>\n",
       "      <td>0.0</td>\n",
       "      <td>0</td>\n",
       "    </tr>\n",
       "    <tr>\n",
       "      <th>3</th>\n",
       "      <td>14326.816</td>\n",
       "      <td>14351.602</td>\n",
       "      <td>235.582</td>\n",
       "      <td>9.0</td>\n",
       "      <td>12.97</td>\n",
       "      <td>11.05</td>\n",
       "      <td>22.13</td>\n",
       "      <td>56.78</td>\n",
       "      <td>10.25</td>\n",
       "      <td>9.296</td>\n",
       "      <td>...</td>\n",
       "      <td>1016.647059</td>\n",
       "      <td>1012.823529</td>\n",
       "      <td>16.0</td>\n",
       "      <td>15.941176</td>\n",
       "      <td>14.882353</td>\n",
       "      <td>26.705882</td>\n",
       "      <td>10.941176</td>\n",
       "      <td>38.470588</td>\n",
       "      <td>1.0</td>\n",
       "      <td>0</td>\n",
       "    </tr>\n",
       "    <tr>\n",
       "      <th>4</th>\n",
       "      <td>14345.905</td>\n",
       "      <td>14368.124</td>\n",
       "      <td>235.975</td>\n",
       "      <td>9.4</td>\n",
       "      <td>13.32</td>\n",
       "      <td>11.25</td>\n",
       "      <td>22.04</td>\n",
       "      <td>61.95</td>\n",
       "      <td>9.11</td>\n",
       "      <td>9.297</td>\n",
       "      <td>...</td>\n",
       "      <td>1020.000000</td>\n",
       "      <td>1017.357143</td>\n",
       "      <td>16.0</td>\n",
       "      <td>15.428571</td>\n",
       "      <td>14.071429</td>\n",
       "      <td>22.142857</td>\n",
       "      <td>7.500000</td>\n",
       "      <td>32.785714</td>\n",
       "      <td>0.0</td>\n",
       "      <td>2</td>\n",
       "    </tr>\n",
       "  </tbody>\n",
       "</table>\n",
       "<p>5 rows × 37 columns</p>\n",
       "</div>"
      ],
      "text/plain": [
       "   Monthly Nominal GDP Index (inMillion$)  \\\n",
       "0                               14421.753   \n",
       "1                               14389.200   \n",
       "2                               14340.702   \n",
       "3                               14326.816   \n",
       "4                               14345.905   \n",
       "\n",
       "   Monthly Real GDP Index (inMillion$)      CPI  unemployment rate  \\\n",
       "0                            14407.053  233.402                7.8   \n",
       "1                            14366.177  234.663                8.3   \n",
       "2                            14351.787  235.067                8.7   \n",
       "3                            14351.602  235.582                9.0   \n",
       "4                            14368.124  235.975                9.4   \n",
       "\n",
       "   CommercialBankInterestRateonCreditCardPlans  \\\n",
       "0                                        12.03   \n",
       "1                                        12.97   \n",
       "2                                        12.97   \n",
       "3                                        12.97   \n",
       "4                                        13.32   \n",
       "\n",
       "   Finance Rate on Personal Loans at Commercial Banks, 24 Month Loan  \\\n",
       "0                                              11.44                   \n",
       "1                                              11.05                   \n",
       "2                                              11.05                   \n",
       "3                                              11.05                   \n",
       "4                                              11.25                   \n",
       "\n",
       "   Earnings or wages  in dollars per hour  \\\n",
       "0                                   22.05   \n",
       "1                                   22.22   \n",
       "2                                   22.22   \n",
       "3                                   22.13   \n",
       "4                                   22.04   \n",
       "\n",
       "   Cotton Monthly Price - US cents per Pound(lbs)  Change(in%)  \\\n",
       "0                                           57.70         4.02   \n",
       "1                                           55.21        -4.32   \n",
       "2                                           51.50        -6.72   \n",
       "3                                           56.78        10.25   \n",
       "4                                           61.95         9.11   \n",
       "\n",
       "   Average upland planted(million acres)      ...        \\\n",
       "0                                  9.296      ...         \n",
       "1                                  9.296      ...         \n",
       "2                                  9.296      ...         \n",
       "3                                  9.296      ...         \n",
       "4                                  9.297      ...         \n",
       "\n",
       "   Sea Level Press. (hPa) avg  Sea Level Press. (hPa) low  \\\n",
       "0                 1018.263158                 1013.000000   \n",
       "1                 1019.700000                 1015.650000   \n",
       "2                 1023.571429                 1019.714286   \n",
       "3                 1016.647059                 1012.823529   \n",
       "4                 1020.000000                 1017.357143   \n",
       "\n",
       "   Visibility (km) high  Visibility (km) avg  Visibility (km) low  \\\n",
       "0                  16.0            16.000000            15.526316   \n",
       "1                  16.0            15.900000            15.400000   \n",
       "2                  16.0            15.571429            13.904762   \n",
       "3                  16.0            15.941176            14.882353   \n",
       "4                  16.0            15.428571            14.071429   \n",
       "\n",
       "   Wind (km/h) low  Wind (km/h) avg  Wind (km/h) high  Event_Count  \\\n",
       "0        27.473684        12.315789         40.263158          0.0   \n",
       "1        27.300000        12.050000         40.300000          1.0   \n",
       "2        26.000000        11.190476         38.142857          0.0   \n",
       "3        26.705882        10.941176         38.470588          1.0   \n",
       "4        22.142857         7.500000         32.785714          0.0   \n",
       "\n",
       "   Holiday_Count  \n",
       "0              2  \n",
       "1              0  \n",
       "2              0  \n",
       "3              0  \n",
       "4              2  \n",
       "\n",
       "[5 rows x 37 columns]"
      ]
     },
     "execution_count": 16,
     "metadata": {},
     "output_type": "execute_result"
    }
   ],
   "source": [
    "#sns.heatmap(microfinance_weather_holiday.corr())\n",
    "#plt.plot(microfinance_weather_holiday)\n",
    "microfinance_weather_holiday.head()"
   ]
  },
  {
   "cell_type": "code",
   "execution_count": 17,
   "metadata": {
    "collapsed": true
   },
   "outputs": [],
   "source": [
    "def train_data_process(raw_data):\n",
    "    inter=raw_data[['Year','Month']].drop_duplicates()\n",
    "    raw_data=raw_data.groupby(['Year','Month'])['Sales(In ThousandDollars)'].sum().reset_index()\n",
    "    return raw_data\n",
    "    \n",
    "    "
   ]
  },
  {
   "cell_type": "code",
   "execution_count": 18,
   "metadata": {},
   "outputs": [
    {
     "data": {
      "text/html": [
       "<div>\n",
       "<style scoped>\n",
       "    .dataframe tbody tr th:only-of-type {\n",
       "        vertical-align: middle;\n",
       "    }\n",
       "\n",
       "    .dataframe tbody tr th {\n",
       "        vertical-align: top;\n",
       "    }\n",
       "\n",
       "    .dataframe thead th {\n",
       "        text-align: right;\n",
       "    }\n",
       "</style>\n",
       "<table border=\"1\" class=\"dataframe\">\n",
       "  <thead>\n",
       "    <tr style=\"text-align: right;\">\n",
       "      <th></th>\n",
       "      <th>Year</th>\n",
       "      <th>Month</th>\n",
       "      <th>Sales(In ThousandDollars)</th>\n",
       "    </tr>\n",
       "  </thead>\n",
       "  <tbody>\n",
       "    <tr>\n",
       "      <th>0</th>\n",
       "      <td>2009</td>\n",
       "      <td>1</td>\n",
       "      <td>3215.0</td>\n",
       "    </tr>\n",
       "    <tr>\n",
       "      <th>1</th>\n",
       "      <td>2009</td>\n",
       "      <td>2</td>\n",
       "      <td>3084.0</td>\n",
       "    </tr>\n",
       "    <tr>\n",
       "      <th>2</th>\n",
       "      <td>2009</td>\n",
       "      <td>3</td>\n",
       "      <td>3719.0</td>\n",
       "    </tr>\n",
       "    <tr>\n",
       "      <th>3</th>\n",
       "      <td>2009</td>\n",
       "      <td>4</td>\n",
       "      <td>4245.0</td>\n",
       "    </tr>\n",
       "    <tr>\n",
       "      <th>4</th>\n",
       "      <td>2009</td>\n",
       "      <td>5</td>\n",
       "      <td>4371.0</td>\n",
       "    </tr>\n",
       "  </tbody>\n",
       "</table>\n",
       "</div>"
      ],
      "text/plain": [
       "   Year  Month  Sales(In ThousandDollars)\n",
       "0  2009      1                     3215.0\n",
       "1  2009      2                     3084.0\n",
       "2  2009      3                     3719.0\n",
       "3  2009      4                     4245.0\n",
       "4  2009      5                     4371.0"
      ]
     },
     "execution_count": 18,
     "metadata": {},
     "output_type": "execute_result"
    }
   ],
   "source": [
    "raw_training_data=pd.read_csv('F:/Kaggle_version2/Walmart/Train_Kaggle.csv')\n",
    "processed_train_data=train_data_process(raw_training_data)\n",
    "processed_train_data.head()"
   ]
  },
  {
   "cell_type": "code",
   "execution_count": 19,
   "metadata": {
    "collapsed": true
   },
   "outputs": [],
   "source": [
    "mwht=pd.merge(microfinance_weather_holiday,processed_train_data,on=['Year','Month'],how='inner')\n",
    "mwht=mwht.fillna(0)"
   ]
  },
  {
   "cell_type": "code",
   "execution_count": 20,
   "metadata": {},
   "outputs": [
    {
     "data": {
      "text/plain": [
       "(72, 38)"
      ]
     },
     "execution_count": 20,
     "metadata": {},
     "output_type": "execute_result"
    }
   ],
   "source": [
    "mwht['Year'].unique()\n",
    "mwht.shape"
   ]
  },
  {
   "cell_type": "code",
   "execution_count": 21,
   "metadata": {
    "collapsed": true
   },
   "outputs": [],
   "source": [
    "Y_train=mwht['Sales(In ThousandDollars)']\n",
    "x_train=mwht.drop(['Sales(In ThousandDollars)'],axis=1)\n"
   ]
  },
  {
   "cell_type": "code",
   "execution_count": 22,
   "metadata": {},
   "outputs": [
    {
     "data": {
      "text/html": [
       "<div>\n",
       "<style scoped>\n",
       "    .dataframe tbody tr th:only-of-type {\n",
       "        vertical-align: middle;\n",
       "    }\n",
       "\n",
       "    .dataframe tbody tr th {\n",
       "        vertical-align: top;\n",
       "    }\n",
       "\n",
       "    .dataframe thead th {\n",
       "        text-align: right;\n",
       "    }\n",
       "</style>\n",
       "<table border=\"1\" class=\"dataframe\">\n",
       "  <thead>\n",
       "    <tr style=\"text-align: right;\">\n",
       "      <th></th>\n",
       "      <th>Year</th>\n",
       "      <th>Month</th>\n",
       "      <th>Sales(In ThousandDollars)</th>\n",
       "    </tr>\n",
       "  </thead>\n",
       "  <tbody>\n",
       "    <tr>\n",
       "      <th>0</th>\n",
       "      <td>2015</td>\n",
       "      <td>1</td>\n",
       "      <td>0.0</td>\n",
       "    </tr>\n",
       "    <tr>\n",
       "      <th>1</th>\n",
       "      <td>2015</td>\n",
       "      <td>2</td>\n",
       "      <td>0.0</td>\n",
       "    </tr>\n",
       "    <tr>\n",
       "      <th>2</th>\n",
       "      <td>2015</td>\n",
       "      <td>3</td>\n",
       "      <td>0.0</td>\n",
       "    </tr>\n",
       "    <tr>\n",
       "      <th>3</th>\n",
       "      <td>2015</td>\n",
       "      <td>4</td>\n",
       "      <td>0.0</td>\n",
       "    </tr>\n",
       "    <tr>\n",
       "      <th>4</th>\n",
       "      <td>2015</td>\n",
       "      <td>5</td>\n",
       "      <td>0.0</td>\n",
       "    </tr>\n",
       "  </tbody>\n",
       "</table>\n",
       "</div>"
      ],
      "text/plain": [
       "   Year  Month  Sales(In ThousandDollars)\n",
       "0  2015      1                        0.0\n",
       "1  2015      2                        0.0\n",
       "2  2015      3                        0.0\n",
       "3  2015      4                        0.0\n",
       "4  2015      5                        0.0"
      ]
     },
     "execution_count": 22,
     "metadata": {},
     "output_type": "execute_result"
    }
   ],
   "source": [
    "raw_test_data=pd.read_csv('F:/Kaggle_version2/Walmart/Test_Kaggle.csv')\n",
    "raw_test_data=raw_test_data.fillna(0)\n",
    "processed_test_data=train_data_process(raw_test_data)\n",
    "processed_test_data.head()"
   ]
  },
  {
   "cell_type": "code",
   "execution_count": 23,
   "metadata": {
    "collapsed": true
   },
   "outputs": [],
   "source": [
    "mwhtest=pd.merge(microfinance_weather_holiday,processed_test_data,on=['Year','Month'],how='inner')\n",
    "x_test=mwhtest.drop(['Sales(In ThousandDollars)'],axis=1)"
   ]
  },
  {
   "cell_type": "code",
   "execution_count": 38,
   "metadata": {},
   "outputs": [
    {
     "data": {
      "text/plain": [
       "StandardScaler(copy=True, with_mean=True, with_std=True)"
      ]
     },
     "execution_count": 38,
     "metadata": {},
     "output_type": "execute_result"
    }
   ],
   "source": [
    "from sklearn.preprocessing import StandardScaler\n",
    "scaler = StandardScaler()\n",
    "# Fit only to the training data\n",
    "scaler.fit(x_train)"
   ]
  },
  {
   "cell_type": "code",
   "execution_count": 39,
   "metadata": {
    "collapsed": true
   },
   "outputs": [],
   "source": [
    "x_train = scaler.transform(x_train)\n",
    "x_test = scaler.transform(x_test)"
   ]
  },
  {
   "cell_type": "code",
   "execution_count": 40,
   "metadata": {},
   "outputs": [
    {
     "data": {
      "text/plain": [
       "MLPClassifier(activation='relu', alpha=0.0001, batch_size='auto', beta_1=0.9,\n",
       "       beta_2=0.999, early_stopping=False, epsilon=1e-08,\n",
       "       hidden_layer_sizes=(30, 25, 20, 15, 10, 5, 3, 2, 1),\n",
       "       learning_rate='constant', learning_rate_init=0.001, max_iter=200,\n",
       "       momentum=0.9, nesterovs_momentum=True, power_t=0.5,\n",
       "       random_state=None, shuffle=True, solver='adam', tol=0.0001,\n",
       "       validation_fraction=0.1, verbose=False, warm_start=False)"
      ]
     },
     "execution_count": 40,
     "metadata": {},
     "output_type": "execute_result"
    }
   ],
   "source": [
    "from sklearn.neural_network import MLPClassifier\n",
    "mlp = MLPClassifier(hidden_layer_sizes=(30,25,20,15,10,5,3,2,1))\n",
    "mlp.fit(x_train,Y_train)"
   ]
  },
  {
   "cell_type": "code",
   "execution_count": 41,
   "metadata": {},
   "outputs": [
    {
     "data": {
      "text/plain": [
       "array([5537., 5537., 5537., 5537., 5537., 5537., 5537., 5537., 5537.,\n",
       "       5537., 5537., 5537.])"
      ]
     },
     "execution_count": 41,
     "metadata": {},
     "output_type": "execute_result"
    }
   ],
   "source": [
    "predictions = mlp.predict(x_test)\n",
    "predictions"
   ]
  },
  {
   "cell_type": "code",
   "execution_count": 44,
   "metadata": {
    "scrolled": true
   },
   "outputs": [],
   "source": [
    "mlp?"
   ]
  },
  {
   "cell_type": "code",
   "execution_count": 32,
   "metadata": {},
   "outputs": [
    {
     "name": "stdout",
     "output_type": "stream",
     "text": [
      "Epoch 1/50\n",
      "72/72 [==============================] - 1s 7ms/step - loss: 25038104.4444 - acc: 0.0000e+00\n",
      "Epoch 2/50\n",
      "72/72 [==============================] - 0s 434us/step - loss: 25038104.8889 - acc: 0.0000e+00\n",
      "Epoch 3/50\n",
      "72/72 [==============================] - 0s 434us/step - loss: 25038104.0000 - acc: 0.0000e+00\n",
      "Epoch 4/50\n",
      "72/72 [==============================] - 0s 518us/step - loss: 25038104.0000 - acc: 0.0000e+00\n",
      "Epoch 5/50\n",
      "72/72 [==============================] - 0s 217us/step - loss: 25038104.4444 - acc: 0.0000e+00\n",
      "Epoch 6/50\n",
      "72/72 [==============================] - 0s 434us/step - loss: 25038104.2222 - acc: 0.0000e+00\n",
      "Epoch 7/50\n",
      "72/72 [==============================] - 0s 307us/step - loss: 25038102.4444 - acc: 0.0000e+00\n",
      "Epoch 8/50\n",
      "72/72 [==============================] - 0s 651us/step - loss: 25038105.7778 - acc: 0.0000e+00\n",
      "Epoch 9/50\n",
      "72/72 [==============================] - 0s 651us/step - loss: 25038103.5556 - acc: 0.0000e+00\n",
      "Epoch 10/50\n",
      "72/72 [==============================] - 0s 231us/step - loss: 25038103.5556 - acc: 0.0000e+00\n",
      "Epoch 11/50\n",
      "72/72 [==============================] - 0s 434us/step - loss: 25038104.8889 - acc: 0.0000e+00\n",
      "Epoch 12/50\n",
      "72/72 [==============================] - 0s 280us/step - loss: 25038104.4444 - acc: 0.0000e+00\n",
      "Epoch 13/50\n",
      "72/72 [==============================] - 0s 651us/step - loss: 25038104.2222 - acc: 0.0000e+00\n",
      "Epoch 14/50\n",
      "72/72 [==============================] - 0s 525us/step - loss: 25038104.4444 - acc: 0.0000e+00\n",
      "Epoch 15/50\n",
      "72/72 [==============================] - 0s 379us/step - loss: 25038104.0000 - acc: 0.0000e+00\n",
      "Epoch 16/50\n",
      "72/72 [==============================] - 0s 434us/step - loss: 25038103.5556 - acc: 0.0000e+00\n",
      "Epoch 17/50\n",
      "72/72 [==============================] - 0s 769us/step - loss: 25038104.0000 - acc: 0.0000e+00\n",
      "Epoch 18/50\n",
      "72/72 [==============================] - 0s 434us/step - loss: 25038104.4444 - acc: 0.0000e+00\n",
      "Epoch 19/50\n",
      "72/72 [==============================] - 0s 601us/step - loss: 25038104.0000 - acc: 0.0000e+00\n",
      "Epoch 20/50\n",
      "72/72 [==============================] - 0s 480us/step - loss: 25038104.2222 - acc: 0.0000e+00\n",
      "Epoch 21/50\n",
      "72/72 [==============================] - 0s 403us/step - loss: 25038104.6667 - acc: 0.0000e+00\n",
      "Epoch 22/50\n",
      "72/72 [==============================] - ETA: 0s - loss: 27470884.0000 - acc: 0.0000e+ - 0s 416us/step - loss: 25038104.2222 - acc: 0.0000e+00\n",
      "Epoch 23/50\n",
      "72/72 [==============================] - 0s 434us/step - loss: 25038103.5556 - acc: 0.0000e+00\n",
      "Epoch 24/50\n",
      "72/72 [==============================] - 0s 321us/step - loss: 25038104.0000 - acc: 0.0000e+00\n",
      "Epoch 25/50\n",
      "72/72 [==============================] - 0s 651us/step - loss: 25038104.4444 - acc: 0.0000e+00\n",
      "Epoch 26/50\n",
      "72/72 [==============================] - 0s 434us/step - loss: 25038103.7778 - acc: 0.0000e+00\n",
      "Epoch 27/50\n",
      "72/72 [==============================] - 0s 483us/step - loss: 25038104.0000 - acc: 0.0000e+00\n",
      "Epoch 28/50\n",
      "72/72 [==============================] - 0s 434us/step - loss: 25038103.5556 - acc: 0.0000e+00\n",
      "Epoch 29/50\n",
      "72/72 [==============================] - 0s 511us/step - loss: 25038103.1111 - acc: 0.0000e+00\n",
      "Epoch 30/50\n",
      "72/72 [==============================] - 0s 434us/step - loss: 25038102.6667 - acc: 0.0000e+00\n",
      "Epoch 31/50\n",
      "72/72 [==============================] - 0s 216us/step - loss: 25038103.5556 - acc: 0.0000e+00\n",
      "Epoch 32/50\n",
      "72/72 [==============================] - 0s 307us/step - loss: 25038104.6667 - acc: 0.0000e+00\n",
      "Epoch 33/50\n",
      "72/72 [==============================] - ETA: 0s - loss: 26186954.0000 - acc: 0.0000e+ - 0s 217us/step - loss: 25038104.0000 - acc: 0.0000e+00\n",
      "Epoch 34/50\n",
      "72/72 [==============================] - 0s 434us/step - loss: 25038104.2222 - acc: 0.0000e+00\n",
      "Epoch 35/50\n",
      "72/72 [==============================] - 0s 742us/step - loss: 25038103.1111 - acc: 0.0000e+00\n",
      "Epoch 36/50\n",
      "72/72 [==============================] - 0s 651us/step - loss: 25038104.2222 - acc: 0.0000e+00\n",
      "Epoch 37/50\n",
      "72/72 [==============================] - 0s 525us/step - loss: 25038103.5556 - acc: 0.0000e+00\n",
      "Epoch 38/50\n",
      "72/72 [==============================] - 0s 570us/step - loss: 25038104.4444 - acc: 0.0000e+00\n",
      "Epoch 39/50\n",
      "72/72 [==============================] - 0s 368us/step - loss: 25038104.0000 - acc: 0.0000e+00\n",
      "Epoch 40/50\n",
      "72/72 [==============================] - 0s 334us/step - loss: 25038104.2222 - acc: 0.0000e+00\n",
      "Epoch 41/50\n",
      "72/72 [==============================] - 0s 868us/step - loss: 25038104.4444 - acc: 0.0000e+00\n",
      "Epoch 42/50\n",
      "72/72 [==============================] - 0s 532us/step - loss: 25038104.4444 - acc: 0.0000e+00\n",
      "Epoch 43/50\n",
      "72/72 [==============================] - 0s 217us/step - loss: 25038103.3333 - acc: 0.0000e+00\n",
      "Epoch 44/50\n",
      "72/72 [==============================] - 0s 217us/step - loss: 25038104.8889 - acc: 0.0000e+00\n",
      "Epoch 45/50\n",
      "72/72 [==============================] - 0s 525us/step - loss: 25038103.1111 - acc: 0.0000e+00\n",
      "Epoch 46/50\n",
      "72/72 [==============================] - 0s 651us/step - loss: 25038103.5556 - acc: 0.0000e+00\n",
      "Epoch 47/50\n",
      "72/72 [==============================] - 0s 434us/step - loss: 25038103.1111 - acc: 0.0000e+00\n",
      "Epoch 48/50\n",
      "72/72 [==============================] - 0s 525us/step - loss: 25038104.0000 - acc: 0.0000e+00\n",
      "Epoch 49/50\n",
      "72/72 [==============================] - 0s 434us/step - loss: 25038104.4444 - acc: 0.0000e+00\n",
      "Epoch 50/50\n",
      "72/72 [==============================] - 0s 525us/step - loss: 25038104.0000 - acc: 0.0000e+00\n"
     ]
    },
    {
     "data": {
      "text/plain": [
       "<keras.callbacks.History at 0x16b906d1780>"
      ]
     },
     "execution_count": 32,
     "metadata": {},
     "output_type": "execute_result"
    }
   ],
   "source": []
  },
  {
   "cell_type": "code",
   "execution_count": null,
   "metadata": {
    "collapsed": true
   },
   "outputs": [],
   "source": []
  },
  {
   "cell_type": "code",
   "execution_count": null,
   "metadata": {
    "collapsed": true
   },
   "outputs": [],
   "source": []
  },
  {
   "cell_type": "code",
   "execution_count": null,
   "metadata": {
    "collapsed": true
   },
   "outputs": [],
   "source": []
  },
  {
   "cell_type": "markdown",
   "metadata": {},
   "source": []
  },
  {
   "cell_type": "code",
   "execution_count": null,
   "metadata": {
    "collapsed": true
   },
   "outputs": [],
   "source": []
  },
  {
   "cell_type": "code",
   "execution_count": null,
   "metadata": {
    "collapsed": true
   },
   "outputs": [],
   "source": []
  },
  {
   "cell_type": "code",
   "execution_count": null,
   "metadata": {
    "collapsed": true
   },
   "outputs": [],
   "source": []
  },
  {
   "cell_type": "markdown",
   "metadata": {},
   "source": [
    "Join finance and holiday data frame"
   ]
  },
  {
   "cell_type": "code",
   "execution_count": null,
   "metadata": {
    "collapsed": true
   },
   "outputs": [],
   "source": []
  },
  {
   "cell_type": "code",
   "execution_count": null,
   "metadata": {
    "collapsed": true
   },
   "outputs": [],
   "source": [
    "\n",
    "        "
   ]
  },
  {
   "cell_type": "code",
   "execution_count": null,
   "metadata": {
    "collapsed": true
   },
   "outputs": [],
   "source": []
  },
  {
   "cell_type": "code",
   "execution_count": null,
   "metadata": {
    "collapsed": true
   },
   "outputs": [],
   "source": []
  },
  {
   "cell_type": "code",
   "execution_count": null,
   "metadata": {
    "collapsed": true
   },
   "outputs": [],
   "source": []
  },
  {
   "cell_type": "code",
   "execution_count": null,
   "metadata": {
    "collapsed": true
   },
   "outputs": [],
   "source": []
  },
  {
   "cell_type": "code",
   "execution_count": null,
   "metadata": {
    "collapsed": true
   },
   "outputs": [],
   "source": []
  },
  {
   "cell_type": "code",
   "execution_count": null,
   "metadata": {
    "collapsed": true
   },
   "outputs": [],
   "source": []
  },
  {
   "cell_type": "code",
   "execution_count": null,
   "metadata": {
    "collapsed": true
   },
   "outputs": [],
   "source": []
  },
  {
   "cell_type": "code",
   "execution_count": 28,
   "metadata": {},
   "outputs": [
    {
     "data": {
      "text/plain": [
       "'0.22.0'"
      ]
     },
     "execution_count": 28,
     "metadata": {},
     "output_type": "execute_result"
    }
   ],
   "source": [
    "pd.__version__"
   ]
  },
  {
   "cell_type": "code",
   "execution_count": null,
   "metadata": {
    "collapsed": true
   },
   "outputs": [],
   "source": []
  },
  {
   "cell_type": "code",
   "execution_count": null,
   "metadata": {
    "collapsed": true
   },
   "outputs": [],
   "source": []
  },
  {
   "cell_type": "code",
   "execution_count": null,
   "metadata": {
    "collapsed": true
   },
   "outputs": [],
   "source": []
  },
  {
   "cell_type": "code",
   "execution_count": null,
   "metadata": {
    "collapsed": true
   },
   "outputs": [],
   "source": []
  },
  {
   "cell_type": "code",
   "execution_count": null,
   "metadata": {
    "collapsed": true
   },
   "outputs": [],
   "source": []
  },
  {
   "cell_type": "code",
   "execution_count": null,
   "metadata": {
    "collapsed": true
   },
   "outputs": [],
   "source": []
  },
  {
   "cell_type": "code",
   "execution_count": null,
   "metadata": {
    "collapsed": true
   },
   "outputs": [],
   "source": []
  }
 ],
 "metadata": {
  "kernelspec": {
   "display_name": "Python 3",
   "language": "python",
   "name": "python3"
  },
  "language_info": {
   "codemirror_mode": {
    "name": "ipython",
    "version": 3
   },
   "file_extension": ".py",
   "mimetype": "text/x-python",
   "name": "python",
   "nbconvert_exporter": "python",
   "pygments_lexer": "ipython3",
   "version": "3.6.3"
  }
 },
 "nbformat": 4,
 "nbformat_minor": 2
}
